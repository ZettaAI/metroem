{
 "cells": [
  {
   "cell_type": "code",
   "execution_count": 2,
   "metadata": {},
   "outputs": [
    {
     "name": "stderr",
     "output_type": "stream",
     "text": [
      "/usr/people/popovych/env/corgie_merge/lib/python3.7/site-packages/IPython/html.py:14: ShimWarning: The `IPython.html` package has been deprecated since IPython 4.0. You should import from `notebook` instead. `IPython.html.widgets` has moved to `ipywidgets`.\n",
      "  \"`IPython.html.widgets` has moved to `ipywidgets`.\", ShimWarning)\n"
     ]
    }
   ],
   "source": [
    "%matplotlib inline\n",
    "%load_ext autoreload\n",
    "%autoreload 2\n",
    "import cloudvolume as cv\n",
    "import torch\n",
    "\n",
    "from visualize import PyramidVisualizer, get_dataset, simple_visualizer\n",
    "from metroem.aligner import Aligner"
   ]
  },
  {
   "cell_type": "code",
   "execution_count": 49,
   "metadata": {},
   "outputs": [],
   "source": [
    "#raw_img_path = 'gs://corgie_package/paper/basil_data_x0/aligned_x0/img/img_full_x0_rend'\n",
    "raw_img_path = 'https://s3-hpcrc.rc.princeton.edu/fafbv15-em/v1'\n",
    "raw_img_path = 'gs://tmacrina-corgie-test/fafbv15/precoarse_v15-1/sample/onepass_test/img/img_v2'\n",
    "\n",
    "#raw_img_path = 'gs://tmacrina-corgie-test/fafbv15/precoarse_v15-1/sample/img/img_normalized'\n",
    "#masked_img_path = 'gs://corgie_package/paper/basil_data_x0/img/img_normed_with_cracks'\n",
    "#field_path = 'gs://corgie_package/paper/basil_data_x0/aligned_x0/field/field_full_x0'\n",
    "#masked_img_mip = 4\n",
    "img_mip = 4\n",
    "#field_mip = 4\n",
    "z = 165\n",
    "x_start = 140000\n",
    "y_start = 50000\n",
    "x_size = 1024 * 2**img_mip\n",
    "y_size = x_size\n",
    "pad = 64 * 2**3\n",
    "#\n",
    "#img_cv = cv.CloudVolume(raw_img_path, mip=img_mip, parallel=True, progress=False)\n",
    "#masked_img_cv = cv.CloudVolume(masked_img_path, mip=masked_img_mip, parallel=True, progress=False)\n",
    "#field_cv = cv.CloudVolume(field_path, mip=field_mip, parallel=True, progress=False)"
   ]
  },
  {
   "cell_type": "code",
   "execution_count": 50,
   "metadata": {},
   "outputs": [],
   "source": [
    "img_cv = cv.CloudVolume(raw_img_path, mip=img_mip, parallel=True, progress=False)"
   ]
  },
  {
   "cell_type": "raw",
   "metadata": {},
   "source": []
  },
  {
   "cell_type": "code",
   "execution_count": 51,
   "metadata": {},
   "outputs": [],
   "source": [
    "import metroem\n"
   ]
  },
  {
   "cell_type": "code",
   "execution_count": 52,
   "metadata": {},
   "outputs": [],
   "source": [
    "img1_np = img_cv[(x_start-pad)//2**img_mip:(x_start+x_size+pad)//2**img_mip, (y_start-pad)//2**img_mip:(y_start+y_size+pad)//2**img_mip, z:z+1].squeeze()\n",
    "img2_np = img_cv[(x_start-pad)//2**img_mip:(x_start+x_size+pad)//2**img_mip, (y_start-pad)//2**img_mip:(y_start+y_size+pad)//2**img_mip, z+1:z+2].squeeze()"
   ]
  },
  {
   "cell_type": "code",
   "execution_count": 53,
   "metadata": {},
   "outputs": [
    {
     "data": {
      "text/plain": [
       "torch.Size([1, 1, 1088, 1088])"
      ]
     },
     "execution_count": 53,
     "metadata": {},
     "output_type": "execute_result"
    }
   ],
   "source": [
    "img1.shape"
   ]
  },
  {
   "cell_type": "code",
   "execution_count": 54,
   "metadata": {},
   "outputs": [],
   "source": [
    "img1 = torch.tensor(img1_np).float().cuda().unsqueeze(0).unsqueeze(0)\n",
    "img2 =  torch.tensor(img2_np).float().cuda().unsqueeze(0).unsqueeze(0)\n",
    "img1 = metroem.helpers.normalize(img1, mask=img1!=0)\n",
    "img2 = metroem.helpers.normalize(img2, mask=img2!=0)"
   ]
  },
  {
   "cell_type": "code",
   "execution_count": 55,
   "metadata": {},
   "outputs": [
    {
     "data": {
      "application/vnd.jupyter.widget-view+json": {
       "model_id": "36f93d5d4a7141d49468d65f4e80a675",
       "version_major": 2,
       "version_minor": 0
      },
      "text/plain": [
       "interactive(children=(ToggleButtons(description='Image:', options=(0, 1), value=0), IntText(value=1, descripti…"
      ]
     },
     "metadata": {},
     "output_type": "display_data"
    }
   ],
   "source": [
    "simple_visualizer().visualize([\n",
    "    img1,\n",
    "    img2\n",
    "    \n",
    "])"
   ]
  },
  {
   "cell_type": "code",
   "execution_count": 56,
   "metadata": {},
   "outputs": [],
   "source": [
    "model_path = 'gs://tmacrina-corgie-test/models/fly_m4_210601_plain100_metric167/2_mip4in_mip5module'"
   ]
  },
  {
   "cell_type": "code",
   "execution_count": 14,
   "metadata": {},
   "outputs": [
    {
     "name": "stdout",
     "output_type": "stream",
     "text": [
      "/usr/people/popovych/.modelhouse/tmp_files/tmp167nataw/model/model_spec.json\n",
      "block_6convs_fms8to32_skip25.json\n",
      "categorical/categorical_compch15_gridfalse_maxvalue7_outch2_stepnull_trainsttrue.json\n",
      "identity.json\n",
      "embedder_m0_3x3_fms3x.json\n",
      "block_5convs_3x3_fms1to3_skip14.json\n",
      "average_pool.json\n",
      "embedder_fms4to3.json\n",
      "block_3convs_3x3_fms4to32to3.json\n",
      "average_pool.json\n",
      "block_3convs_3x3_fms3to32to3.json\n",
      "identity.json\n",
      "identity.json\n",
      "identity.json\n",
      "upsample_residuals.json\n",
      "identity.json\n"
     ]
    },
    {
     "name": "stderr",
     "output_type": "stream",
     "text": [
      "/usr/people/popovych/env/corgie_merge/lib/python3.7/site-packages/artificery/parsers/categorical_regression/parse.py:38: UserWarning: torch.range is deprecated in favor of torch.arange and will be removed in 0.5. Note that arange generates values in [start; end), not [start; end].\n",
      "  requires_grad=False) - self.component_channels//2\n"
     ]
    },
    {
     "name": "stdout",
     "output_type": "stream",
     "text": [
      "/usr/people/popovych/.modelhouse/tmp_files/tmpkvf3nu77/model/model_spec.json\n",
      "block_6convs_fms8to32_skip25.json\n",
      "categorical/categorical_compch15_gridfalse_maxvalue7_outch2_stepnull_trainsttrue.json\n",
      "identity.json\n",
      "embedder_m0_3x3_fms3x.json\n",
      "block_5convs_3x3_fms1to3_skip14.json\n",
      "average_pool.json\n",
      "embedder_fms4to3.json\n",
      "block_3convs_3x3_fms4to32to3.json\n",
      "average_pool.json\n",
      "block_3convs_3x3_fms3to32to3.json\n",
      "identity.json\n",
      "identity.json\n",
      "identity.json\n",
      "upsample_residuals.json\n",
      "identity.json\n"
     ]
    },
    {
     "name": "stderr",
     "output_type": "stream",
     "text": [
      "/usr/people/popovych/env/corgie_merge/lib/python3.7/site-packages/artificery/parsers/categorical_regression/parse.py:38: UserWarning: torch.range is deprecated in favor of torch.arange and will be removed in 0.5. Note that arange generates values in [start; end), not [start; end].\n",
      "  requires_grad=False) - self.component_channels//2\n"
     ]
    }
   ],
   "source": [
    "import modelhouse\n",
    "import json\n",
    "\n",
    "stage = 3\n",
    "checkpoint_name = \"test_no_batchnorm\"\n",
    "embedder = modelhouse.loading.uncached_load_model_str(\n",
    "    #'/usr/people/popovych/metro_models/pure_emb_x1_lite/0_mip7in_purity', \n",
    "     model_path, \n",
    "     params=json.dumps({\n",
    "        \"checkpoint_name\": checkpoint_name,\n",
    "        \"finetune\": False\n",
    "})).cuda()\n",
    "\n",
    "miss_detect =  modelhouse.loading.uncached_load_model_str(\"~/models/misalign_detect_fafb_m4\", params='{}').cuda()"
   ]
  },
  {
   "cell_type": "code",
   "execution_count": null,
   "metadata": {},
   "outputs": [],
   "source": [
    "miss_detect =  modelhouse.loading.uncached_load_model_str(\"~/models/misalign_detect_fafb_m4\", params='{}').cuda()"
   ]
  },
  {
   "cell_type": "code",
   "execution_count": 68,
   "metadata": {},
   "outputs": [],
   "source": [
    "pred_mask = miss_detect(img1, img2)"
   ]
  },
  {
   "cell_type": "code",
   "execution_count": 69,
   "metadata": {},
   "outputs": [
    {
     "data": {
      "text/plain": [
       "tensor(0.4321, device='cuda:0')"
      ]
     },
     "execution_count": 69,
     "metadata": {},
     "output_type": "execute_result"
    }
   ],
   "source": [
    "emb1.max()*0.6"
   ]
  },
  {
   "cell_type": "markdown",
   "metadata": {},
   "source": [
    "# Misalignment Detector"
   ]
  },
  {
   "cell_type": "code",
   "execution_count": 57,
   "metadata": {},
   "outputs": [
    {
     "name": "stderr",
     "output_type": "stream",
     "text": [
      "/usr/people/popovych/env/corgie_merge/lib/python3.7/site-packages/ipykernel_launcher.py:11: DeprecationWarning: `np.bool` is a deprecated alias for the builtin `bool`. To silence this warning, use `bool` by itself. Doing this will not modify any behavior and is safe. If you specifically wanted the numpy scalar type, use `np.bool_` here.\n",
      "Deprecated in NumPy 1.20; for more details and guidance: https://numpy.org/devdocs/release/1.20.0-notes.html#deprecations\n",
      "  # This is added back by InteractiveShellApp.init_path()\n"
     ]
    }
   ],
   "source": [
    "import cc3d\n",
    "import numpy as np\n",
    "import fastremap \n",
    "\n",
    "\n",
    "from metroem.helpers import downsample, upsample, get_np\n",
    "from metroem.masks import dilate, closing\n",
    "\n",
    "\n",
    "def filter_small(mask, th=100):\n",
    "    cc_labels = cc3d.connected_components(mask)\n",
    "    segids, counts = np.unique(cc_labels, return_counts=True)\n",
    "    segids = [ segid for segid, ct in zip(segids, counts) if ct > th ]\n",
    "    filtered_mask = fastremap.mask_except(cc_labels, segids, in_place=True) != 0\n",
    "    filtered_mask_c = metroem.masks.closing(filtered_mask, n=4)\n",
    "    return filtered_mask_c\n",
    "\n",
    "emb1 = upsample(1)(downsample(1)(embedder.aligner.get_embeddings(img1, 0).unsqueeze(0)))[0, 0]\n",
    "emb2 = upsample(1)(downsample(1)(embedder.aligner.get_embeddings(img2, 0).unsqueeze(0)))[0, 0]\n",
    "\n",
    "high_r = get_np((emb1 - emb2).abs() > emb1.max()*0.6) \n",
    "high_r[get_np(emb1.abs().squeeze() < 0.04)] = 0\n",
    "high_r[get_np(emb2.abs().squeeze() < 0.04)] = 0\n",
    "\n",
    "high_r_d = high_r.copy()\n",
    "\n",
    "for i in range(3):\n",
    "    high_r_d = filter_small(high_r_d, 4*(12**i))\n",
    "    high_r_d = dilate(dilate(high_r_d))\n",
    "    \n",
    "for _ in range(20):\n",
    "    high_r_d = dilate(high_r_d)\n",
    "\n",
    "high_r_d = closing(high_r_d, 8)\n",
    "no_misd = high_r_d == 0\n",
    "no_misd_f = filter_small(no_misd, 4000)\n",
    "missd = no_misd_f == 0\n"
   ]
  },
  {
   "cell_type": "code",
   "execution_count": null,
   "metadata": {},
   "outputs": [],
   "source": [
    "emb1.max()*0.6"
   ]
  },
  {
   "cell_type": "code",
   "execution_count": 63,
   "metadata": {},
   "outputs": [
    {
     "data": {
      "application/vnd.jupyter.widget-view+json": {
       "model_id": "3e39c7b674c64217814eeecebd7ad952",
       "version_major": 2,
       "version_minor": 0
      },
      "text/plain": [
       "interactive(children=(ToggleButtons(description='Image:', options=(0, 1, 2, 3, 4, 5, 6, 7, 8), value=0), IntTe…"
      ]
     },
     "metadata": {},
     "output_type": "display_data"
    }
   ],
   "source": [
    "simple_visualizer().visualize([\n",
    "    missd,\n",
    "    no_misd,\n",
    "    high_r,\n",
    "    #high_r_f,\n",
    "    high_r_d,\n",
    "    emb1,\n",
    "    emb2,\n",
    "    #emb1.abs() < 0.04,\n",
    "    #(emb1 - emb2).abs() > emb1.max()*0.6,\n",
    "    (emb1 - emb2).abs(),\n",
    "    img1,\n",
    "    img2,\n",
    "])"
   ]
  },
  {
   "cell_type": "code",
   "execution_count": null,
   "metadata": {},
   "outputs": [],
   "source": [
    "src_emb.max()*0.6"
   ]
  },
  {
   "cell_type": "markdown",
   "metadata": {},
   "source": [
    "# Resin Detector"
   ]
  },
  {
   "cell_type": "code",
   "execution_count": 58,
   "metadata": {},
   "outputs": [
    {
     "name": "stderr",
     "output_type": "stream",
     "text": [
      "/usr/people/popovych/env/corgie_merge/lib/python3.7/site-packages/ipykernel_launcher.py:11: DeprecationWarning: `np.bool` is a deprecated alias for the builtin `bool`. To silence this warning, use `bool` by itself. Doing this will not modify any behavior and is safe. If you specifically wanted the numpy scalar type, use `np.bool_` here.\n",
      "Deprecated in NumPy 1.20; for more details and guidance: https://numpy.org/devdocs/release/1.20.0-notes.html#deprecations\n",
      "  # This is added back by InteractiveShellApp.init_path()\n"
     ]
    }
   ],
   "source": [
    "\n",
    "resin = get_np(emb1.abs() < 0.05)\n",
    "resin_f = filter_small(resin, 100)\n",
    "resin_f = dilate(dilate(resin_f))\n",
    "resin_f = dilate(dilate(dilate(dilate(dilate(filter_small(resin_f, 4000))))))\n",
    "tissue = resin_f == 0\n",
    "tissue = filter_small(tissue, 3000)"
   ]
  },
  {
   "cell_type": "code",
   "execution_count": 61,
   "metadata": {},
   "outputs": [
    {
     "data": {
      "application/vnd.jupyter.widget-view+json": {
       "model_id": "61ffb376c5e840e9a57ac7137396a948",
       "version_major": 2,
       "version_minor": 0
      },
      "text/plain": [
       "interactive(children=(ToggleButtons(description='Image:', options=(0, 1, 2, 3, 4), value=0), IntText(value=1, …"
      ]
     },
     "metadata": {},
     "output_type": "display_data"
    }
   ],
   "source": [
    "simple_visualizer().visualize([\n",
    "    tissue,\n",
    "    resin,\n",
    "    resin_f,\n",
    "    img1,\n",
    "    img11\n",
    "])"
   ]
  },
  {
   "cell_type": "code",
   "execution_count": 60,
   "metadata": {},
   "outputs": [],
   "source": [
    "img11 = img1.clone().squeeze()\n",
    "img11[tissue == 0] = 0"
   ]
  },
  {
   "cell_type": "code",
   "execution_count": 30,
   "metadata": {},
   "outputs": [
    {
     "data": {
      "text/plain": [
       "torch.Size([1088, 1088])"
      ]
     },
     "execution_count": 30,
     "metadata": {},
     "output_type": "execute_result"
    }
   ],
   "source": [
    "img1.squeeze().shape"
   ]
  },
  {
   "cell_type": "code",
   "execution_count": 31,
   "metadata": {},
   "outputs": [
    {
     "data": {
      "text/plain": [
       "(1088, 1088)"
      ]
     },
     "execution_count": 31,
     "metadata": {},
     "output_type": "execute_result"
    }
   ],
   "source": [
    "tissue.shape"
   ]
  },
  {
   "cell_type": "code",
   "execution_count": 34,
   "metadata": {},
   "outputs": [
    {
     "data": {
      "text/plain": [
       "torch.Size([1088, 1088])"
      ]
     },
     "execution_count": 34,
     "metadata": {},
     "output_type": "execute_result"
    }
   ],
   "source": [
    "img1.squeeze().shape"
   ]
  },
  {
   "cell_type": "code",
   "execution_count": 36,
   "metadata": {},
   "outputs": [
    {
     "data": {
      "text/plain": [
       "(1088, 1088)"
      ]
     },
     "execution_count": 36,
     "metadata": {},
     "output_type": "execute_result"
    }
   ],
   "source": [
    "tissue.shape"
   ]
  },
  {
   "cell_type": "code",
   "execution_count": null,
   "metadata": {},
   "outputs": [],
   "source": []
  }
 ],
 "metadata": {
  "kernelspec": {
   "display_name": "corige_merge",
   "language": "python",
   "name": "corgie_merge"
  },
  "language_info": {
   "codemirror_mode": {
    "name": "ipython",
    "version": 3
   },
   "file_extension": ".py",
   "mimetype": "text/x-python",
   "name": "python",
   "nbconvert_exporter": "python",
   "pygments_lexer": "ipython3",
   "version": "3.7.10"
  }
 },
 "nbformat": 4,
 "nbformat_minor": 4
}
