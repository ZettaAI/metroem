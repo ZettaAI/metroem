{
 "cells": [
  {
   "cell_type": "code",
   "execution_count": 1,
   "metadata": {},
   "outputs": [],
   "source": [
    "%matplotlib inline\n",
    "%load_ext autoreload\n",
    "%autoreload 2\n",
    "import os\n",
    "from visualize import PyramidVisualizer, get_dataset, display_image, simple_visualizer, visualize_residuals\n",
    "from metroem.aligner import Aligner\n",
    "from corgie import residuals"
   ]
  },
  {
   "cell_type": "code",
   "execution_count": 2,
   "metadata": {},
   "outputs": [
    {
     "data": {
      "text/plain": [
       "'hi'"
      ]
     },
     "execution_count": 2,
     "metadata": {},
     "output_type": "execute_result"
    }
   ],
   "source": [
    "\"hi\""
   ]
  },
  {
   "cell_type": "code",
   "execution_count": 3,
   "metadata": {},
   "outputs": [
    {
     "name": "stdout",
     "output_type": "stream",
     "text": [
      "Adding 'x10240_y0_z200' dataset.\n",
      "Loading file '/usr/people/popovych/metro_datasets/fly_full_x4_bigtest/x10240_y0_z200_MIP7.h5...'\n",
      "/usr/people/popovych/metro_models/pure_emb_x0/0_mip7in_purity/model/model_spec.json\n",
      "average_pool.json\n",
      "embedder_fms1to1.json\n",
      "block_3convs_3x3_fms1to32to1.json\n",
      "average_pool.json\n",
      "block_3convs_3x3_fms1to32to1.json\n",
      "average_pool.json\n",
      "embedder_fms2to3.json\n",
      "block_3convs_3x3_fms2to32to3.json\n",
      "average_pool.json\n",
      "block_3convs_3x3_fms3to32to3.json\n",
      "average_pool.json\n",
      "embedder_fms4to3.json\n",
      "block_3convs_3x3_fms4to32to3.json\n",
      "average_pool.json\n",
      "block_3convs_3x3_fms3to32to3.json\n",
      "average_pool.json\n",
      "embedder_fms4to3.json\n",
      "block_3convs_3x3_fms4to32to3.json\n",
      "average_pool.json\n",
      "block_3convs_3x3_fms3to32to3.json\n",
      "average_pool.json\n",
      "embedder_fms4to3.json\n",
      "block_3convs_3x3_fms4to32to3.json\n",
      "average_pool.json\n",
      "block_3convs_3x3_fms3to32to3.json\n",
      "identity.json\n",
      "identity.json\n",
      "identity.json\n",
      "identity.json\n",
      "identity.json\n",
      "identity.json\n",
      "identity.json\n",
      "upsample_residuals.json\n",
      "identity.json\n",
      "creating new checkpiont...\n"
     ]
    },
    {
     "data": {
      "application/vnd.jupyter.widget-view+json": {
       "model_id": "9e422ba9c30647dfad4be3a630a12fd2",
       "version_major": 2,
       "version_minor": 0
      },
      "text/plain": [
       "interactive(children=(Checkbox(value=False, description='Take from validation set'), Checkbox(value=True, desc…"
      ]
     },
     "metadata": {},
     "output_type": "display_data"
    }
   ],
   "source": [
    "checkpiont = \"starge3_base\"\n",
    "#checkpoint_folder = \"/usr/people/popovych/metro_models/pyramid_m4m6m9/0_mip7in_mip9module/model\" #\"/usr/people/popovych/aligner/experiments/{}\".format(pyramid_name)\n",
    "\n",
    "checkpoint_folder = \"/usr/people/popovych/metro_models/pure_emb_x0/0_mip7in_purity/model\" #\"/usr/people/popovych/aligner/experiments/{}\".format(pyramid_name)\n",
    "\n",
    "#checkpoint_folder = \"/usr/people/popovych/metro_models/pyramid_m4m6m9/2_mip4in_mip4module/model\" #\"/usr/people/popovych/aligner/experiments/{}\".format(pyramid_name)\n",
    "#checkpoint_folder = \"/usr/people/popovych/metro_models/pyramid_m5m9/1_mip4in_mip5module/model\" #\"/usr/people/popovych/aligner/experiments/{}\".format(pyramid_name)\n",
    "\n",
    "data_dir = \"/usr/people/popovych/metro_datasets/fly_full_x4_bigtest\"\n",
    "\n",
    "\n",
    "dataset_mip = 7\n",
    "stage = 0\n",
    " \n",
    "dataset = get_dataset(\n",
    "    data_dir=data_dir, \n",
    "    dataset_mip=dataset_mip, \n",
    "    stage=stage, \n",
    "    checkpoint_name=checkpiont, \n",
    "    crop_mode='middle',\n",
    "    cropped_size=2048\n",
    "\n",
    ")\n",
    "\n",
    "test_pyramid = Aligner(checkpoint_folder, checkpoint_name=checkpiont, train=False, \n",
    "                               finetune_lr=3e-1, finetune_sm=200e0, finetune_iter=200, finetune=False)\n",
    "viz1 = PyramidVisualizer(\n",
    "    test_pyramid,\n",
    "    dataset_mip=dataset_mip, \n",
    "    dataset=dataset\n",
    ")\n",
    "run_mip = 0\n",
    "\n",
    "viz1.def_norm_img = True\n",
    "viz1.set_model(test_pyramid)\n",
    "viz1.visualize(section_count=1, default_slice=3000, default_x=0, default_y=0)"
   ]
  },
  {
   "cell_type": "code",
   "execution_count": 5,
   "metadata": {},
   "outputs": [
    {
     "name": "stdout",
     "output_type": "stream",
     "text": [
      "/usr/people/popovych/.modelhouse/tmp_files/tmpg6drgb8f/model/model_spec.json\n",
      "average_pool.json\n",
      "embedder_fms1to1.json\n",
      "block_3convs_3x3_fms1to32to1.json\n",
      "average_pool.json\n",
      "block_3convs_3x3_fms1to32to1.json\n",
      "average_pool.json\n",
      "embedder_fms2to3.json\n",
      "block_3convs_3x3_fms2to32to3.json\n",
      "average_pool.json\n",
      "block_3convs_3x3_fms3to32to3.json\n",
      "average_pool.json\n",
      "embedder_fms4to3.json\n",
      "block_3convs_3x3_fms4to32to3.json\n",
      "average_pool.json\n",
      "block_3convs_3x3_fms3to32to3.json\n",
      "average_pool.json\n",
      "embedder_fms4to3.json\n",
      "block_3convs_3x3_fms4to32to3.json\n",
      "average_pool.json\n",
      "block_3convs_3x3_fms3to32to3.json\n",
      "average_pool.json\n",
      "embedder_fms4to3.json\n",
      "block_3convs_3x3_fms4to32to3.json\n",
      "average_pool.json\n",
      "block_3convs_3x3_fms3to32to3.json\n",
      "identity.json\n",
      "identity.json\n",
      "identity.json\n",
      "identity.json\n",
      "identity.json\n",
      "identity.json\n",
      "identity.json\n",
      "upsample_residuals.json\n",
      "identity.json\n",
      "/usr/people/popovych/.modelhouse/tmp_files/tmpuk46rqu7/model/model_spec.json\n",
      "block_3convs_3x3_fms3to32to3.json\n",
      "average_pool.json\n",
      "block_3convs_3x3_fms3to32to3.json\n",
      "average_pool.json\n",
      "block_3convs_3x3_fms3to32to3.json\n"
     ]
    }
   ],
   "source": [
    "import modelhouse\n",
    "import torch\n",
    "mega = modelhouse.loading.uncached_load_model_str(\n",
    "    'matrix://corgie-models/fafb_megaprecoarse_m7_x2', \n",
    "    #    '~/metro_models/fafb_megaprecoarse_m7_v2',\n",
    "    params='{}'\n",
    ").cuda()\n"
   ]
  },
  {
   "cell_type": "code",
   "execution_count": 6,
   "metadata": {},
   "outputs": [
    {
     "name": "stderr",
     "output_type": "stream",
     "text": [
      "/usr/people/popovych/env/corgie_merge/lib/python3.7/site-packages/ipykernel_launcher.py:3: UserWarning: To copy construct from a tensor, it is recommended to use sourceTensor.clone().detach() or sourceTensor.clone().detach().requires_grad_(True), rather than torch.tensor(sourceTensor).\n",
      "  This is separate from the ipykernel package so we can avoid doing imports until\n",
      "/usr/people/popovych/env/corgie_merge/lib/python3.7/site-packages/ipykernel_launcher.py:4: UserWarning: To copy construct from a tensor, it is recommended to use sourceTensor.clone().detach() or sourceTensor.clone().detach().requires_grad_(True), rather than torch.tensor(sourceTensor).\n",
      "  after removing the cwd from sys.path.\n"
     ]
    }
   ],
   "source": [
    "\n",
    "n = 3227\n",
    "sample = viz1.dataset[n]\n",
    "src_img = torch.tensor(sample['src'], device='cuda').unsqueeze(0)[..., 0:2048, 0:2048]\n",
    "tgt_img = torch.tensor(sample['tgt'], device='cuda').unsqueeze(0)[..., 0:2048, 0:2048]\n",
    "v = [src_img, tgt_img]"
   ]
  },
  {
   "cell_type": "code",
   "execution_count": 7,
   "metadata": {},
   "outputs": [
    {
     "name": "stdout",
     "output_type": "stream",
     "text": [
      "115.12707018852234\n"
     ]
    }
   ],
   "source": [
    "import time\n",
    "s = time.time()\n",
    "res = mega(src_img, tgt_img)\n",
    "print (time.time() - s)"
   ]
  },
  {
   "cell_type": "code",
   "execution_count": 8,
   "metadata": {},
   "outputs": [],
   "source": [
    "pred_tgt_img = res.from_pixels()(src_img)\n",
    "v = [src_img, tgt_img, pred_tgt_img]"
   ]
  },
  {
   "cell_type": "code",
   "execution_count": 9,
   "metadata": {},
   "outputs": [
    {
     "data": {
      "text/plain": [
       "(tensor(4.5740, device='cuda:0'),\n",
       " tensor(0.0037, device='cuda:0'),\n",
       " tensor(0.0169, device='cuda:0'))"
      ]
     },
     "execution_count": 9,
     "metadata": {},
     "output_type": "execute_result"
    }
   ],
   "source": [
    "src_img.max(), src_img.mean(), src_img[src_img != 0].mean()"
   ]
  },
  {
   "cell_type": "code",
   "execution_count": 10,
   "metadata": {},
   "outputs": [
    {
     "data": {
      "text/plain": [
       "(3211264, 2509344, 0.7814194036989796)"
      ]
     },
     "execution_count": 10,
     "metadata": {},
     "output_type": "execute_result"
    }
   ],
   "source": [
    "px_count = (src_img == src_img).sum().item()\n",
    "zero_count = (src_img == 0).sum().item()\n",
    "px_count, zero_count, zero_count / px_count"
   ]
  },
  {
   "cell_type": "code",
   "execution_count": 11,
   "metadata": {},
   "outputs": [
    {
     "data": {
      "application/vnd.jupyter.widget-view+json": {
       "model_id": "99dc8d19d31344858ba23c2d7d17ff1e",
       "version_major": 2,
       "version_minor": 0
      },
      "text/plain": [
       "interactive(children=(ToggleButtons(description='Image:', options=(0, 1, 2), value=0), IntText(value=1, descri…"
      ]
     },
     "metadata": {},
     "output_type": "display_data"
    }
   ],
   "source": [
    "simple_visualizer().visualize(v, section_count=1, x_section=0, y_section=0)"
   ]
  },
  {
   "cell_type": "code",
   "execution_count": 19,
   "metadata": {},
   "outputs": [],
   "source": [
    "import random\n",
    "import torch\n",
    "import numpy as np\n",
    "\n",
    "import cloudvolume as cv\n",
    "import torch\n",
    "\n",
    "from visualize import PyramidVisualizer, get_dataset, simple_visualizer\n",
    "from metroem.aligner import Aligner\n",
    "\n",
    "#raw_img_path = 'gs://corgie_package/paper/basil_data_x0/aligned_x0/img/img_full_x0_rend'\n",
    "raw_img_path = 'https://s3-hpcrc.rc.princeton.edu/fafbv15-em/v1'\n",
    "raw_img_path = 'gs://tmacrina-corgie-test/fafbv15/precoarse_v15-1/sample/onepass_test/img/img_v2'\n",
    "\n",
    "#raw_img_path = 'gs://tmacrina-corgie-test/fafbv15/precoarse_v15-1/sample/img/img_normalized'\n",
    "#masked_img_path = 'gs://corgie_package/paper/basil_data_x0/img/img_normed_with_cracks'\n",
    "#field_path = 'gs://corgie_package/paper/basil_data_x0/aligned_x0/field/field_full_x0'\n",
    "#masked_img_mip = 4\n",
    "img_mip = 4\n",
    "#field_mip = 4\n",
    "z = 165\n",
    "x_start = 140000\n",
    "y_start = 50000\n",
    "x_size = 1024 * 2**img_mip\n",
    "y_size = x_size\n",
    "pad = 64 * 2**3\n",
    "#\n",
    "#img_cv = cv.CloudVolume(raw_img_path, mip=img_mip, parallel=True, progress=False)\n",
    "#masked_img_cv = cv.CloudVolume(masked_img_path, mip=masked_img_mip, parallel=True, progress=False)\n",
    "#field_cv = cv.CloudVolume(field_path, mip=field_mip, parallel=True, progress=False)\n",
    "img_cv = cv.CloudVolume(raw_img_path, mip=img_mip, parallel=True, progress=False)\n",
    "img1_np = img_cv[(x_start-pad)//2**img_mip:(x_start+x_size+pad)//2**img_mip, (y_start-pad)//2**img_mip:(y_start+y_size+pad)//2**img_mip, z:z+1].squeeze()\n",
    "img2_np = img_cv[(x_start-pad)//2**img_mip:(x_start+x_size+pad)//2**img_mip, (y_start-pad)//2**img_mip:(y_start+y_size+pad)//2**img_mip, z+1:z+2].squeeze()"
   ]
  },
  {
   "cell_type": "code",
   "execution_count": null,
   "metadata": {},
   "outputs": [],
   "source": []
  }
 ],
 "metadata": {
  "kernelspec": {
   "display_name": "corige_merge",
   "language": "python",
   "name": "corgie_merge"
  },
  "language_info": {
   "codemirror_mode": {
    "name": "ipython",
    "version": 3
   },
   "file_extension": ".py",
   "mimetype": "text/x-python",
   "name": "python",
   "nbconvert_exporter": "python",
   "pygments_lexer": "ipython3",
   "version": "3.7.10"
  }
 },
 "nbformat": 4,
 "nbformat_minor": 4
}
