{
 "cells": [
  {
   "cell_type": "code",
   "execution_count": 420,
   "metadata": {},
   "outputs": [
    {
     "name": "stdout",
     "output_type": "stream",
     "text": [
      "The autoreload extension is already loaded. To reload it, use:\n",
      "  %reload_ext autoreload\n"
     ]
    }
   ],
   "source": [
    "%matplotlib inline\n",
    "%load_ext autoreload\n",
    "%autoreload 2\n",
    "import os\n",
    "from visualize import PyramidVisualizer, get_dataset, display_image, simple_visualizer, visualize_residuals\n",
    "import metroem\n",
    "from metroem.aligner import Aligner\n",
    "from corgie import residuals\n",
    "import cloudvolume as cv\n",
    "import matplotlib.pylab as plt\n",
    "import torch\n",
    "import tqdm\n",
    "import numpy as np\n",
    "from matplotlib.ticker import FormatStrFormatter\n"
   ]
  },
  {
   "cell_type": "code",
   "execution_count": 445,
   "metadata": {},
   "outputs": [],
   "source": [
    "img_mip = 9\n",
    "\n",
    "layer_paths = {\n",
    "    #'img_v14': 'matrix://seamless-paper/prod_x3/processed/img/img_v14_normed',\n",
    "    #'img_aligned': 'matrix://seamless-paper/prod_x3/processed/img/img_run_x11_normed',\n",
    "    'emb_v14_cpc64': 'precomputed://matrix://seamless-paper/prod_x3/cpc64_emb_v14_run_x11_a_x20',\n",
    "    'emb_cpc64': 'precomputed://matrix://seamless-paper/prod_x3/cpc64_emb_run_x11_a_x20',\n",
    "    'img_v14_cpc64': 'precomputed://matrix://seamless-paper/prod_x3/cpc64_img_v14_run_x11_a_x20',\n",
    "    'img_cpc64': 'precomputed://matrix://seamless-paper/prod_x3/cpc64_img_run_x11_a_x20'\n",
    "}\n",
    "\n",
    "cvs = {\n",
    "    name: cv.CloudVolume(path, mip=img_mip, parallel=True, progress=False, bounded=False) for name, path in layer_paths.items()\n",
    "}"
   ]
  },
  {
   "cell_type": "code",
   "execution_count": 487,
   "metadata": {},
   "outputs": [],
   "source": [
    "\n",
    "def get_imgs(z, x_size=260, y_size=260, x_start=70000, y_start=0):\n",
    "    x_size = x_size * 2**img_mip\n",
    "    y_size = y_size * 2**img_mip\n",
    "    imgs = {\n",
    "        name: cvs[name][(x_start)//2**img_mip:(x_start+x_size)//2**img_mip, (y_start)//2**img_mip:(y_start+y_size)//2**img_mip, z:z+1].squeeze() for name in layer_paths\n",
    "    }\n",
    "    for k, img in imgs.items():\n",
    "        if (img != img).sum() > 0: #CPC\n",
    "            img[img != img] = 0\n",
    "            \n",
    "            '''img[img != 0] -= img.min()\n",
    "            img[img != 0] *= -1\n",
    "            img[img != 0] += 2\n",
    "            img[img == 0] += 0.5'''\n",
    "            \n",
    "            img[img != 0] -= img.min()\n",
    "            img[img != 0] *= -1\n",
    "            img[img != 0] += 2\n",
    "            img[img == 0] += 0.5\n",
    "        \n",
    "        \n",
    "    return imgs"
   ]
  },
  {
   "cell_type": "code",
   "execution_count": 488,
   "metadata": {},
   "outputs": [],
   "source": [
    "imgs = {}\n",
    "imgs[1003] = get_imgs(z=1003)\n",
    "imgs[1004] = get_imgs(z=1004)"
   ]
  },
  {
   "cell_type": "code",
   "execution_count": 489,
   "metadata": {},
   "outputs": [
    {
     "data": {
      "application/vnd.jupyter.widget-view+json": {
       "model_id": "0e7257fdc7f241ec8ae8d99303e88bdc",
       "version_major": 2,
       "version_minor": 0
      },
      "text/plain": [
       "interactive(children=(ToggleButtons(description='Image:', options=(0, 1, 2, 3), value=0), IntText(value=1, des…"
      ]
     },
     "metadata": {},
     "output_type": "display_data"
    }
   ],
   "source": [
    "simple_visualizer().visualize([imgs[1004]['emb_v14_cpc64'], imgs[1004]['emb_cpc64'], imgs[1004]['img_v14_cpc64'], imgs[1004]['img_cpc64']])"
   ]
  },
  {
   "cell_type": "code",
   "execution_count": 460,
   "metadata": {},
   "outputs": [
    {
     "ename": "KeyError",
     "evalue": "'img_v14'",
     "output_type": "error",
     "traceback": [
      "\u001b[0;31m---------------------------------------------------------------------------\u001b[0m",
      "\u001b[0;31mKeyError\u001b[0m                                  Traceback (most recent call last)",
      "\u001b[0;32m<ipython-input-460-ff47ca3ba97b>\u001b[0m in \u001b[0;36m<module>\u001b[0;34m\u001b[0m\n\u001b[0;32m----> 1\u001b[0;31m \u001b[0msrc_v14\u001b[0m \u001b[0;34m=\u001b[0m \u001b[0mtorch\u001b[0m\u001b[0;34m.\u001b[0m\u001b[0mtensor\u001b[0m\u001b[0;34m(\u001b[0m\u001b[0mimgs\u001b[0m\u001b[0;34m[\u001b[0m\u001b[0;36m1003\u001b[0m\u001b[0;34m]\u001b[0m\u001b[0;34m[\u001b[0m\u001b[0;34m'img_v14'\u001b[0m\u001b[0;34m]\u001b[0m\u001b[0;34m)\u001b[0m\u001b[0;34m\u001b[0m\u001b[0;34m\u001b[0m\u001b[0m\n\u001b[0m\u001b[1;32m      2\u001b[0m \u001b[0mtgt_v14\u001b[0m \u001b[0;34m=\u001b[0m \u001b[0mtorch\u001b[0m\u001b[0;34m.\u001b[0m\u001b[0mtensor\u001b[0m\u001b[0;34m(\u001b[0m\u001b[0mimgs\u001b[0m\u001b[0;34m[\u001b[0m\u001b[0;36m1004\u001b[0m\u001b[0;34m]\u001b[0m\u001b[0;34m[\u001b[0m\u001b[0;34m'img_v14'\u001b[0m\u001b[0;34m]\u001b[0m\u001b[0;34m)\u001b[0m\u001b[0;34m\u001b[0m\u001b[0;34m\u001b[0m\u001b[0m\n\u001b[1;32m      3\u001b[0m \u001b[0;34m\u001b[0m\u001b[0m\n\u001b[1;32m      4\u001b[0m \u001b[0msrc_aligned\u001b[0m \u001b[0;34m=\u001b[0m \u001b[0mtorch\u001b[0m\u001b[0;34m.\u001b[0m\u001b[0mtensor\u001b[0m\u001b[0;34m(\u001b[0m\u001b[0mimgs\u001b[0m\u001b[0;34m[\u001b[0m\u001b[0;36m1003\u001b[0m\u001b[0;34m]\u001b[0m\u001b[0;34m[\u001b[0m\u001b[0;34m'img_aligned'\u001b[0m\u001b[0;34m]\u001b[0m\u001b[0;34m)\u001b[0m\u001b[0;34m\u001b[0m\u001b[0;34m\u001b[0m\u001b[0m\n\u001b[1;32m      5\u001b[0m \u001b[0mtgt_aligned\u001b[0m \u001b[0;34m=\u001b[0m \u001b[0mtorch\u001b[0m\u001b[0;34m.\u001b[0m\u001b[0mtensor\u001b[0m\u001b[0;34m(\u001b[0m\u001b[0mimgs\u001b[0m\u001b[0;34m[\u001b[0m\u001b[0;36m1004\u001b[0m\u001b[0;34m]\u001b[0m\u001b[0;34m[\u001b[0m\u001b[0;34m'img_aligned'\u001b[0m\u001b[0;34m]\u001b[0m\u001b[0;34m)\u001b[0m\u001b[0;34m\u001b[0m\u001b[0;34m\u001b[0m\u001b[0m\n",
      "\u001b[0;31mKeyError\u001b[0m: 'img_v14'"
     ]
    }
   ],
   "source": [
    "src_v14 = torch.tensor(imgs[1003]['img_v14'])\n",
    "tgt_v14 = torch.tensor(imgs[1004]['img_v14'])\n",
    "\n",
    "src_aligned = torch.tensor(imgs[1003]['img_aligned'])\n",
    "tgt_aligned = torch.tensor(imgs[1004]['img_aligned'])\n",
    "\n",
    "diff_v14 = (src_v14 - tgt_v14).abs()\n",
    "diff_aligned = (src_aligned - tgt_aligned).abs()"
   ]
  },
  {
   "cell_type": "code",
   "execution_count": 429,
   "metadata": {},
   "outputs": [
    {
     "data": {
      "text/plain": [
       "tensor(0.9986)"
      ]
     },
     "execution_count": 429,
     "metadata": {},
     "output_type": "execute_result"
    }
   ],
   "source": []
  },
  {
   "cell_type": "code",
   "execution_count": 433,
   "metadata": {},
   "outputs": [],
   "source": [
    "src_v14_norm = metroem.helpers.normalize(src_v14, mask=src_v14 != 0)\n",
    "tgt_v14_norm = metroem.helpers.normalize(tgt_v14, mask=src_v14 != 0)\n",
    "\n",
    "src_aligned_norm = metroem.helpers.normalize(src_aligned, mask=src_v14 != 0)\n",
    "tgt_aligned_norm = metroem.helpers.normalize(tgt_aligned, mask=src_v14 != 0)\n",
    "\n",
    "diff_v14_norm = np.abs(src_v14_norm - tgt_v14_norm)\n",
    "diff_aligned_norm = np.abs(src_aligned_norm - tgt_aligned_norm)"
   ]
  },
  {
   "cell_type": "code",
   "execution_count": 435,
   "metadata": {},
   "outputs": [
    {
     "data": {
      "text/plain": [
       "tensor(1.1239)"
      ]
     },
     "execution_count": 435,
     "metadata": {},
     "output_type": "execute_result"
    }
   ],
   "source": [
    "diff_v14_norm.mean() / diff_aligned_norm.mean()"
   ]
  },
  {
   "cell_type": "code",
   "execution_count": null,
   "metadata": {},
   "outputs": [],
   "source": []
  },
  {
   "cell_type": "code",
   "execution_count": 418,
   "metadata": {},
   "outputs": [
    {
     "data": {
      "text/plain": [
       "(VolumeCutout(0.58819276, dtype=float32),\n",
       " VolumeCutout(0.5190442, dtype=float32))"
      ]
     },
     "execution_count": 418,
     "metadata": {},
     "output_type": "execute_result"
    }
   ],
   "source": [
    "diff_v14.mean(), diff_aligned.mean()"
   ]
  },
  {
   "cell_type": "code",
   "execution_count": 412,
   "metadata": {},
   "outputs": [
    {
     "data": {
      "text/plain": [
       "(VolumeCutout(0.8470656, dtype=float32),\n",
       " VolumeCutout(0.8160965, dtype=float32))"
      ]
     },
     "execution_count": 412,
     "metadata": {},
     "output_type": "execute_result"
    }
   ],
   "source": [
    "src_v14.var(), tgt_v14.var()"
   ]
  },
  {
   "cell_type": "code",
   "execution_count": 413,
   "metadata": {},
   "outputs": [
    {
     "data": {
      "text/plain": [
       "(VolumeCutout(0.8331217, dtype=float32),\n",
       " VolumeCutout(0.81675583, dtype=float32))"
      ]
     },
     "execution_count": 413,
     "metadata": {},
     "output_type": "execute_result"
    }
   ],
   "source": [
    "src_aligned.var(), tgt_aligned.var()"
   ]
  },
  {
   "cell_type": "code",
   "execution_count": 448,
   "metadata": {},
   "outputs": [
    {
     "ename": "KeyError",
     "evalue": "'emb_v14_cpc'",
     "output_type": "error",
     "traceback": [
      "\u001b[0;31m---------------------------------------------------------------------------\u001b[0m",
      "\u001b[0;31mKeyError\u001b[0m                                  Traceback (most recent call last)",
      "\u001b[0;32m<ipython-input-448-546caf45f2df>\u001b[0m in \u001b[0;36m<module>\u001b[0;34m\u001b[0m\n\u001b[0;32m----> 1\u001b[0;31m \u001b[0msimple_visualizer\u001b[0m\u001b[0;34m(\u001b[0m\u001b[0;34m)\u001b[0m\u001b[0;34m.\u001b[0m\u001b[0mvisualize\u001b[0m\u001b[0;34m(\u001b[0m\u001b[0;34m[\u001b[0m\u001b[0mimgs\u001b[0m\u001b[0;34m[\u001b[0m\u001b[0;34m'emb_v14_cpc'\u001b[0m\u001b[0;34m]\u001b[0m\u001b[0;34m]\u001b[0m\u001b[0;34m)\u001b[0m\u001b[0;34m\u001b[0m\u001b[0;34m\u001b[0m\u001b[0m\n\u001b[0m",
      "\u001b[0;31mKeyError\u001b[0m: 'emb_v14_cpc'"
     ]
    }
   ],
   "source": []
  },
  {
   "cell_type": "code",
   "execution_count": 398,
   "metadata": {},
   "outputs": [
    {
     "data": {
      "application/vnd.jupyter.widget-view+json": {
       "model_id": "432869a55443466490da788d4393e3c1",
       "version_major": 2,
       "version_minor": 0
      },
      "text/plain": [
       "interactive(children=(ToggleButtons(description='Image:', options=(0, 1), value=0), IntText(value=1, descripti…"
      ]
     },
     "metadata": {},
     "output_type": "display_data"
    }
   ],
   "source": [
    "simple_visualizer().visualize([src_v14, tgt_v14])"
   ]
  },
  {
   "cell_type": "code",
   "execution_count": 394,
   "metadata": {},
   "outputs": [
    {
     "data": {
      "application/vnd.jupyter.widget-view+json": {
       "model_id": "d08bcf0db65243ee85b65883a52568ae",
       "version_major": 2,
       "version_minor": 0
      },
      "text/plain": [
       "interactive(children=(ToggleButtons(description='Image:', options=(0, 1), value=0), IntText(value=1, descripti…"
      ]
     },
     "metadata": {},
     "output_type": "display_data"
    }
   ],
   "source": [
    "\n",
    "simple_visualizer().visualize([v14_diff, aligned_diff])"
   ]
  },
  {
   "cell_type": "code",
   "execution_count": 131,
   "metadata": {},
   "outputs": [],
   "source": [
    "mask = imgs['cpc_raw_v14_run_x11_a_x0'] != 0"
   ]
  },
  {
   "cell_type": "code",
   "execution_count": 167,
   "metadata": {},
   "outputs": [],
   "source": [
    "import scipy\n",
    "img = imgs['cpc_raw_v14_run_x11_a_x0']\n",
    "\n",
    "mask_e = scipy.ndimage.morphology.binary_erosion(mask, iterations=7)\n",
    "\n",
    "img_m = imgs['cpc_raw_v14_run_x11_a_x0'].copy()\n",
    "img_m[(mask_e == 0) * (img_m > 100)] = 0"
   ]
  },
  {
   "cell_type": "code",
   "execution_count": 168,
   "metadata": {},
   "outputs": [
    {
     "data": {
      "text/plain": [
       "VolumeCutout(-648554.06, dtype=float32)"
      ]
     },
     "execution_count": 168,
     "metadata": {},
     "output_type": "execute_result"
    }
   ],
   "source": [
    "img[(mask_e == 0) * (mask != 0)].min()"
   ]
  },
  {
   "cell_type": "code",
   "execution_count": 237,
   "metadata": {},
   "outputs": [],
   "source": [
    "for img in imgs.values():\n",
    "    img[img != 0] -= img.min()\n",
    "    img[img != 0] *= -1\n",
    "    img[img != 0] += 2"
   ]
  },
  {
   "cell_type": "code",
   "execution_count": 238,
   "metadata": {},
   "outputs": [
    {
     "data": {
      "text/plain": [
       "VolumeCutout(0.072499, dtype=float32)"
      ]
     },
     "execution_count": 238,
     "metadata": {},
     "output_type": "execute_result"
    }
   ],
   "source": [
    "img.mean()"
   ]
  },
  {
   "cell_type": "code",
   "execution_count": 239,
   "metadata": {},
   "outputs": [
    {
     "data": {
      "application/vnd.jupyter.widget-view+json": {
       "model_id": "2f8d8e2d63bd40419d31cb4461c6477e",
       "version_major": 2,
       "version_minor": 0
      },
      "text/plain": [
       "interactive(children=(ToggleButtons(description='Image:', options=(0, 1, 2, 3), value=0), IntText(value=1, des…"
      ]
     },
     "metadata": {},
     "output_type": "display_data"
    }
   ],
   "source": [
    "simple_visualizer().visualize([img_m, mask, mask_e, imgs['cpc_raw_emb_v14_run_x11_a_x0']])"
   ]
  },
  {
   "cell_type": "code",
   "execution_count": 358,
   "metadata": {},
   "outputs": [
    {
     "data": {
      "application/vnd.jupyter.widget-view+json": {
       "model_id": "7864c2467ddd42c1b001017703315638",
       "version_major": 2,
       "version_minor": 0
      },
      "text/plain": [
       "interactive(children=(ToggleButtons(description='Image:', options=(0, 1, 2, 3), value=0), IntText(value=1, des…"
      ]
     },
     "metadata": {},
     "output_type": "display_data"
    }
   ],
   "source": [
    "simple_visualizer(norm=False).visualize([imgs['absdiff_raw_emb_v14_run_x11_a_x0'], imgs['absdiff_raw_emb_run_x11_a_x0'], imgs['absdiff_raw_v14_run_x11_a_x0'].astype(np.float32), imgs['absdiff_raw_run_x11_a_x0'].astype(np.float32)])"
   ]
  },
  {
   "cell_type": "code",
   "execution_count": 242,
   "metadata": {},
   "outputs": [
    {
     "data": {
      "text/plain": [
       "(VolumeCutout(0.43625855, dtype=float32),\n",
       " VolumeCutout(0.31991017, dtype=float32))"
      ]
     },
     "execution_count": 242,
     "metadata": {},
     "output_type": "execute_result"
    }
   ],
   "source": [
    "imgs['cpc_raw_emb_v14_run_x11_a_x0'][img != 0].mean(), imgs['cpc_raw_emb_run_x11_a_x0'][img != 0].mean()"
   ]
  },
  {
   "cell_type": "code",
   "execution_count": 243,
   "metadata": {},
   "outputs": [
    {
     "data": {
      "text/plain": [
       "(VolumeCutout(0.6844377, dtype=float32),\n",
       " VolumeCutout(0.73074096, dtype=float32))"
      ]
     },
     "execution_count": 243,
     "metadata": {},
     "output_type": "execute_result"
    }
   ],
   "source": [
    "imgs['cpc_raw_v14_run_x11_a_x0'][img != 0].mean(), imgs['cpc_raw_run_x11_a_x0'][img != 0].mean()"
   ]
  },
  {
   "cell_type": "code",
   "execution_count": 312,
   "metadata": {},
   "outputs": [
    {
     "data": {
      "application/vnd.jupyter.widget-view+json": {
       "model_id": "77823ec735714a0b9ab26837f656ae0b",
       "version_major": 2,
       "version_minor": 0
      },
      "text/plain": [
       "interactive(children=(ToggleButtons(description='Image:', options=(0, 1, 2, 3, 4, 5, 6, 7), value=0), IntText(…"
      ]
     },
     "metadata": {},
     "output_type": "display_data"
    }
   ],
   "source": [
    "simple_visualizer().visualize([img for img in list(imgs.values())])"
   ]
  },
  {
   "cell_type": "code",
   "execution_count": 313,
   "metadata": {},
   "outputs": [],
   "source": [
    "scores = {\n",
    "    # z: {name: score}\n",
    "}\n",
    "\n",
    "px_count = {\n",
    "    \n",
    "}\n",
    "\n"
   ]
  },
  {
   "cell_type": "code",
   "execution_count": 315,
   "metadata": {},
   "outputs": [
    {
     "data": {
      "application/vnd.jupyter.widget-view+json": {
       "model_id": "21d69e8b67574f458239a51df25c65bb",
       "version_major": 2,
       "version_minor": 0
      },
      "text/plain": [
       "  0%|          | 0/50 [00:00<?, ?it/s]"
      ]
     },
     "metadata": {},
     "output_type": "display_data"
    }
   ],
   "source": [
    "z_start = 1950\n",
    "z_end = 2000\n",
    "\n",
    "for z in tqdm.notebook.tqdm(range(z_start, z_end)):\n",
    "    imgs = get_imgs(z=z)\n",
    "    scores[z] = {}\n",
    "    px_count[z] = {}\n",
    "    for k, v in imgs.items():\n",
    "        scores[z][k] = get_score(v)\n",
    "        px_count[z][k] = get_px_count(v)\n",
    "        \n",
    "\n",
    "    #else:\n",
    "    #    print (z, scores[z]['cpc_emb_v14_run_x11_a_x0'] / scores[z]['cpc_emb_run_x11_a_x0']  - 1.0)"
   ]
  },
  {
   "cell_type": "code",
   "execution_count": 336,
   "metadata": {},
   "outputs": [],
   "source": [
    "def get_improvement(z, suffix='norm', version='x0', func='absdiff'):\n",
    "    if scores[z][f'{func}_{suffix}_v14_run_x11_a_x0'] == 0 or scores[z][f'{func}_{suffix}_run_x11_a_{version}'] == 0:\n",
    "        print ('yo')\n",
    "        return 0\n",
    "    else:\n",
    "        return 1.0 - scores[z][f'{func}_{suffix}_run_x11_a_{version}'] / scores[z][f'{func}_{suffix}_v14_run_x11_a_{version}']\n",
    "     "
   ]
  },
  {
   "cell_type": "code",
   "execution_count": 337,
   "metadata": {},
   "outputs": [
    {
     "name": "stdout",
     "output_type": "stream",
     "text": [
      "yo\n",
      "yo\n",
      "yo\n",
      "yo\n"
     ]
    }
   ],
   "source": [
    "emb_diff = {z: get_improvement(z, 'raw_emb', 'x0') for z in range(z_start, z_end)}\n",
    "emb_cpc =  {z: get_improvement(z, 'raw_emb', 'x0', 'cpc') for z in range(z_start, z_end)}\n",
    "\n",
    "\n",
    "img_diff = {z: get_improvement(z, 'raw', 'x0') for z in range(z_start, z_end)}\n",
    "img_cpc =  {z: get_improvement(z, 'raw', 'x0', 'cpc') for z in range(z_start, z_end)}"
   ]
  },
  {
   "cell_type": "code",
   "execution_count": 338,
   "metadata": {},
   "outputs": [
    {
     "data": {
      "text/plain": [
       "VolumeCutout(0.28300619)"
      ]
     },
     "execution_count": 338,
     "metadata": {},
     "output_type": "execute_result"
    }
   ],
   "source": [
    "get_improvement(1956, 'raw_emb', 'x0')"
   ]
  },
  {
   "cell_type": "code",
   "execution_count": 339,
   "metadata": {},
   "outputs": [
    {
     "name": "stdout",
     "output_type": "stream",
     "text": [
      "1997 -0.028278350830078125\n",
      "1998 -0.042392611503601074\n"
     ]
    }
   ],
   "source": [
    "for k, v in emb_diff.items():\n",
    "    if v < 0:\n",
    "        print (k, v)"
   ]
  },
  {
   "cell_type": "code",
   "execution_count": 361,
   "metadata": {},
   "outputs": [
    {
     "data": {
      "image/png": "[encoded data removed]",
      "text/plain": [
       "<Figure size 432x288 with 1 Axes>"
      ]
     },
     "metadata": {
      "needs_background": "light"
     },
     "output_type": "display_data"
    }
   ],
   "source": [
    "lists = sorted(it for it in emb_diff.items() if it[-1] != 0) # sorted by key, return a list of tuples\n",
    "x_diff_x0, y_diff_x0 = zip(*lists)\n",
    "\n",
    "lists = sorted(it for it in img_diff.items() if it[-1] != 0) # sorted by key, return a list of tuples\n",
    "\n",
    "x_diff_x1, y_diff_x1 = zip(*lists)\n",
    "\n",
    "y_baseline = [0.0 for _ in x_diff_x0]\n",
    "\n",
    "plt.scatter(x_diff_x0, y_diff_x0, color='red', label='emb')\n",
    "plt.scatter(x_diff_x1, y_diff_x1, color='blue', label='img')\n",
    "\n",
    "plt.plot(x_diff_x0, y_baseline, color='black', label='Baseline', linestyle='dashed')\n",
    "\n",
    "#plt.yscale('symlog', basey=10, basex=10, linthreshy=0.2)\n",
    "#plt.gca().yaxis.set_major_formatter(FormatStrFormatter('%0.3f')) #Here!\n",
    "plt.ylim(ymax=0.8, ymin=-0.1)\n",
    "\n",
    "plt.legend()\n",
    "plt.show()"
   ]
  },
  {
   "cell_type": "code",
   "execution_count": 362,
   "metadata": {},
   "outputs": [
    {
     "data": {
      "image/png": "[encoded data removed]",
      "text/plain": [
       "<Figure size 432x288 with 1 Axes>"
      ]
     },
     "metadata": {
      "needs_background": "light"
     },
     "output_type": "display_data"
    }
   ],
   "source": [
    "lists = sorted(it for it in emb_cpc.items() if it[-1] != 0) # sorted by key, return a list of tuples\n",
    "x_diff_x0, y_diff_x0 = zip(*lists)\n",
    "\n",
    "lists = sorted(it for it in img_cpc.items() if it[-1] != 0) # sorted by key, return a list of tuples\n",
    "\n",
    "x_diff_x1, y_diff_x1 = zip(*lists)\n",
    "\n",
    "y_baseline = [0.0 for _ in x_diff_x0]\n",
    "\n",
    "plt.scatter(x_diff_x0, y_diff_x0, color='red', label='emb')\n",
    "plt.scatter(x_diff_x1, y_diff_x1, color='blue', label='img')\n",
    "\n",
    "plt.plot(x_diff_x0, y_baseline, color='black', label='Baseline', linestyle='dashed')\n",
    "\n",
    "#plt.yscale('symlog', basey=10, basex=10, linthreshy=0.2)\n",
    "#plt.gca().yaxis.set_major_formatter(FormatStrFormatter('%0.3f')) #Here!\n",
    "plt.ylim(ymax=1, ymin=-0.1)\n",
    "\n",
    "plt.legend()\n",
    "plt.show()"
   ]
  },
  {
   "cell_type": "code",
   "execution_count": 21,
   "metadata": {},
   "outputs": [
    {
     "data": {
      "text/plain": [
       "(0.06117853853437635, 0.09653912092510022)"
      ]
     },
     "execution_count": 21,
     "metadata": {},
     "output_type": "execute_result"
    }
   ],
   "source": [
    "np.array(y_diff_x0).mean(), np.array(y_diff_x1).mean()"
   ]
  },
  {
   "cell_type": "code",
   "execution_count": 26,
   "metadata": {},
   "outputs": [
    {
     "data": {
      "text/plain": [
       "(-0.5128994600640403, -0.5182439935834784)"
      ]
     },
     "execution_count": 26,
     "metadata": {},
     "output_type": "execute_result"
    }
   ],
   "source": [
    "np.array(y_cpc_x0).mean(), np.array(y_cpc_x1).mean()"
   ]
  },
  {
   "cell_type": "code",
   "execution_count": 31,
   "metadata": {},
   "outputs": [
    {
     "data": {
      "text/plain": [
       "(VolumeCutout(0.40501598, dtype=float32),\n",
       " VolumeCutout(0.82940435, dtype=float32))"
      ]
     },
     "execution_count": 31,
     "metadata": {},
     "output_type": "execute_result"
    }
   ],
   "source": [
    "scores[1010]['cpc_emb_v14_run_x11_a_x0'], scores[1010]['cpc_emb_run_x11_a_x0']"
   ]
  },
  {
   "cell_type": "code",
   "execution_count": 40,
   "metadata": {},
   "outputs": [
    {
     "name": "stdout",
     "output_type": "stream",
     "text": [
      "1310 -0.014723360538482666\n",
      "1319 -0.010295689105987549\n",
      "1320 -0.006379902362823486\n",
      "1327 -0.024768054485321045\n",
      "1328 -0.05214351415634155\n",
      "1329 -0.026741862297058105\n",
      "1330 -0.01818406581878662\n",
      "1334 -0.010693609714508057\n",
      "1339 -0.002771914005279541\n"
     ]
    }
   ],
   "source": [
    "for i in range(1300, 1350):\n",
    "    #print (i)\n",
    "    if i in emb_diff and emb_diff[i] < 0:\n",
    "        print (i, emb_diff[i])"
   ]
  },
  {
   "cell_type": "code",
   "execution_count": 173,
   "metadata": {},
   "outputs": [
    {
     "name": "stderr",
     "output_type": "stream",
     "text": [
      "/usr/people/popovych/env/corgie_merge/lib/python3.7/site-packages/ipykernel_launcher.py:12: MatplotlibDeprecationWarning: SymmetricalLogScale got an unexpected keyword argument 'basex'. In the future this will raise TypeError\n",
      "  if sys.path[0] == '':\n",
      "/usr/people/popovych/env/corgie_merge/lib/python3.7/site-packages/ipykernel_launcher.py:13: MatplotlibDeprecationWarning: SymmetricalLogScale got an unexpected keyword argument 'basex'. In the future this will raise TypeError\n",
      "  del sys.path[0]\n"
     ]
    },
    {
     "data": {
      "image/png": "[encoded data removed]",
      "text/plain": [
       "<Figure size 432x288 with 4 Axes>"
      ]
     },
     "metadata": {
      "needs_background": "light"
     },
     "output_type": "display_data"
    }
   ],
   "source": [
    "import matplotlib.pyplot as plt\n",
    "from matplotlib import ticker\n",
    "\n",
    "formatter = ticker.ScalarFormatter(useMathText=True)\n",
    "formatter.set_scientific(False) \n",
    "\n",
    "fig, axs = plt.subplots(2, 2)\n",
    "\n",
    "\n",
    "\n",
    "axs[0, 1].set_yscale('log', basey=1.1)\n",
    "axs[1, 0].set_yscale('symlog', basex=1.001, basey=1.001, linthreshy=0.001)\n",
    "axs[1, 1].set_yscale('symlog', basey=10, basex=10, linthreshy=0.01)\n",
    "\n",
    "axs[0, 0].plot(np.linspace(-0.05, 0.8, 100), color='red', label='Normalized')\n",
    "axs[0, 1].plot(np.linspace(-0.05, 0.8, 100), color='red', label='Normalized')\n",
    "axs[1, 0].plot(np.linspace(-0.05, 0.8, 100), color='red', label='Normalized')\n",
    "axs[1, 1].plot(np.linspace(-0.05, 0.8, 100), color='red', label='Normalized')\n",
    "\n",
    "plt.show()"
   ]
  },
  {
   "cell_type": "code",
   "execution_count": 48,
   "metadata": {},
   "outputs": [
    {
     "data": {
      "image/png": "[encoded data removed]",
      "text/plain": [
       "<Figure size 432x288 with 1 Axes>"
      ]
     },
     "metadata": {
      "needs_background": "light"
     },
     "output_type": "display_data"
    }
   ],
   "source": [
    "import random\n",
    "import numpy\n",
    "from matplotlib import pyplot\n",
    "\n",
    "\n",
    "bins = numpy.linspace(-0.05, 0.5, 40)\n",
    "bins = 10\n",
    "#pyplot.hist(y_diff_x0, bins=bins, alpha=0.7, label='DIFF x0')\n",
    "#pyplot.hist(y_diff_x1, bins=bins, alpha=0.7, label='DIFF x1')\n",
    "pyplot.hist(y_cpc_x0, bins=bins, alpha=0.7, label='CPC x0')\n",
    "pyplot.hist(y_cpc_x1, bins=bins, alpha=0.7, label='CPC x1')\n",
    "\n",
    "#pyplot.hist(y_emb, bins, alpha=0.7, label='Embedding')\n",
    "pyplot.legend(loc='upper right')\n",
    "pyplot.show()"
   ]
  },
  {
   "cell_type": "code",
   "execution_count": 35,
   "metadata": {},
   "outputs": [
    {
     "data": {
      "image/png": "[encoded data removed]",
      "text/plain": [
       "<Figure size 432x288 with 1 Axes>"
      ]
     },
     "metadata": {
      "needs_background": "light"
     },
     "output_type": "display_data"
    }
   ],
   "source": [
    "import random\n",
    "import numpy\n",
    "from matplotlib import pyplot\n",
    "\n",
    "\n",
    "bins = numpy.linspace(-0.05, 0.5, 40)\n",
    "#bins = 30\n",
    "pyplot.hist(y_emb, bins=bins, alpha=0.5, label='MSE')\n",
    "pyplot.hist(y_emb_cpc, bins=bins, alpha=0.5, label='CPC')\n",
    "#pyplot.hist(y_norm_cpc, bins=bins, alpha=0.7, label='NORM CPC')\n",
    "#pyplot.hist(y_emb, bins, alpha=0.7, label='Embedding')\n",
    "pyplot.legend(loc='upper right')\n",
    "pyplot.show()"
   ]
  },
  {
   "cell_type": "code",
   "execution_count": 31,
   "metadata": {},
   "outputs": [
    {
     "data": {
      "text/plain": [
       "0.06880007225502904"
      ]
     },
     "execution_count": 31,
     "metadata": {},
     "output_type": "execute_result"
    }
   ],
   "source": [
    "np.array(y_emb).mean()"
   ]
  },
  {
   "cell_type": "code",
   "execution_count": 34,
   "metadata": {},
   "outputs": [
    {
     "data": {
      "text/plain": [
       "0.03214883804321289"
      ]
     },
     "execution_count": 34,
     "metadata": {},
     "output_type": "execute_result"
    }
   ],
   "source": [
    "np.percentile(np.array(y_emb), 50)"
   ]
  },
  {
   "cell_type": "code",
   "execution_count": 29,
   "metadata": {},
   "outputs": [
    {
     "data": {
      "text/plain": [
       "VolumeCutout(301)"
      ]
     },
     "execution_count": 29,
     "metadata": {},
     "output_type": "execute_result"
    }
   ],
   "source": [
    "sum([y > 0.05 for y in y_emb])"
   ]
  },
  {
   "cell_type": "code",
   "execution_count": null,
   "metadata": {},
   "outputs": [],
   "source": []
  }
 ],
 "metadata": {
  "kernelspec": {
   "display_name": "corige_merge",
   "language": "python",
   "name": "corgie_merge"
  },
  "language_info": {
   "codemirror_mode": {
    "name": "ipython",
    "version": 3
   },
   "file_extension": ".py",
   "mimetype": "text/x-python",
   "name": "python",
   "nbconvert_exporter": "python",
   "pygments_lexer": "ipython3",
   "version": "3.7.10"
  }
 },
 "nbformat": 4,
 "nbformat_minor": 4
}
