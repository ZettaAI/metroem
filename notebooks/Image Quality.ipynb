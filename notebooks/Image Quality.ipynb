{
 "cells": [
  {
   "cell_type": "code",
   "execution_count": 1,
   "metadata": {},
   "outputs": [],
   "source": [
    "%matplotlib inline\n",
    "%load_ext autoreload\n",
    "%autoreload 2\n",
    "import os\n",
    "from visualize import PyramidVisualizer, get_dataset, display_image, simple_visualizer, visualize_residuals\n",
    "from metroem.aligner import Aligner\n",
    "from corgie import residuals\n",
    "import cloudvolume as cv\n",
    "import matplotlib.pylab as plt\n",
    "import torch\n",
    "import tqdm\n",
    "import numpy as np\n",
    "from matplotlib.ticker import FormatStrFormatter\n",
    "import seaborn as sns\n",
    "import matplotlib.pyplot as plt\n",
    "import pandas \n",
    "import scipy\n",
    "import cachetools\n",
    "\n",
    "import cc3d\n",
    "import numpy as np\n",
    "import fastremap \n",
    "\n",
    "\n",
    "\n",
    "\n",
    "def filter_small(mask, th=100):\n",
    "    cc_labels = cc3d.connected_components(mask)\n",
    "    segids, counts = np.unique(cc_labels, return_counts=True)\n",
    "    segids = [ segid for segid, ct in zip(segids, counts) if ct > th ]\n",
    "    filtered_mask = fastremap.mask_except(cc_labels, segids, in_place=True) != 0\n",
    "\n",
    "    return filtered_mask\n",
    "\n",
    "def get_around_defect_region(defects, mip, base_iterations=2):\n",
    "    defects = filter_small(defects, 16 * (2**(9 - mip)))\n",
    "    around = scipy.ndimage.binary_dilation(defects, iterations=base_iterations*(2**(9 - mip)))\n",
    "    right_around = scipy.ndimage.binary_dilation(defects, iterations=1)\n",
    "    around[right_around == 1] = 0\n",
    "    return around\n",
    "    \n",
    "def get_score(img, mip, defects=None, around_defects=False):\n",
    "    region = np.ones_like(img)\n",
    "    thr = 8000 * 2 ** (9 - mip)\n",
    "    \n",
    "    if around_defects:\n",
    "        around_defects = get_around_defect_region(defects, mip=mip)\n",
    "        region[around_defects == 0] = 0\n",
    "        thr /= 40\n",
    "        \n",
    "    if defects is not None:\n",
    "        region[defects] = 0\n",
    "        \n",
    "    region[img == 0] = 0\n",
    "    region[img != img] = 0\n",
    "    \n",
    "    if (region != 0).sum() < thr:\n",
    "        return 0, 0\n",
    "    else:\n",
    "        return img[region != 0].mean().item(), (region > 0).sum()\n",
    "    \n",
    "    \n",
    "def get_px_count(img):\n",
    "    zeros = ((img == 0) + (img != img)) > 0\n",
    "    return (zeros == 0).sum()\n",
    "    \n",
    "def get_imgs(z, x_size=1024, y_size=1024, x_start=70000, y_start=0):\n",
    "    x_size = x_size * 2**img_mip\n",
    "    y_size = y_size * 2**img_mip\n",
    "    imgs = {\n",
    "        name: cvs[name][(x_start)//2**img_mip:(x_start+x_size)//2**img_mip, (y_start)//2**img_mip:(y_start+y_size)//2**img_mip, z:z+1].squeeze() for name in layer_paths\n",
    "    }\n",
    "    for k, img in imgs.items():\n",
    "        if (img != img).sum() > 0: #CPC\n",
    "            img[img != img] = 0\n",
    "            img[img != 0] -= img.min()\n",
    "            img[img != 0] *= -1\n",
    "            img[img != 0] += 2\n",
    "            \n",
    "    return imgs\n",
    "\n",
    "def get_defects(z, x_size=1024, y_size=1024, x_start=70000, y_start=0, v14=False):\n",
    "    x_size = x_size * 2**img_mip\n",
    "    y_size = y_size * 2**img_mip\n",
    "\n",
    "    imgs = {\n",
    "        name: defect_cvs[name][(x_start)//2**img_mip:(x_start+x_size)//2**img_mip, (y_start)//2**img_mip:(y_start+y_size)//2**img_mip, z:z+1].squeeze() for name in defect_paths if ('v14' in name) == v14\n",
    "    }\n",
    "    \n",
    "    result = np.zeros_like(list(imgs.values())[0])\n",
    "    for k, img in imgs.items():\n",
    "        result[img > 0] = 1\n",
    "            \n",
    "    return result\n",
    "\n",
    "def get_improvement(z, suffix='img', func='absdiff'):\n",
    "    if scores[z][f'{func}_{suffix}_v14'] == 0 or scores[z][f'{func}_{suffix}'] == 0:\n",
    "        return 0\n",
    "    else:\n",
    "        return 1.0 - scores[z][f'{func}_{suffix}'] / scores[z][f'{func}_{suffix}_v14']\n",
    "     \n",
    "def update_df(imgs, defects, df, mip):\n",
    "    for k, v in imgs.items():\n",
    "        method = None\n",
    "        dataset = None\n",
    "        area = None\n",
    "\n",
    "            \n",
    "        if 'v14' in  k:\n",
    "            dataset = 'Block Matching'\n",
    "        else:\n",
    "            dataset = 'This Work'\n",
    "\n",
    "        if 'emb' in k:\n",
    "            method = 'Encoding Comparison'\n",
    "        else:\n",
    "            method = 'Image Comparison'\n",
    "\n",
    "        if '16' in k:\n",
    "            method += '\\n(512nm Window)'\n",
    "        elif '32' in k:\n",
    "            method += '\\n(1024nm Window)'\n",
    "        else:\n",
    "            method += '\\n(2048nm Window)'\n",
    "            \n",
    "        for around_defects in [True, False]:\n",
    "                    \n",
    "            if around_defects == False:\n",
    "                area = 'Whole Image'\n",
    "            else:\n",
    "                area = 'Around Defects'\n",
    "                \n",
    "            score, px_count = get_score(v, mip, defects[dataset], around_defects)\n",
    "            score = 2 - score\n",
    "\n",
    "            new_row = {'Comparison Method': method, 'Alignment Method': dataset, 'CPC Similarity': score, 'Section': z, 'Area': area, 'Pixel Count': px_count}\n",
    "            df = df.append(new_row, ignore_index=True)\n",
    "    return df"
   ]
  },
  {
   "cell_type": "code",
   "execution_count": null,
   "metadata": {},
   "outputs": [],
   "source": []
  },
  {
   "cell_type": "code",
   "execution_count": 2,
   "metadata": {},
   "outputs": [],
   "source": [
    "z_start = 1300\n",
    "z_end = 2010\n",
    "df = pandas.DataFrame(columns=['Comparison Method', 'CPC Similarity', 'Section', 'Alignment Method', 'Area', 'Pixel Count'])\n",
    "\n",
    "defect_paths = {\n",
    "    'folds_v14': f'matrix://seamless-paper/prod_x3/binarized_masks/mask/fold',\n",
    "    'cracks_v14': f'matrix://seamless-paper/prod_x3/binarized_masks/mask/crack',\n",
    "    'folds': f'matrix://seamless-paper/prod_x3/binarized_masks/mask/fold_run_x11',\n",
    "    'cracks': f'matrix://seamless-paper/prod_x3/binarized_masks/mask/crack_run_x11',   \n",
    "}"
   ]
  },
  {
   "cell_type": "code",
   "execution_count": null,
   "metadata": {},
   "outputs": [
    {
     "data": {
      "application/vnd.jupyter.widget-view+json": {
       "model_id": "a09c74e9a5d94803ac3bcdf8373c1568",
       "version_major": 2,
       "version_minor": 0
      },
      "text/plain": [
       "  0%|          | 0/710 [00:00<?, ?it/s]"
      ]
     },
     "metadata": {},
     "output_type": "display_data"
    },
    {
     "name": "stderr",
     "output_type": "stream",
     "text": [
      "/usr/people/popovych/env/corgie_merge/lib/python3.7/site-packages/ipykernel_launcher.py:28: DeprecationWarning: `np.bool` is a deprecated alias for the builtin `bool`. To silence this warning, use `bool` by itself. Doing this will not modify any behavior and is safe. If you specifically wanted the numpy scalar type, use `np.bool_` here.\n",
      "Deprecated in NumPy 1.20; for more details and guidance: https://numpy.org/devdocs/release/1.20.0-notes.html#deprecations\n"
     ]
    }
   ],
   "source": [
    "img_mip = 9\n",
    "\n",
    "version = 'x21'\n",
    "layer_paths = {\n",
    "    'cpc64_img': f'matrix://seamless-paper/prod_x3/cpc64_img_run_x11_a_{version}',\n",
    "    'cpc64_img_v14': f'matrix://seamless-paper/prod_x3/cpc64_img_v14_run_x11_a_{version}',\n",
    "    'cpc64_emb': f'matrix://seamless-paper/prod_x3/cpc64_emb_run_x11_a_{version}',\n",
    "    'cpc64_emb_v14': f'matrix://seamless-paper/prod_x3/cpc64_emb_v14_run_x11_a_{version}',\n",
    "}\n",
    "\n",
    "cvs = {\n",
    "    name: cv.CloudVolume(path, mip=img_mip, parallel=True, progress=False, bounded=False) for name, path in layer_paths.items()\n",
    "}\n",
    "\n",
    "defect_cvs = {\n",
    "    name: cv.CloudVolume(path, mip=img_mip, parallel=True, progress=False, bounded=False) for name, path in defect_paths.items()\n",
    "}\n",
    "\n",
    "\n",
    "for z in tqdm.notebook.tqdm(range(z_start, z_end)):\n",
    "    imgs = get_imgs(z=z)\n",
    "    defects = {\n",
    "        'Block Matching': get_defects(z=z, v14=True),\n",
    "        'This Work': get_defects(z=z, v14=False)\n",
    "    }\n",
    "    df = update_df(imgs, defects, df, mip=img_mip)\n",
    "df.to_pickle(f'cpc64_defects_{z_start}_{z_end}.pkl')"
   ]
  },
  {
   "cell_type": "code",
   "execution_count": null,
   "metadata": {},
   "outputs": [
    {
     "data": {
      "application/vnd.jupyter.widget-view+json": {
       "model_id": "c56f8b019b094c079e0ca66799892afb",
       "version_major": 2,
       "version_minor": 0
      },
      "text/plain": [
       "  0%|          | 0/710 [00:00<?, ?it/s]"
      ]
     },
     "metadata": {},
     "output_type": "display_data"
    },
    {
     "name": "stderr",
     "output_type": "stream",
     "text": [
      "/usr/people/popovych/env/corgie_merge/lib/python3.7/site-packages/ipykernel_launcher.py:28: DeprecationWarning: `np.bool` is a deprecated alias for the builtin `bool`. To silence this warning, use `bool` by itself. Doing this will not modify any behavior and is safe. If you specifically wanted the numpy scalar type, use `np.bool_` here.\n",
      "Deprecated in NumPy 1.20; for more details and guidance: https://numpy.org/devdocs/release/1.20.0-notes.html#deprecations\n"
     ]
    }
   ],
   "source": [
    "img_mip = 8\n",
    "\n",
    "version = 'x21'\n",
    "layer_paths = {\n",
    "    'cpc32_img': f'matrix://seamless-paper/prod_x3/cpc32_img_run_x11_a_{version}',\n",
    "    'cpc32_img_v14': f'matrix://seamless-paper/prod_x3/cpc32_img_v14_run_x11_a_{version}',\n",
    "    'cpc32_emb': f'matrix://seamless-paper/prod_x3/cpc32_emb_run_x11_a_{version}',\n",
    "    'cpc32_emb_v14': f'matrix://seamless-paper/prod_x3/cpc32_emb_v14_run_x11_a_{version}',\n",
    "}\n",
    "\n",
    "cvs = {\n",
    "    name: cv.CloudVolume(path, mip=img_mip, parallel=True, progress=False, bounded=False) for name, path in layer_paths.items()\n",
    "}\n",
    "\n",
    "defect_cvs = {\n",
    "    name: cv.CloudVolume(path, mip=img_mip, parallel=True, progress=False, bounded=False) for name, path in defect_paths.items()\n",
    "}\n",
    "\n",
    "for z in tqdm.notebook.tqdm(range(z_start, z_end)):\n",
    "    imgs = get_imgs(z=z)\n",
    "    defects = {\n",
    "        'Block Matching': get_defects(z=z, v14=True),\n",
    "        'This Work': get_defects(z=z, v14=False)\n",
    "    }\n",
    "    df = update_df(imgs, defects, df, mip=img_mip)\n",
    "df.to_pickle(f'cpc32_defects_{z_start}_{z_end}.pkl')"
   ]
  },
  {
   "cell_type": "code",
   "execution_count": null,
   "metadata": {},
   "outputs": [],
   "source": [
    "img_mip = 7\n",
    "\n",
    "version = 'x21'\n",
    "layer_paths = {\n",
    "    'cpc16_img': f'matrix://seamless-paper/prod_x3/cpc16_img_run_x11_a_{version}',\n",
    "    'cpc16_img_v14': f'matrix://seamless-paper/prod_x3/cpc16_img_v14_run_x11_a_{version}',\n",
    "    'cpc16_emb': f'matrix://seamless-paper/prod_x3/cpc16_emb_run_x11_a_{version}',\n",
    "    'cpc16_emb_v14': f'matrix://seamless-paper/prod_x3/cpc16_emb_v14_run_x11_a_{version}',\n",
    "}\n",
    "\n",
    "cvs = {\n",
    "    name: cv.CloudVolume(path, mip=img_mip, parallel=True, progress=False, bounded=False) for name, path in layer_paths.items()\n",
    "}\n",
    "\n",
    "defect_cvs = {\n",
    "    name: cv.CloudVolume(path, mip=img_mip, parallel=True, progress=False, bounded=False) for name, path in defect_paths.items()\n",
    "}\n",
    "\n",
    "\n",
    "\n",
    "for z in tqdm.notebook.tqdm(range(z_start, z_end)):\n",
    "    imgs = get_imgs(z=z)\n",
    "    defects = {\n",
    "        'Block Matching': get_defects(z=z, v14=True),\n",
    "        'This Work': get_defects(z=z, v14=False)\n",
    "    }\n",
    "    df = update_df(imgs, defects, df, mip=img_mip)\n",
    "df.to_pickle(f'cpc16_defects_{z_start}_{z_end}.pkl')"
   ]
  },
  {
   "cell_type": "code",
   "execution_count": 19,
   "metadata": {},
   "outputs": [],
   "source": [
    "df['CPC Similarity'] = df['CPC Similarity'].astype(float)"
   ]
  },
  {
   "cell_type": "code",
   "execution_count": 20,
   "metadata": {},
   "outputs": [
    {
     "data": {
      "text/plain": [
       "1       0.953043\n",
       "3       0.985289\n",
       "5       1.443559\n",
       "7       1.387125\n",
       "9       0.988214\n",
       "          ...   \n",
       "5591    1.031894\n",
       "5593    1.264471\n",
       "5595    0.891953\n",
       "5597    1.559716\n",
       "5599    1.140629\n",
       "Name: CPC Similarity, Length: 2781, dtype: float64"
      ]
     },
     "execution_count": 20,
     "metadata": {},
     "output_type": "execute_result"
    }
   ],
   "source": [
    "df[(df['Area'] != 'Around Defects') * (df['CPC Similarity'] < 1.99) * (df['Section'] < 2000) * (df['Pixel Count'] > 100)][\"CPC Similarity\"]"
   ]
  },
  {
   "cell_type": "code",
   "execution_count": 22,
   "metadata": {},
   "outputs": [
    {
     "data": {
      "image/png": "[encoded data removed]",
      "text/plain": [
       "<Figure size 1296x432 with 1 Axes>"
      ]
     },
     "metadata": {},
     "output_type": "display_data"
    }
   ],
   "source": [
    "sns.set(style=\"darkgrid\")\n",
    "plt.figure(figsize=(18, 6))\n",
    "# Grouped violinplot\n",
    "ax = sns.violinplot(\n",
    "    x=\"Comparison Method\", \n",
    "    y=\"CPC Similarity\", \n",
    "    hue=\"Alignment Method\", \n",
    "    data=df[(df['Area'] != 'Around Defects') * (df['CPC Similarity'] < 1.99) * (df['Section'] < 2000) * (df['Pixel Count'] > 100)], \n",
    "    palette=\"Pastel1\", \n",
    "    hue_order=['Block Matching', 'This Work'],\n",
    "    order=[\n",
    "        #'Image Comparison\\n(512nm Window)', \n",
    "        #'Encoding Comparison\\n(512nm Window)',\n",
    "        #'Image Comparison\\n(1024nm Window)', \n",
    "        #'Encoding Comparison\\n(1024nm Window)', \n",
    "        'Image Comparison\\n(2048nm Window)', \n",
    "        'Encoding Comparison\\n(2048nm Window)', \n",
    "    ],\n",
    ")\n",
    "#ax.set(ylim=(1, 2))\n",
    "plt.show()"
   ]
  },
  {
   "cell_type": "code",
   "execution_count": 23,
   "metadata": {},
   "outputs": [
    {
     "data": {
      "image/png": "[encoded data removed]",
      "text/plain": [
       "<Figure size 1296x432 with 1 Axes>"
      ]
     },
     "metadata": {},
     "output_type": "display_data"
    }
   ],
   "source": [
    "sns.set(style=\"darkgrid\")\n",
    "plt.figure(figsize=(18, 6))\n",
    "# Grouped violinplot\n",
    "ax = sns.violinplot(\n",
    "    x=\"Comparison Method\", \n",
    "    y=\"CPC Similarity\", \n",
    "    hue=\"Alignment Method\", \n",
    "    data=df[(df['Area'] == 'Around Defects') * (df['CPC Similarity'] < 1.99) * (df['Section'] < 2000) * (df['Pixel Count'] > 100)], \n",
    "    palette=\"Pastel1\", \n",
    "    hue_order=['Block Matching', 'This Work'],\n",
    "    order=[\n",
    "        #'Image Comparison\\n(512nm Window)', \n",
    "        #'Encoding Comparison\\n(512nm Window)',\n",
    "        #'Image Comparison\\n(1024nm Window)', \n",
    "        #'Encoding Comparison\\n(1024nm Window)', \n",
    "        'Image Comparison\\n(2048nm Window)', \n",
    "        'Encoding Comparison\\n(2048nm Window)', \n",
    "    ],\n",
    ")\n",
    "#ax.set(ylim=(1, 2))\n",
    "plt.show()"
   ]
  },
  {
   "cell_type": "code",
   "execution_count": 70,
   "metadata": {},
   "outputs": [
    {
     "data": {
      "text/plain": [
       "0.6472591161727905"
      ]
     },
     "execution_count": 70,
     "metadata": {},
     "output_type": "execute_result"
    }
   ],
   "source": [
    "df[df['Area'] == 'Around Defects']['CPC Similarity'].min()"
   ]
  },
  {
   "cell_type": "code",
   "execution_count": 76,
   "metadata": {},
   "outputs": [
    {
     "data": {
      "text/plain": [
       "([1006,\n",
       "  1007,\n",
       "  1008,\n",
       "  1009,\n",
       "  1011,\n",
       "  1012,\n",
       "  1014,\n",
       "  1015,\n",
       "  1017,\n",
       "  1018,\n",
       "  1020,\n",
       "  1021,\n",
       "  1023,\n",
       "  1024,\n",
       "  1026,\n",
       "  1027,\n",
       "  1029,\n",
       "  1030,\n",
       "  1032,\n",
       "  1033,\n",
       "  1034,\n",
       "  1035,\n",
       "  1036,\n",
       "  1037,\n",
       "  1038,\n",
       "  1039,\n",
       "  1040,\n",
       "  1041,\n",
       "  1042,\n",
       "  1044,\n",
       "  1046,\n",
       "  1047,\n",
       "  1048,\n",
       "  1049,\n",
       "  1050,\n",
       "  1051,\n",
       "  1053,\n",
       "  1054,\n",
       "  1055,\n",
       "  1056,\n",
       "  1058,\n",
       "  1059,\n",
       "  1060,\n",
       "  1062,\n",
       "  1063,\n",
       "  1064,\n",
       "  1065,\n",
       "  1066,\n",
       "  1068,\n",
       "  1069,\n",
       "  1070,\n",
       "  1071,\n",
       "  1072,\n",
       "  1073,\n",
       "  1074,\n",
       "  1075,\n",
       "  1076,\n",
       "  1077,\n",
       "  1078,\n",
       "  1079,\n",
       "  1080,\n",
       "  1081,\n",
       "  1082,\n",
       "  1083,\n",
       "  1084,\n",
       "  1085,\n",
       "  1086,\n",
       "  1087,\n",
       "  1088,\n",
       "  1089,\n",
       "  1090,\n",
       "  1091,\n",
       "  1092,\n",
       "  1093,\n",
       "  1094,\n",
       "  1095,\n",
       "  1096,\n",
       "  1097,\n",
       "  1099,\n",
       "  1101,\n",
       "  1102,\n",
       "  1103,\n",
       "  1111,\n",
       "  1112,\n",
       "  1113,\n",
       "  1114,\n",
       "  1116,\n",
       "  1117,\n",
       "  1118,\n",
       "  1119,\n",
       "  1120,\n",
       "  1122,\n",
       "  1123,\n",
       "  1124,\n",
       "  1125,\n",
       "  1126,\n",
       "  1132,\n",
       "  1133,\n",
       "  1134,\n",
       "  1135,\n",
       "  1136,\n",
       "  1137,\n",
       "  1138,\n",
       "  1139,\n",
       "  1140,\n",
       "  1141,\n",
       "  1142,\n",
       "  1143,\n",
       "  1145,\n",
       "  1148,\n",
       "  1150,\n",
       "  1151,\n",
       "  1157,\n",
       "  1159,\n",
       "  1160,\n",
       "  1163,\n",
       "  1164,\n",
       "  1166,\n",
       "  1167,\n",
       "  1168,\n",
       "  1169,\n",
       "  1170,\n",
       "  1174,\n",
       "  1175,\n",
       "  1176,\n",
       "  1180,\n",
       "  1181,\n",
       "  1183,\n",
       "  1184,\n",
       "  1185,\n",
       "  1188,\n",
       "  1189,\n",
       "  1190,\n",
       "  1191,\n",
       "  1193,\n",
       "  1195],\n",
       " [1002,\n",
       "  1003,\n",
       "  1004,\n",
       "  1005,\n",
       "  1010,\n",
       "  1013,\n",
       "  1016,\n",
       "  1019,\n",
       "  1022,\n",
       "  1025,\n",
       "  1028,\n",
       "  1031,\n",
       "  1043,\n",
       "  1045,\n",
       "  1052,\n",
       "  1057,\n",
       "  1061,\n",
       "  1067,\n",
       "  1098,\n",
       "  1100,\n",
       "  1104,\n",
       "  1105,\n",
       "  1106,\n",
       "  1107,\n",
       "  1108,\n",
       "  1109,\n",
       "  1110,\n",
       "  1115,\n",
       "  1121,\n",
       "  1127,\n",
       "  1128,\n",
       "  1129,\n",
       "  1130,\n",
       "  1131,\n",
       "  1144,\n",
       "  1146,\n",
       "  1147,\n",
       "  1149,\n",
       "  1152,\n",
       "  1153,\n",
       "  1154,\n",
       "  1155,\n",
       "  1156,\n",
       "  1158,\n",
       "  1161,\n",
       "  1162,\n",
       "  1165,\n",
       "  1171,\n",
       "  1172,\n",
       "  1173,\n",
       "  1177,\n",
       "  1178,\n",
       "  1179,\n",
       "  1182,\n",
       "  1186,\n",
       "  1187,\n",
       "  1192,\n",
       "  1194])"
      ]
     },
     "execution_count": 76,
     "metadata": {},
     "output_type": "execute_result"
    }
   ],
   "source": [
    "comp_meth = 'Encoding Comparison\\n(2048nm Window)'\n",
    "\n",
    "sections_without_defects = df[(df['Area'] != 'Whole Image') * (df['Pixel Count'] == 0)]['Section']\n",
    "sections_without_defects = list(np.unique(sections_without_defects.values))\n",
    "\n",
    "sections_with_defects = df[ df['Section'].isin(sections_without_defects) == 0]['Section']\n",
    "sections_with_defects = list(np.unique(sections_with_defects.values))\n",
    "df['Section'].isin(sections_without_defects)\n",
    "sections_without_defects, sections_with_defects"
   ]
  },
  {
   "cell_type": "code",
   "execution_count": 77,
   "metadata": {},
   "outputs": [
    {
     "data": {
      "text/html": [
       "<div>\n",
       "<style scoped>\n",
       "    .dataframe tbody tr th:only-of-type {\n",
       "        vertical-align: middle;\n",
       "    }\n",
       "\n",
       "    .dataframe tbody tr th {\n",
       "        vertical-align: top;\n",
       "    }\n",
       "\n",
       "    .dataframe thead th {\n",
       "        text-align: right;\n",
       "    }\n",
       "</style>\n",
       "<table border=\"1\" class=\"dataframe\">\n",
       "  <thead>\n",
       "    <tr style=\"text-align: right;\">\n",
       "      <th></th>\n",
       "      <th>Comparison Method</th>\n",
       "      <th>CPC Similarity</th>\n",
       "      <th>Section</th>\n",
       "      <th>Alignment Method</th>\n",
       "      <th>Area</th>\n",
       "      <th>Pixel Count</th>\n",
       "    </tr>\n",
       "  </thead>\n",
       "  <tbody>\n",
       "    <tr>\n",
       "      <th>48</th>\n",
       "      <td>Image Comparison\\n(2048nm Window)</td>\n",
       "      <td>2.000000</td>\n",
       "      <td>1008</td>\n",
       "      <td>This Work</td>\n",
       "      <td>Around Defects</td>\n",
       "      <td>0</td>\n",
       "    </tr>\n",
       "    <tr>\n",
       "      <th>49</th>\n",
       "      <td>Image Comparison\\n(2048nm Window)</td>\n",
       "      <td>1.203316</td>\n",
       "      <td>1008</td>\n",
       "      <td>This Work</td>\n",
       "      <td>Whole Image</td>\n",
       "      <td>12036</td>\n",
       "    </tr>\n",
       "    <tr>\n",
       "      <th>50</th>\n",
       "      <td>Image Comparison\\n(2048nm Window)</td>\n",
       "      <td>2.000000</td>\n",
       "      <td>1008</td>\n",
       "      <td>Block Matching</td>\n",
       "      <td>Around Defects</td>\n",
       "      <td>0</td>\n",
       "    </tr>\n",
       "    <tr>\n",
       "      <th>51</th>\n",
       "      <td>Image Comparison\\n(2048nm Window)</td>\n",
       "      <td>1.133263</td>\n",
       "      <td>1008</td>\n",
       "      <td>Block Matching</td>\n",
       "      <td>Whole Image</td>\n",
       "      <td>11996</td>\n",
       "    </tr>\n",
       "    <tr>\n",
       "      <th>52</th>\n",
       "      <td>Encoding Comparison\\n(2048nm Window)</td>\n",
       "      <td>2.000000</td>\n",
       "      <td>1008</td>\n",
       "      <td>This Work</td>\n",
       "      <td>Around Defects</td>\n",
       "      <td>0</td>\n",
       "    </tr>\n",
       "    <tr>\n",
       "      <th>53</th>\n",
       "      <td>Encoding Comparison\\n(2048nm Window)</td>\n",
       "      <td>1.635877</td>\n",
       "      <td>1008</td>\n",
       "      <td>This Work</td>\n",
       "      <td>Whole Image</td>\n",
       "      <td>12036</td>\n",
       "    </tr>\n",
       "    <tr>\n",
       "      <th>54</th>\n",
       "      <td>Encoding Comparison\\n(2048nm Window)</td>\n",
       "      <td>2.000000</td>\n",
       "      <td>1008</td>\n",
       "      <td>Block Matching</td>\n",
       "      <td>Around Defects</td>\n",
       "      <td>0</td>\n",
       "    </tr>\n",
       "    <tr>\n",
       "      <th>55</th>\n",
       "      <td>Encoding Comparison\\n(2048nm Window)</td>\n",
       "      <td>1.550003</td>\n",
       "      <td>1008</td>\n",
       "      <td>Block Matching</td>\n",
       "      <td>Whole Image</td>\n",
       "      <td>12049</td>\n",
       "    </tr>\n",
       "  </tbody>\n",
       "</table>\n",
       "</div>"
      ],
      "text/plain": [
       "                       Comparison Method  CPC Similarity Section  \\\n",
       "48     Image Comparison\\n(2048nm Window)        2.000000    1008   \n",
       "49     Image Comparison\\n(2048nm Window)        1.203316    1008   \n",
       "50     Image Comparison\\n(2048nm Window)        2.000000    1008   \n",
       "51     Image Comparison\\n(2048nm Window)        1.133263    1008   \n",
       "52  Encoding Comparison\\n(2048nm Window)        2.000000    1008   \n",
       "53  Encoding Comparison\\n(2048nm Window)        1.635877    1008   \n",
       "54  Encoding Comparison\\n(2048nm Window)        2.000000    1008   \n",
       "55  Encoding Comparison\\n(2048nm Window)        1.550003    1008   \n",
       "\n",
       "   Alignment Method            Area Pixel Count  \n",
       "48        This Work  Around Defects           0  \n",
       "49        This Work     Whole Image       12036  \n",
       "50   Block Matching  Around Defects           0  \n",
       "51   Block Matching     Whole Image       11996  \n",
       "52        This Work  Around Defects           0  \n",
       "53        This Work     Whole Image       12036  \n",
       "54   Block Matching  Around Defects           0  \n",
       "55   Block Matching     Whole Image       12049  "
      ]
     },
     "execution_count": 77,
     "metadata": {},
     "output_type": "execute_result"
    }
   ],
   "source": [
    "df[(df['Section'] == 1008)]"
   ]
  },
  {
   "cell_type": "code",
   "execution_count": 20,
   "metadata": {},
   "outputs": [
    {
     "data": {
      "text/html": [
       "<div>\n",
       "<style scoped>\n",
       "    .dataframe tbody tr th:only-of-type {\n",
       "        vertical-align: middle;\n",
       "    }\n",
       "\n",
       "    .dataframe tbody tr th {\n",
       "        vertical-align: top;\n",
       "    }\n",
       "\n",
       "    .dataframe thead th {\n",
       "        text-align: right;\n",
       "    }\n",
       "</style>\n",
       "<table border=\"1\" class=\"dataframe\">\n",
       "  <thead>\n",
       "    <tr style=\"text-align: right;\">\n",
       "      <th></th>\n",
       "      <th>Comparison Method</th>\n",
       "      <th>CPC Similarity</th>\n",
       "      <th>Section</th>\n",
       "      <th>Alignment Method</th>\n",
       "      <th>Area</th>\n",
       "      <th>Pixel Count</th>\n",
       "    </tr>\n",
       "  </thead>\n",
       "  <tbody>\n",
       "    <tr>\n",
       "      <th>7</th>\n",
       "      <td>Encoding Comparison\\n(2048nm Window)</td>\n",
       "      <td>1.320690</td>\n",
       "      <td>1002</td>\n",
       "      <td>Block Matching</td>\n",
       "      <td>Whole Image</td>\n",
       "      <td>11941</td>\n",
       "    </tr>\n",
       "    <tr>\n",
       "      <th>15</th>\n",
       "      <td>Encoding Comparison\\n(2048nm Window)</td>\n",
       "      <td>1.236992</td>\n",
       "      <td>1003</td>\n",
       "      <td>Block Matching</td>\n",
       "      <td>Whole Image</td>\n",
       "      <td>11463</td>\n",
       "    </tr>\n",
       "    <tr>\n",
       "      <th>23</th>\n",
       "      <td>Encoding Comparison\\n(2048nm Window)</td>\n",
       "      <td>1.253488</td>\n",
       "      <td>1004</td>\n",
       "      <td>Block Matching</td>\n",
       "      <td>Whole Image</td>\n",
       "      <td>11455</td>\n",
       "    </tr>\n",
       "    <tr>\n",
       "      <th>31</th>\n",
       "      <td>Encoding Comparison\\n(2048nm Window)</td>\n",
       "      <td>1.113890</td>\n",
       "      <td>1005</td>\n",
       "      <td>Block Matching</td>\n",
       "      <td>Whole Image</td>\n",
       "      <td>11392</td>\n",
       "    </tr>\n",
       "    <tr>\n",
       "      <th>55</th>\n",
       "      <td>Encoding Comparison\\n(2048nm Window)</td>\n",
       "      <td>1.550003</td>\n",
       "      <td>1008</td>\n",
       "      <td>Block Matching</td>\n",
       "      <td>Whole Image</td>\n",
       "      <td>12049</td>\n",
       "    </tr>\n",
       "  </tbody>\n",
       "</table>\n",
       "</div>"
      ],
      "text/plain": [
       "                       Comparison Method  CPC Similarity Section  \\\n",
       "7   Encoding Comparison\\n(2048nm Window)        1.320690    1002   \n",
       "15  Encoding Comparison\\n(2048nm Window)        1.236992    1003   \n",
       "23  Encoding Comparison\\n(2048nm Window)        1.253488    1004   \n",
       "31  Encoding Comparison\\n(2048nm Window)        1.113890    1005   \n",
       "55  Encoding Comparison\\n(2048nm Window)        1.550003    1008   \n",
       "\n",
       "   Alignment Method         Area Pixel Count  \n",
       "7    Block Matching  Whole Image       11941  \n",
       "15   Block Matching  Whole Image       11463  \n",
       "23   Block Matching  Whole Image       11455  \n",
       "31   Block Matching  Whole Image       11392  \n",
       "55   Block Matching  Whole Image       12049  "
      ]
     },
     "execution_count": 20,
     "metadata": {},
     "output_type": "execute_result"
    }
   ],
   "source": [
    "df[whole_with_defects_bm]"
   ]
  },
  {
   "cell_type": "code",
   "execution_count": 194,
   "metadata": {},
   "outputs": [
    {
     "data": {
      "text/plain": [
       "VolumeCutout(75674.138428)"
      ]
     },
     "execution_count": 194,
     "metadata": {},
     "output_type": "execute_result"
    }
   ],
   "source": [
    "(df[whole_with_defects_bm]['CPC Similarity'] * df[whole_with_defects_bm]['Pixel Count']).sum()"
   ]
  },
  {
   "cell_type": "code",
   "execution_count": 193,
   "metadata": {},
   "outputs": [
    {
     "data": {
      "text/plain": [
       "VolumeCutout(58300)"
      ]
     },
     "execution_count": 193,
     "metadata": {},
     "output_type": "execute_result"
    }
   ],
   "source": [
    "total_px_count"
   ]
  },
  {
   "cell_type": "code",
   "execution_count": 78,
   "metadata": {},
   "outputs": [
    {
     "data": {
      "text/plain": [
       "VolumeCutout(1.27440109)"
      ]
     },
     "execution_count": 78,
     "metadata": {},
     "output_type": "execute_result"
    }
   ],
   "source": [
    "whole_bm = (\n",
    "    (df['Area'] == 'Whole Image') * \n",
    "    (df['Alignment Method'] == 'Block Matching') * \n",
    "    (df['Comparison Method'] == comp_meth) * \n",
    "    (df['CPC Similarity'] > 0)\n",
    ")\n",
    "\n",
    "whole_with_defects_bm = (df['Section'].isin(sections_with_defects)) * whole_bm\n",
    "\n",
    "total_px_count = df[whole_with_defects_bm]['Pixel Count'].sum()\n",
    "total_cpc_diff = (df[whole_with_defects_bm]['CPC Similarity'] * df[whole_with_defects_bm]['Pixel Count']).sum()\n",
    "total_cpc_diff / total_px_count "
   ]
  },
  {
   "cell_type": "code",
   "execution_count": 79,
   "metadata": {},
   "outputs": [
    {
     "data": {
      "text/plain": [
       "VolumeCutout(1.11788935)"
      ]
     },
     "execution_count": 79,
     "metadata": {},
     "output_type": "execute_result"
    }
   ],
   "source": [
    "around_bm = (\n",
    "    (df['Area'] != 'Whole Image') * \n",
    "    (df['Alignment Method'] == 'Block Matching') * \n",
    "    (df['Comparison Method'] == comp_meth) * \n",
    "    (df['CPC Similarity'] > 0)\n",
    ")\n",
    "\n",
    "around_with_defects_bm = (df['Section'].isin(sections_with_defects)) * around_bm\n",
    "\n",
    "total_px_count = df[around_with_defects_bm]['Pixel Count'].sum()\n",
    "total_cpc_diff = (df[around_with_defects_bm]['CPC Similarity'] * df[around_with_defects_bm]['Pixel Count']).sum()\n",
    "total_cpc_diff / total_px_count "
   ]
  },
  {
   "cell_type": "code",
   "execution_count": 80,
   "metadata": {},
   "outputs": [
    {
     "name": "stdout",
     "output_type": "stream",
     "text": [
      "720763\n"
     ]
    },
    {
     "data": {
      "text/plain": [
       "VolumeCutout(1.46079679)"
      ]
     },
     "execution_count": 80,
     "metadata": {},
     "output_type": "execute_result"
    }
   ],
   "source": [
    "whole_this = (\n",
    "    (df['Area'] == 'Whole Image') * \n",
    "    (df['Alignment Method'] != 'Block Matching') * \n",
    "    (df['Comparison Method'] == comp_meth) * \n",
    "    (df['CPC Similarity'] > 0)\n",
    ")\n",
    "\n",
    "around_with_defects_bm = (df['Section'].isin(sections_with_defects)) * whole_this\n",
    "\n",
    "total_px_count = df[around_with_defects_bm]['Pixel Count'].sum()\n",
    "print (total_px_count)\n",
    "total_cpc_diff = (df[around_with_defects_bm]['CPC Similarity'] * df[around_with_defects_bm]['Pixel Count']).sum()\n",
    "total_cpc_diff / total_px_count "
   ]
  },
  {
   "cell_type": "code",
   "execution_count": 81,
   "metadata": {},
   "outputs": [
    {
     "name": "stdout",
     "output_type": "stream",
     "text": [
      "37916\n"
     ]
    },
    {
     "data": {
      "text/plain": [
       "VolumeCutout(1.37584072)"
      ]
     },
     "execution_count": 81,
     "metadata": {},
     "output_type": "execute_result"
    }
   ],
   "source": [
    "around_this = (\n",
    "    (df['Area'] != 'Whole Image') * \n",
    "    (df['Alignment Method'] != 'Block Matching') * \n",
    "    (df['Comparison Method'] == comp_meth) * \n",
    "    (df['CPC Similarity'] > 0)\n",
    ")\n",
    "\n",
    "around_with_defects_bm = (df['Section'].isin(sections_with_defects)) * around_this\n",
    "\n",
    "total_px_count = df[around_with_defects_bm]['Pixel Count'].sum()\n",
    "print (total_px_count)\n",
    "total_cpc_diff = (df[around_with_defects_bm]['CPC Similarity'] * df[around_with_defects_bm]['Pixel Count']).sum()\n",
    "total_cpc_diff / total_px_count "
   ]
  },
  {
   "cell_type": "code",
   "execution_count": 39,
   "metadata": {},
   "outputs": [
    {
     "data": {
      "text/plain": [
       "1.2312652319669724"
      ]
     },
     "execution_count": 39,
     "metadata": {},
     "output_type": "execute_result"
    }
   ],
   "source": [
    "v1 = df[(\n",
    "    (df['Area'] == 'Whole Image') * \n",
    "    (df['Alignment Method'] == 'Block Matching') * \n",
    "    (df['Comparison Method'] == comp_meth) *\n",
    "    (df['Comparison Method'] == comp_meth) *\n",
    "    (df['Section'].isin(sections_with_defects))\n",
    ")]['CPC Similarity'].mean()\n",
    "v1"
   ]
  },
  {
   "cell_type": "code",
   "execution_count": 212,
   "metadata": {},
   "outputs": [
    {
     "data": {
      "text/plain": [
       "1.1915411800146103"
      ]
     },
     "execution_count": 212,
     "metadata": {},
     "output_type": "execute_result"
    }
   ],
   "source": [
    "v2 = df[(\n",
    "    (df['Area'] != 'Whole Image') * \n",
    "    (df['Alignment Method'] == 'Block Matching') * \n",
    "    (df['Comparison Method'] == comp_meth) *\n",
    "    (df['Comparison Method'] == comp_meth) *\n",
    "    (df['Section'].isin(sections_with_defects))\n",
    ")]['CPC Similarity'].mean()\n",
    "v2"
   ]
  },
  {
   "cell_type": "code",
   "execution_count": 213,
   "metadata": {},
   "outputs": [
    {
     "data": {
      "text/plain": [
       "0.9677372097245839"
      ]
     },
     "execution_count": 213,
     "metadata": {},
     "output_type": "execute_result"
    }
   ],
   "source": [
    "v2/v1"
   ]
  },
  {
   "cell_type": "code",
   "execution_count": 142,
   "metadata": {},
   "outputs": [
    {
     "data": {
      "text/plain": [
       "1.3518868148326875"
      ]
     },
     "execution_count": 142,
     "metadata": {},
     "output_type": "execute_result"
    }
   ],
   "source": [
    "v1 = df[(\n",
    "    (df['Area'] == 'Whole Image') * \n",
    "    (df['Alignment Method'] != 'Block Matching') * \n",
    "    (df['Comparison Method'] == comp_meth) *\n",
    "    (df['Comparison Method'] == comp_meth) *\n",
    "    (df['Section'].isin(sections_with_defects))\n",
    ")]['CPC Similarity'].mean()\n",
    "v1"
   ]
  },
  {
   "cell_type": "code",
   "execution_count": 143,
   "metadata": {},
   "outputs": [
    {
     "data": {
      "text/plain": [
       "1.297178077697754"
      ]
     },
     "execution_count": 143,
     "metadata": {},
     "output_type": "execute_result"
    }
   ],
   "source": [
    "v2 = df[(\n",
    "    (df['Area'] != 'Whole Image') * \n",
    "    (df['Alignment Method'] != 'Block Matching') * \n",
    "    (df['Comparison Method'] == comp_meth) *\n",
    "    (df['Comparison Method'] == comp_meth) *\n",
    "    (df['Section'].isin(sections_with_defects))\n",
    ")]['CPC Similarity'].mean()\n",
    "v2"
   ]
  },
  {
   "cell_type": "code",
   "execution_count": 144,
   "metadata": {},
   "outputs": [
    {
     "data": {
      "text/plain": [
       "0.959531569851353"
      ]
     },
     "execution_count": 144,
     "metadata": {},
     "output_type": "execute_result"
    }
   ],
   "source": [
    "v2/v1"
   ]
  },
  {
   "cell_type": "code",
   "execution_count": 10,
   "metadata": {},
   "outputs": [],
   "source": [
    "img_mip = 7\n",
    "\n",
    "version = 'x21'\n",
    "layer_paths = {\n",
    "    'cpc64_img': f'matrix://seamless-paper/prod_x3/cpc64_img_run_x11_a_{version}',\n",
    "    'cpc64_img_v14': f'matrix://seamless-paper/prod_x3/cpc64_img_v14_run_x11_a_{version}',\n",
    "    'cpc64_emb': f'matrix://seamless-paper/prod_x3/cpc64_emb_run_x11_a_{version}',\n",
    "    'cpc64_emb_v14': f'matrix://seamless-paper/prod_x3/cpc64_emb_v14_run_x11_a_{version}',\n",
    "    'folds': f'matrix://seamless-paper/prod_x3/binarized_masks/mask/fold',\n",
    "    'cracks': f'matrix://seamless-paper/prod_x3/binarized_masks/mask/crack',\n",
    "}\n",
    "\n",
    "cvs = {\n",
    "    name: cv.CloudVolume(path, mip=img_mip, parallel=True, progress=False, bounded=False) for name, path in layer_paths.items()\n",
    "}\n",
    "imgs = get_imgs(z=1003)"
   ]
  },
  {
   "cell_type": "code",
   "execution_count": 38,
   "metadata": {},
   "outputs": [
    {
     "name": "stdout",
     "output_type": "stream",
     "text": [
      "210\n"
     ]
    },
    {
     "name": "stderr",
     "output_type": "stream",
     "text": [
      "/usr/people/popovych/env/corgie_merge/lib/python3.7/site-packages/ipykernel_launcher.py:28: DeprecationWarning: `np.bool` is a deprecated alias for the builtin `bool`. To silence this warning, use `bool` by itself. Doing this will not modify any behavior and is safe. If you specifically wanted the numpy scalar type, use `np.bool_` here.\n",
      "Deprecated in NumPy 1.20; for more details and guidance: https://numpy.org/devdocs/release/1.20.0-notes.html#deprecations\n"
     ]
    },
    {
     "data": {
      "application/vnd.jupyter.widget-view+json": {
       "model_id": "2712064a0670404bba257c97c25a33cc",
       "version_major": 2,
       "version_minor": 0
      },
      "text/plain": [
       "interactive(children=(ToggleButtons(description='Image:', options=(0, 1, 2, 3), value=0), IntText(value=1, des…"
      ]
     },
     "metadata": {},
     "output_type": "display_data"
    }
   ],
   "source": [
    "img_mip = 7\n",
    "\n",
    "defect_cvs = {\n",
    "    name: cv.CloudVolume(path, mip=img_mip, parallel=True, progress=False, bounded=False) for name, path in defect_paths.items()\n",
    "}\n",
    "\n",
    "defects = get_defects(z=1004, v14=False)\n",
    "defects_v14 = get_defects(z=1004, v14=True)\n",
    "print((defects != 0).sum())\n",
    "simple_visualizer().visualize([defects, filter_small(defects, 8 * (2**(9 - img_mip))), defects_v14, get_around_defect_region(defects, mip=img_mip)])"
   ]
  },
  {
   "cell_type": "code",
   "execution_count": 11,
   "metadata": {},
   "outputs": [
    {
     "data": {
      "application/vnd.jupyter.widget-view+json": {
       "model_id": "2232dc5a792b4454be294cf8f81f6167",
       "version_major": 2,
       "version_minor": 0
      },
      "text/plain": [
       "interactive(children=(ToggleButtons(description='Image:', options=(0, 1), value=0), IntText(value=1, descripti…"
      ]
     },
     "metadata": {},
     "output_type": "display_data"
    }
   ],
   "source": [
    "img_mip = 7\n",
    "version = 'x21'\n",
    "layer_paths = {\n",
    "    'folds_v14': f'matrix://seamless-paper/prod_x3/binarized_masks/mask/fold',\n",
    "    #'cracks_v14': f'matrix://seamless-paper/prod_x3/binarized_masks/mask/crack',\n",
    "    'folds': f'matrix://seamless-paper/prod_x3/binarized_masks/mask/fold_run_x11',\n",
    "    #'cracks': f'matrix://seamless-paper/prod_x3/binarized_masks/mask/crack_run_x11',\n",
    "    #'cpc64_emb': f'matrix://seamless-paper/prod_x3/cpc64_emb_run_x11_a_{version}',\n",
    "    #'cpc64_emb_v14': f'matrix://seamless-paper/prod_x3/cpc64_emb_v14_run_x11_a_{version}',\n",
    "}\n",
    "\n",
    "cvs = {\n",
    "    name: cv.CloudVolume(path, mip=img_mip, parallel=True, progress=False, bounded=False) for name, path in layer_paths.items()\n",
    "}\n",
    "\n",
    "imgs = get_imgs(z=1003)\n",
    "simple_visualizer().visualize(list(imgs.values()))"
   ]
  },
  {
   "cell_type": "code",
   "execution_count": 54,
   "metadata": {},
   "outputs": [
    {
     "name": "stderr",
     "output_type": "stream",
     "text": [
      "/usr/people/popovych/env/corgie_merge/lib/python3.7/site-packages/ipykernel_launcher.py:1: DeprecationWarning: `np.float` is a deprecated alias for the builtin `float`. To silence this warning, use `float` by itself. Doing this will not modify any behavior and is safe. If you specifically wanted the numpy scalar type, use `np.float64` here.\n",
      "Deprecated in NumPy 1.20; for more details and guidance: https://numpy.org/devdocs/release/1.20.0-notes.html#deprecations\n",
      "  \"\"\"Entry point for launching an IPython kernel.\n"
     ]
    },
    {
     "data": {
      "application/vnd.jupyter.widget-view+json": {
       "model_id": "618d04978466482eaea19d010b4e1d8a",
       "version_major": 2,
       "version_minor": 0
      },
      "text/plain": [
       "interactive(children=(ToggleButtons(description='Image:', options=(0, 1, 2, 3, 4, 5, 6, 7, 8), value=0), IntTe…"
      ]
     },
     "metadata": {},
     "output_type": "display_data"
    }
   ],
   "source": [
    "simple_visualizer().visualize([(imgs['absdiff_norm_v14'] == 0).astype(np.float)] + list(imgs.values()))"
   ]
  },
  {
   "cell_type": "code",
   "execution_count": 5,
   "metadata": {},
   "outputs": [],
   "source": []
  },
  {
   "cell_type": "code",
   "execution_count": 6,
   "metadata": {
    "collapsed": true,
    "jupyter": {
     "outputs_hidden": true
    }
   },
   "outputs": [
    {
     "data": {
      "application/vnd.jupyter.widget-view+json": {
       "model_id": "4c26a24f78cd4ab28a7ebe15a685d79d",
       "version_major": 2,
       "version_minor": 0
      },
      "text/plain": [
       "  0%|          | 0/1000 [00:00<?, ?it/s]"
      ]
     },
     "metadata": {},
     "output_type": "display_data"
    },
    {
     "name": "stdout",
     "output_type": "stream",
     "text": [
      "1000 0\n",
      "1001 0\n",
      "1002 -0.019406259059906006\n",
      "1003 -0.0383530855178833\n",
      "1004 -0.02102375030517578\n",
      "1005 -0.01585167646408081\n",
      "1006 -0.016450166702270508\n",
      "1007 -0.003996670246124268\n",
      "1008 0.004606008529663086\n",
      "1009 -0.0006996393203735352\n",
      "1010 -0.019391179084777832\n",
      "1011 -0.019864022731781006\n",
      "1012 -0.009700000286102295\n",
      "1013 -0.01079559326171875\n",
      "1014 -0.004783689975738525\n",
      "1015 -0.011059463024139404\n",
      "1016 -0.0051541924476623535\n",
      "1017 -0.009232163429260254\n",
      "1018 -0.016878068447113037\n",
      "1019 -0.03520089387893677\n",
      "1020 -0.016086578369140625\n",
      "1021 -0.012639939785003662\n",
      "1022 -0.01449495553970337\n",
      "1023 -0.016217529773712158\n",
      "1024 -0.010630190372467041\n",
      "1025 -0.006922304630279541\n",
      "1026 -0.004856586456298828\n",
      "1027 -0.011847436428070068\n",
      "1028 -0.009919464588165283\n",
      "1029 -0.006367087364196777\n",
      "1030 -0.019355714321136475\n",
      "1031 -0.01330256462097168\n",
      "1032 -0.012924671173095703\n",
      "1033 -0.03311944007873535\n",
      "1034 -0.004425406455993652\n",
      "1035 -0.01828598976135254\n",
      "1036 -0.013882100582122803\n",
      "1037 0.0069653987884521484\n",
      "1038 -0.00038129091262817383\n",
      "1039 -0.0031537413597106934\n",
      "1040 -0.00841134786605835\n",
      "1041 -0.029119551181793213\n",
      "1042 -0.025166690349578857\n",
      "1043 -0.0237695574760437\n",
      "1044 -0.012185156345367432\n",
      "1045 -0.02538079023361206\n",
      "1046 -0.010605394840240479\n",
      "1047 -0.0009750723838806152\n",
      "1048 -0.03275489807128906\n",
      "1049 -0.004987776279449463\n",
      "1050 -0.013482272624969482\n",
      "1051 -0.053634047508239746\n",
      "1052 -0.03010314702987671\n",
      "1053 -0.017291128635406494\n",
      "1054 -0.012503325939178467\n",
      "1055 -0.01241987943649292\n",
      "1056 -0.004440248012542725\n",
      "1057 -0.008658111095428467\n",
      "1058 -0.010108351707458496\n",
      "1059 -0.01676851511001587\n",
      "1060 -0.011884331703186035\n",
      "1061 -0.023418962955474854\n",
      "1062 -0.009029090404510498\n",
      "1063 -0.018251240253448486\n",
      "1064 0.013457417488098145\n",
      "1065 0.010347247123718262\n",
      "1066 -0.0017750859260559082\n",
      "1067 -0.006471574306488037\n",
      "1068 -0.005311250686645508\n",
      "1069 -0.00013971328735351562\n",
      "1070 0.0004781484603881836\n",
      "1071 -0.0026761889457702637\n",
      "1072 -0.00801396369934082\n",
      "1073 0.014362215995788574\n",
      "1074 0.012216448783874512\n",
      "1075 -0.007004678249359131\n",
      "1076 -0.009104549884796143\n",
      "1077 -0.008536875247955322\n",
      "1078 -0.005999267101287842\n",
      "1079 0.017984509468078613\n",
      "1080 0.02093327045440674\n",
      "1081 0.002071857452392578\n",
      "1082 -0.00827324390411377\n",
      "1083 -0.005024135112762451\n",
      "1084 -0.0060272216796875\n",
      "1085 -0.005655646324157715\n",
      "1086 -0.0010156631469726562\n",
      "1087 -0.002940833568572998\n",
      "1088 0.008794188499450684\n",
      "1089 0.010257244110107422\n",
      "1090 -0.004139721393585205\n",
      "1091 -0.009184300899505615\n",
      "1092 -0.009015262126922607\n",
      "1093 -0.012609124183654785\n",
      "1094 0.01667630672454834\n",
      "1095 0.014908313751220703\n",
      "1096 -0.004947483539581299\n",
      "1097 -0.008694648742675781\n",
      "1098 -0.010826051235198975\n",
      "1099 -0.019649088382720947\n",
      "1100 -0.011000216007232666\n",
      "1101 -0.007157802581787109\n",
      "1102 -0.006944417953491211\n",
      "1103 -0.011670172214508057\n",
      "1104 -0.01069021224975586\n",
      "1105 -0.01817721128463745\n",
      "1106 0.00974428653717041\n",
      "1107 -0.000915229320526123\n",
      "1108 -0.01190119981765747\n",
      "1109 -0.028383493423461914\n",
      "1110 -0.03277087211608887\n",
      "1111 -0.012263178825378418\n",
      "1112 -0.005121171474456787\n",
      "1113 -0.0033242106437683105\n",
      "1114 -0.015840649604797363\n",
      "1115 -0.013699352741241455\n",
      "1116 -0.0071416497230529785\n",
      "1117 -0.007701277732849121\n",
      "1118 0.00956571102142334\n",
      "1119 0.007224321365356445\n",
      "1120 0.0001138448715209961\n",
      "1121 -0.013896763324737549\n",
      "1122 -0.004118204116821289\n",
      "1123 -0.0022875070571899414\n",
      "1124 -0.006933331489562988\n",
      "1125 -0.006765305995941162\n",
      "1126 -0.010655462741851807\n",
      "1127 -0.025785982608795166\n",
      "1128 -0.03934091329574585\n",
      "1129 -0.06989699602127075\n",
      "1130 -0.11215454339981079\n",
      "1131 -0.07250070571899414\n",
      "1132 -0.06391799449920654\n",
      "1133 -0.008640468120574951\n",
      "1134 -0.0057045817375183105\n",
      "1135 -0.01632612943649292\n",
      "1136 -0.0209161639213562\n",
      "1137 -0.02382802963256836\n",
      "1138 -0.05780744552612305\n",
      "1139 -0.07378369569778442\n",
      "1140 -0.06331247091293335\n",
      "1141 -0.08691161870956421\n",
      "1142 -0.024197041988372803\n",
      "1143 0.0053441524505615234\n",
      "1144 -0.013946056365966797\n",
      "1145 0.017313361167907715\n",
      "1146 0.0010148286819458008\n",
      "1147 -0.012027263641357422\n",
      "1148 -0.008149027824401855\n",
      "1149 -0.031920790672302246\n",
      "1150 -0.04787886142730713\n",
      "1151 -0.021079957485198975\n",
      "1152 -0.02843761444091797\n",
      "1153 -0.04695242643356323\n",
      "1154 -0.053075194358825684\n",
      "1155 -0.05685925483703613\n",
      "1156 -0.06702214479446411\n",
      "1157 -0.06401568651199341\n",
      "1158 -0.06549841165542603\n",
      "1159 -0.05953562259674072\n",
      "1160 0.007242798805236816\n",
      "1161 0.0021648406982421875\n",
      "1162 -0.02681863307952881\n",
      "1163 -0.020294606685638428\n",
      "1164 -0.003498852252960205\n",
      "1165 -0.01663529872894287\n",
      "1166 -0.006070435047149658\n",
      "1167 -0.006802022457122803\n",
      "1168 -0.009682118892669678\n",
      "1169 0.012234807014465332\n",
      "1170 -0.008759856224060059\n",
      "1171 -0.030957400798797607\n",
      "1172 -0.0628235936164856\n",
      "1173 -0.010680198669433594\n",
      "1174 -0.01737833023071289\n",
      "1175 0.0059893131256103516\n",
      "1176 -0.008489429950714111\n",
      "1177 -0.030772268772125244\n",
      "1178 -0.02311575412750244\n",
      "1179 -0.03706765174865723\n",
      "1180 -0.03125673532485962\n",
      "1181 0.008421659469604492\n",
      "1182 0.004186511039733887\n",
      "1183 -0.006744682788848877\n",
      "1184 -0.003068089485168457\n",
      "1185 -0.01185828447341919\n",
      "1186 -0.1671106219291687\n",
      "1187 -0.2236805558204651\n",
      "1188 -0.15537410974502563\n",
      "1189 -0.1654924750328064\n",
      "1190 -0.09452474117279053\n",
      "1191 -0.09707939624786377\n",
      "1192 -0.18082183599472046\n",
      "1193 -0.22676467895507812\n",
      "1194 -0.042845308780670166\n",
      "1195 -0.2058238983154297\n",
      "1196 -0.031809985637664795\n",
      "1197 -0.10314691066741943\n",
      "1198 -0.45912402868270874\n",
      "1199 -0.5330478549003601\n",
      "1200 -0.13850432634353638\n",
      "1201 -0.16806310415267944\n",
      "1202 -0.30633020401000977\n",
      "1203 -0.3500368595123291\n",
      "1204 -0.4165663719177246\n",
      "1205 -0.4007743000984192\n",
      "1206 -0.11078673601150513\n",
      "1207 -0.06020200252532959\n",
      "1208 0.0008846521377563477\n",
      "1209 -0.002187788486480713\n",
      "1210 -0.015233457088470459\n",
      "1211 -0.0020302534103393555\n",
      "1212 -0.005908787250518799\n",
      "1213 -0.014035344123840332\n",
      "1214 -0.013021528720855713\n",
      "1215 -0.024047553539276123\n",
      "1216 -0.06702268123626709\n",
      "1217 -0.03963518142700195\n",
      "1218 -0.04690676927566528\n",
      "1219 0.042109012603759766\n",
      "1220 -0.05530858039855957\n",
      "1221 -0.06981438398361206\n",
      "1222 -0.08273184299468994\n",
      "1223 -0.021924257278442383\n",
      "1224 0.006273508071899414\n",
      "1225 -0.016752243041992188\n",
      "1226 -0.028160274028778076\n",
      "1227 -0.049646198749542236\n",
      "1228 -0.03667038679122925\n",
      "1229 0.0034627914428710938\n",
      "1230 0.01630580425262451\n",
      "1231 -0.2668856978416443\n",
      "1232 -0.008580327033996582\n",
      "1233 0.013423323631286621\n",
      "1234 0.007905840873718262\n",
      "1235 -0.001951456069946289\n",
      "1236 0.0018489360809326172\n",
      "1237 -0.10069882869720459\n",
      "1238 0.005973100662231445\n",
      "1239 0.012811064720153809\n",
      "1240 0.010552406311035156\n",
      "1241 -0.001999974250793457\n",
      "1242 -0.0038664937019348145\n",
      "1243 -0.05271643400192261\n",
      "1244 0.004387497901916504\n",
      "1245 0.002654433250427246\n",
      "1246 -0.0005085468292236328\n",
      "1247 -0.004234790802001953\n",
      "1248 0.009270906448364258\n",
      "1249 -0.12288320064544678\n",
      "1250 -0.009384453296661377\n",
      "1251 -0.007130622863769531\n",
      "1252 -0.002782881259918213\n",
      "1253 -0.019929051399230957\n",
      "1254 -0.0024954676628112793\n",
      "1255 -0.1547626256942749\n",
      "1256 0.014470696449279785\n",
      "1257 -0.006253242492675781\n",
      "1258 -0.059871673583984375\n",
      "1259 -0.05344521999359131\n",
      "1260 -0.08953332901000977\n",
      "1261 -0.029109060764312744\n",
      "1262 -0.012465238571166992\n",
      "1263 -0.016165077686309814\n",
      "1264 -0.01600825786590576\n",
      "1265 -0.01378023624420166\n",
      "1266 -0.007462739944458008\n",
      "1267 -0.01667696237564087\n",
      "1268 -0.020834922790527344\n",
      "1269 -0.0031456351280212402\n",
      "1270 -0.25637608766555786\n",
      "1271 -0.02643442153930664\n",
      "1272 -0.7696675211191177\n",
      "1273 -0.06304091215133667\n",
      "1274 -0.03576779365539551\n",
      "1275 -0.01738196611404419\n",
      "1276 -0.024867773056030273\n",
      "1277 -0.012475550174713135\n",
      "1278 -0.010766863822937012\n",
      "1279 -0.007333159446716309\n",
      "1280 0.004123568534851074\n",
      "1281 -0.0009265542030334473\n",
      "1282 0.0019419193267822266\n",
      "1283 0.002048492431640625\n",
      "1284 0.0010528564453125\n",
      "1285 -0.003054201602935791\n",
      "1286 0.00237429141998291\n",
      "1287 8.153915405273438e-05\n",
      "1288 -0.0037578940391540527\n",
      "1289 -0.0012935400009155273\n",
      "1290 -0.0015851855278015137\n",
      "1291 -0.043464720249176025\n",
      "1292 -0.05191218852996826\n",
      "1293 -0.026587069034576416\n",
      "1294 -0.04094493389129639\n",
      "1295 -0.043234288692474365\n",
      "1296 -0.019665122032165527\n",
      "1297 -0.0043221116065979\n",
      "1298 -0.004520773887634277\n",
      "1299 -0.003291487693786621\n",
      "1300 -0.0034343600273132324\n",
      "1301 0.0029282569885253906\n",
      "1302 0.0038334131240844727\n",
      "1303 -0.0030574798583984375\n",
      "1304 -0.009016752243041992\n",
      "1305 0.0029501914978027344\n",
      "1306 -0.005973219871520996\n",
      "1307 -0.0007041692733764648\n",
      "1308 -4.64320182800293e-05\n",
      "1309 -0.0013095736503601074\n",
      "1310 0.006622672080993652\n",
      "1311 0.0033919811248779297\n",
      "1312 -0.0038692355155944824\n",
      "1313 -0.009865343570709229\n",
      "1314 -0.006386518478393555\n",
      "1315 0.0005695819854736328\n",
      "1316 0.0021932125091552734\n",
      "1317 0.00188446044921875\n",
      "1318 -8.541345596313477e-05\n",
      "1319 0.005712151527404785\n",
      "1320 0.004593253135681152\n",
      "1321 0\n",
      "1322 0\n",
      "1323 0.002163529396057129\n",
      "1324 -0.00043213367462158203\n",
      "1325 -0.459220826625824\n",
      "1326 -0.2215927243232727\n",
      "1327 0.013959050178527832\n",
      "1328 0.020064949989318848\n",
      "1329 0.012890219688415527\n",
      "1330 0.009588003158569336\n",
      "1331 0.0026955604553222656\n",
      "1332 0.0019403696060180664\n",
      "1333 -0.0005544424057006836\n",
      "1334 0.003081083297729492\n",
      "1335 -0.0040264129638671875\n",
      "1336 -0.3106176257133484\n",
      "1337 -0.39683347940444946\n",
      "1338 0.006569981575012207\n",
      "1339 0.0060623884201049805\n",
      "1340 -0.0001518726348876953\n",
      "1341 -0.0022716522216796875\n",
      "1342 -0.005066990852355957\n",
      "1343 -0.006288766860961914\n",
      "1344 -0.0047591328620910645\n",
      "1345 -0.003633737564086914\n",
      "1346 0.0024374723434448242\n",
      "1347 0.0038257837295532227\n",
      "1348 -0.004586279392242432\n",
      "1349 0.0029338598251342773\n",
      "1350 0.0028276443481445312\n",
      "1351 -0.00607907772064209\n",
      "1352 -0.0003650188446044922\n",
      "1353 0.001478433609008789\n",
      "1354 -0.0024082064628601074\n",
      "1355 5.841255187988281e-05\n",
      "1356 0.0018573999404907227\n",
      "1357 -0.0016391277313232422\n",
      "1358 0.0010818243026733398\n",
      "1359 0.000655055046081543\n",
      "1360 -0.006162047386169434\n",
      "1361 -0.008208811283111572\n",
      "1362 -0.0023700594902038574\n",
      "1363 -0.007223606109619141\n",
      "1364 0.021575570106506348\n",
      "1365 0.013293147087097168\n",
      "1366 -0.017358362674713135\n",
      "1367 -0.02708369493484497\n",
      "1368 -0.03383076190948486\n",
      "1369 -0.00821685791015625\n",
      "1370 -0.004172146320343018\n",
      "1371 -0.011245965957641602\n",
      "1372 -0.027604281902313232\n",
      "1373 -0.028760552406311035\n",
      "1374 -0.03849667310714722\n",
      "1375 -0.02057933807373047\n",
      "1376 0.0035517215728759766\n",
      "1377 0.006790518760681152\n",
      "1378 -0.010841846466064453\n",
      "1379 -0.010004997253417969\n",
      "1380 -0.01611769199371338\n",
      "1381 -0.013115942478179932\n",
      "1382 0.008682012557983398\n",
      "1383 0.0010607242584228516\n",
      "1384 -0.011470317840576172\n",
      "1385 -0.002280294895172119\n",
      "1386 -0.0015687942504882812\n",
      "1387 -0.005941212177276611\n",
      "1388 -0.004823625087738037\n",
      "1389 -0.0022362470626831055\n",
      "1390 -0.009640395641326904\n",
      "1391 0.02514934539794922\n",
      "1392 0.02318441867828369\n",
      "1393 -0.034186482429504395\n",
      "1394 -0.053430795669555664\n",
      "1395 -0.025220751762390137\n",
      "1396 -0.034091830253601074\n",
      "1397 0.007938385009765625\n",
      "1398 0.005063176155090332\n",
      "1399 -0.0018101930618286133\n",
      "1400 0.0017542839050292969\n",
      "1401 -0.006927549839019775\n",
      "1402 -0.010046780109405518\n",
      "1403 -0.00507587194442749\n",
      "1404 -0.008382558822631836\n",
      "1405 -0.012877047061920166\n",
      "1406 0.0019533634185791016\n",
      "1407 0.011226654052734375\n",
      "1408 -0.0030925869941711426\n",
      "1409 -0.0055086612701416016\n",
      "1410 -0.004885315895080566\n",
      "1411 -0.01807039976119995\n",
      "1412 -0.006953418254852295\n",
      "1413 -0.00492328405380249\n",
      "1414 -0.006160736083984375\n",
      "1415 0.0012799501419067383\n",
      "1416 -0.016836822032928467\n",
      "1417 -0.01883530616760254\n",
      "1418 -0.0047609806060791016\n",
      "1419 -0.003368377685546875\n",
      "1420 -0.006043195724487305\n",
      "1421 0.007752060890197754\n",
      "1422 0.004362225532531738\n",
      "1423 0.004204154014587402\n",
      "1424 0.0008999109268188477\n",
      "1425 0.0020999908447265625\n",
      "1426 0.001426100730895996\n",
      "1427 0.0020525455474853516\n",
      "1428 0.0028734207153320312\n",
      "1429 -0.0317995548248291\n",
      "1430 -0.05218428373336792\n",
      "1431 -0.0016502141952514648\n",
      "1432 -0.030296027660369873\n",
      "1433 0.009807586669921875\n",
      "1434 0.018111467361450195\n",
      "1435 -0.009970903396606445\n",
      "1436 0.0013284683227539062\n",
      "1437 0.00812387466430664\n",
      "1438 0.01012122631072998\n",
      "1439 0.008102059364318848\n",
      "1440 0.006172776222229004\n",
      "1441 -0.002656877040863037\n",
      "1442 -0.00041288137435913086\n",
      "1443 -0.003935456275939941\n",
      "1444 -0.007443606853485107\n",
      "1445 -0.014256775379180908\n",
      "1446 -0.02277231216430664\n",
      "1447 -0.04013329744338989\n",
      "1448 0.009068727493286133\n",
      "1449 0.005612015724182129\n",
      "1450 0.00032842159271240234\n",
      "1451 -0.004906058311462402\n",
      "1452 -0.0034366846084594727\n",
      "1453 -0.012368857860565186\n",
      "1454 -0.003466308116912842\n",
      "1455 -0.0054160356521606445\n",
      "1456 -0.0210573673248291\n",
      "1457 -0.024269402027130127\n",
      "1458 -0.020299315452575684\n",
      "1459 -0.030089735984802246\n",
      "1460 0.005390644073486328\n",
      "1461 -0.002332627773284912\n",
      "1462 -0.0018310546875\n",
      "1463 0.0011123418807983398\n",
      "1464 0.002914905548095703\n",
      "1465 -0.0015709996223449707\n",
      "1466 0.0049817562103271484\n",
      "1467 0.0021581649780273438\n",
      "1468 -0.006097018718719482\n",
      "1469 1.0728836059570312e-06\n",
      "1470 -0.002814650535583496\n",
      "1471 -0.020832359790802002\n",
      "1472 -0.012462258338928223\n",
      "1473 -0.0070670247077941895\n",
      "1474 -0.004108071327209473\n",
      "1475 0.00586545467376709\n",
      "1476 0.0036431550979614258\n",
      "1477 -0.005365192890167236\n",
      "1478 0.005553245544433594\n",
      "1479 0.006917834281921387\n",
      "1480 0.0018787384033203125\n",
      "1481 -0.0024911165237426758\n",
      "1482 -0.0009707212448120117\n",
      "1483 -0.02058875560760498\n",
      "1484 -0.007174551486968994\n",
      "1485 -0.00870603322982788\n",
      "1486 -0.008524596691131592\n",
      "1487 -0.008899867534637451\n",
      "1488 -0.009017407894134521\n",
      "1489 -0.011438488960266113\n",
      "1490 -0.0037163496017456055\n",
      "1491 -0.009710192680358887\n",
      "1492 -0.03588521480560303\n",
      "1493 0.0011910200119018555\n",
      "1494 0.0038951635360717773\n",
      "1495 -0.0030658841133117676\n",
      "1496 -0.007185637950897217\n",
      "1497 -0.014262139797210693\n",
      "1498 -0.03574657440185547\n",
      "1499 -0.04399794340133667\n",
      "1500 -0.04267054796218872\n",
      "1501 -0.20757842063903809\n",
      "1502 -0.014475047588348389\n",
      "1503 -0.07774865627288818\n",
      "1504 -0.04022914171218872\n",
      "1505 -0.029211461544036865\n",
      "1506 -0.04041862487792969\n",
      "1507 -0.029579520225524902\n",
      "1508 -0.01156693696975708\n",
      "1509 -0.020586669445037842\n",
      "1510 -0.014754116535186768\n",
      "1511 -0.028465569019317627\n",
      "1512 -0.030500590801239014\n",
      "1513 -0.04848092794418335\n",
      "1514 -0.026448607444763184\n",
      "1515 -0.024315297603607178\n",
      "1516 -0.005415678024291992\n",
      "1517 -0.038245201110839844\n",
      "1518 -0.006747543811798096\n",
      "1519 -0.013016045093536377\n",
      "1520 -0.015669822692871094\n",
      "1521 -0.0457615852355957\n",
      "1522 -0.03110295534133911\n",
      "1523 -0.018687188625335693\n",
      "1524 -0.00936514139175415\n",
      "1525 0.0004401206970214844\n",
      "1526 -0.013945043087005615\n",
      "1527 -0.007000148296356201\n",
      "1528 -0.02331066131591797\n",
      "1529 -0.017947673797607422\n",
      "1530 0.049744606018066406\n",
      "1531 0.05181300640106201\n",
      "1532 -0.013374924659729004\n",
      "1533 -0.015081346035003662\n",
      "1534 -0.013383865356445312\n",
      "1535 -0.022258758544921875\n",
      "1536 -0.01319575309753418\n",
      "1537 -0.02832704782485962\n",
      "1538 -0.003199636936187744\n",
      "1539 -0.003293931484222412\n",
      "1540 7.605552673339844e-05\n",
      "1541 -0.008755207061767578\n",
      "1542 -0.008057177066802979\n",
      "1543 -0.008383572101593018\n",
      "1544 -0.004076123237609863\n",
      "1545 -0.0054871439933776855\n",
      "1546 -0.0066835880279541016\n",
      "1547 -0.011173903942108154\n",
      "1548 -0.010559558868408203\n",
      "1549 -0.0180322527885437\n",
      "1550 -0.004138290882110596\n",
      "1551 -0.0036091208457946777\n",
      "1552 -0.005918562412261963\n",
      "1553 -0.0016750097274780273\n",
      "1554 -0.0031135082244873047\n",
      "1555 -0.004584550857543945\n",
      "1556 -0.0055966973304748535\n",
      "1557 0.002567768096923828\n",
      "1558 -0.002934575080871582\n",
      "1559 -0.000899195671081543\n",
      "1560 -0.004689395427703857\n",
      "1561 -0.002474367618560791\n",
      "1562 -0.013902246952056885\n",
      "1563 0.010260939598083496\n",
      "1564 -0.01287621259689331\n",
      "1565 0\n",
      "1566 0\n",
      "1567 0.03025209903717041\n",
      "1568 0.030186891555786133\n",
      "1569 0.02162909507751465\n",
      "1570 0.014322757720947266\n",
      "1571 0.009884238243103027\n",
      "1572 0.01157081127166748\n",
      "1573 0.011526346206665039\n",
      "1574 0.009806156158447266\n",
      "1575 0.015579581260681152\n",
      "1576 0.009100914001464844\n",
      "1577 0.005933523178100586\n",
      "1578 0.005725264549255371\n",
      "1579 0.0036606788635253906\n",
      "1580 0.01031041145324707\n",
      "1581 0.003999829292297363\n",
      "1582 0.003159165382385254\n",
      "1583 0.0017238855361938477\n",
      "1584 0.007935881614685059\n",
      "1585 0.002324223518371582\n",
      "1586 -0.007265448570251465\n",
      "1587 -0.004422247409820557\n",
      "1588 0.006219267845153809\n",
      "1589 -0.01633763313293457\n",
      "1590 -0.01710522174835205\n",
      "1591 -0.022336900234222412\n",
      "1592 -0.004787862300872803\n",
      "1593 -0.1920148730278015\n",
      "1594 -0.21685737371444702\n",
      "1595 -0.19606447219848633\n",
      "1596 -0.24090683460235596\n",
      "1597 -0.20408236980438232\n",
      "1598 -0.1950366497039795\n",
      "1599 -0.13590335845947266\n",
      "1600 -0.17676055431365967\n",
      "1601 -0.1090654730796814\n",
      "1602 -0.0849376916885376\n",
      "1603 -0.04060405492782593\n",
      "1604 -0.021964669227600098\n",
      "1605 -0.009297788143157959\n",
      "1606 -0.019924402236938477\n",
      "1607 -0.031165122985839844\n",
      "1608 -0.06432372331619263\n",
      "1609 -0.0928298830986023\n",
      "1610 -0.11842536926269531\n",
      "1611 -0.20059406757354736\n",
      "1612 -0.2385944128036499\n",
      "1613 -0.248457133769989\n",
      "1614 -0.2543444037437439\n",
      "1615 -0.18901866674423218\n",
      "1616 -0.23696935176849365\n",
      "1617 -0.2374018430709839\n",
      "1618 0.006682753562927246\n",
      "1619 0.01832139492034912\n",
      "1620 0.017653584480285645\n",
      "1621 0.006646871566772461\n",
      "1622 -0.0018351078033447266\n",
      "1623 -0.0018587708473205566\n",
      "1624 -0.005340754985809326\n",
      "1625 -0.0002938508987426758\n",
      "1626 0.004305839538574219\n",
      "1627 -0.0005031824111938477\n",
      "1628 -0.002167344093322754\n",
      "1629 0.0010682344436645508\n",
      "1630 -0.004027605056762695\n",
      "1631 -0.0009227991104125977\n",
      "1632 0.0013239383697509766\n",
      "1633 -0.00453495979309082\n",
      "1634 -0.003468453884124756\n",
      "1635 0.0036585330963134766\n",
      "1636 -0.005765378475189209\n",
      "1637 -0.012045562267303467\n",
      "1638 -0.01476752758026123\n",
      "1639 -0.0076822638511657715\n",
      "1640 0.00044524669647216797\n",
      "1641 -0.010167181491851807\n",
      "1642 -0.008782267570495605\n",
      "1643 -0.0008203983306884766\n",
      "1644 0.00010836124420166016\n",
      "1645 0.0007200241088867188\n",
      "1646 0.002518773078918457\n",
      "1647 0.002038717269897461\n",
      "1648 -0.0024611949920654297\n",
      "1649 -0.001571059226989746\n",
      "1650 0.00021731853485107422\n",
      "1651 -0.004766881465911865\n",
      "1652 -0.0008810758590698242\n",
      "1653 -0.0018224716186523438\n",
      "1654 -0.007325351238250732\n",
      "1655 -0.0018098950386047363\n",
      "1656 0.0011383295059204102\n",
      "1657 -0.002447843551635742\n",
      "1658 0.0010085105895996094\n",
      "1659 0.0003993511199951172\n",
      "1660 -0.00947713851928711\n",
      "1661 -0.005134761333465576\n",
      "1662 -0.006160855293273926\n",
      "1663 -0.011872470378875732\n",
      "1664 -0.00526583194732666\n",
      "1665 0.0014758110046386719\n",
      "1666 -0.0005643367767333984\n",
      "1667 -0.0017161965370178223\n",
      "1668 0.00015425682067871094\n",
      "1669 -0.004984080791473389\n",
      "1670 -0.2764638662338257\n",
      "1671 -0.2546038031578064\n",
      "1672 -0.28591495752334595\n",
      "1673 -0.2715266942977905\n",
      "1674 -0.22401762008666992\n",
      "1675 -0.21324336528778076\n",
      "1676 -0.1592695116996765\n",
      "1677 -0.17534011602401733\n",
      "1678 -0.13569891452789307\n",
      "1679 -0.08328306674957275\n",
      "1680 -0.04969710111618042\n",
      "1681 -0.030755162239074707\n",
      "1682 -0.009481310844421387\n",
      "1683 -0.0042604804039001465\n",
      "1684 -0.03683674335479736\n",
      "1685 -0.07648956775665283\n",
      "1686 -0.08124864101409912\n",
      "1687 -0.11381363868713379\n",
      "1688 -0.15289318561553955\n",
      "1689 -0.16656476259231567\n",
      "1690 -0.18160629272460938\n",
      "1691 -0.1893552541732788\n",
      "1692 -0.2099609375\n",
      "1693 -0.21445900201797485\n",
      "1694 -0.001555323600769043\n",
      "1695 0.0023676156997680664\n",
      "1696 0.001535654067993164\n",
      "1697 0.005946636199951172\n",
      "1698 0.0071604251861572266\n",
      "1699 0.004155278205871582\n",
      "1700 0.0005319118499755859\n",
      "1701 0.0039825439453125\n",
      "1702 -0.0021321773529052734\n",
      "1703 -0.0034006237983703613\n",
      "1704 0.000538945198059082\n",
      "1705 -0.0048354268074035645\n",
      "1706 -0.0008909702301025391\n",
      "1707 0.0013641119003295898\n",
      "1708 -0.0006087422370910645\n",
      "1709 -0.0009177327156066895\n",
      "1710 -0.008940815925598145\n",
      "1711 -0.02151864767074585\n",
      "1712 -0.002703070640563965\n",
      "1713 -0.004091501235961914\n",
      "1714 -0.006685018539428711\n",
      "1715 -0.0017334818840026855\n",
      "1716 0.002052783966064453\n",
      "1717 -0.012517929077148438\n",
      "1718 -0.006116747856140137\n",
      "1719 -0.012538790702819824\n",
      "1720 -0.013185322284698486\n",
      "1721 -0.015036582946777344\n",
      "1722 -0.004096090793609619\n",
      "1723 -0.0055710673332214355\n",
      "1724 -0.005952119827270508\n",
      "1725 -0.004133343696594238\n",
      "1726 -0.01519787311553955\n",
      "1727 -0.03341871500015259\n",
      "1728 -0.017387807369232178\n",
      "1729 -0.009178996086120605\n",
      "1730 -0.004017949104309082\n",
      "1731 -0.0012584328651428223\n",
      "1732 -0.010237812995910645\n",
      "1733 -0.004857301712036133\n",
      "1734 -0.004975795745849609\n",
      "1735 -0.009860813617706299\n",
      "1736 -0.00013637542724609375\n",
      "1737 -0.0018409490585327148\n",
      "1738 -0.0055114030838012695\n",
      "1739 -0.0006093978881835938\n",
      "1740 -0.0032058358192443848\n",
      "1741 -0.006295919418334961\n",
      "1742 0.0017650127410888672\n",
      "1743 -0.000555574893951416\n",
      "1744 -0.0045310258865356445\n",
      "1745 0.0006946325302124023\n",
      "1746 0.003746509552001953\n",
      "1747 0.0024657249450683594\n",
      "1748 0.00023877620697021484\n",
      "1749 0.0017739534378051758\n",
      "1750 0.0041342973709106445\n",
      "1751 0.0004544258117675781\n",
      "1752 -0.004061281681060791\n",
      "1753 -0.0021944046020507812\n",
      "1754 0.0006320476531982422\n",
      "1755 0.00041484832763671875\n",
      "1756 9.894371032714844e-06\n",
      "1757 0.0029985904693603516\n",
      "1758 -0.0011927485466003418\n",
      "1759 -0.006894588470458984\n",
      "1760 -0.005835056304931641\n",
      "1761 -0.009661316871643066\n",
      "1762 -0.0019179582595825195\n",
      "1763 -0.0007300376892089844\n",
      "1764 -0.0008634328842163086\n",
      "1765 -0.002062499523162842\n",
      "1766 -0.005899965763092041\n",
      "1767 -0.0021390914916992188\n",
      "1768 -0.00947505235671997\n",
      "1769 0.00014030933380126953\n",
      "1770 0.0011904239654541016\n",
      "1771 -0.004265427589416504\n",
      "1772 -0.012727439403533936\n",
      "1773 -0.0015660524368286133\n",
      "1774 -0.0025432705879211426\n",
      "1775 -0.0014643669128417969\n",
      "1776 0.0010148286819458008\n",
      "1777 0.0028225183486938477\n",
      "1778 0.00039327144622802734\n",
      "1779 -0.00011301040649414062\n",
      "1780 0.003650188446044922\n",
      "1781 0.0018041133880615234\n",
      "1782 1.2636184692382812e-05\n",
      "1783 -0.01876688003540039\n",
      "1784 -0.013019442558288574\n",
      "1785 -0.005871295928955078\n",
      "1786 -0.009570777416229248\n",
      "1787 -0.010861635208129883\n",
      "1788 -0.009633541107177734\n",
      "1789 -0.0039095282554626465\n",
      "1790 -0.007256567478179932\n",
      "1791 -0.014697432518005371\n",
      "1792 -0.02286815643310547\n",
      "1793 -0.010751962661743164\n",
      "1794 -0.025243282318115234\n",
      "1795 -0.12391132116317749\n",
      "1796 -0.01964467763900757\n",
      "1797 -0.020518600940704346\n",
      "1798 -0.024815857410430908\n",
      "1799 -0.018651306629180908\n",
      "1800 -0.014962434768676758\n",
      "1801 -0.011984765529632568\n",
      "1802 -0.0017581582069396973\n",
      "1803 -0.003635585308074951\n",
      "1804 -0.014569461345672607\n",
      "1805 -0.01048731803894043\n",
      "1806 0.0014792680740356445\n",
      "1807 0.0014182329177856445\n",
      "1808 -0.002168118953704834\n",
      "1809 -0.005645751953125\n",
      "1810 -0.005998551845550537\n",
      "1811 -0.0013461112976074219\n",
      "1812 -0.0015244483947753906\n",
      "1813 -0.003481149673461914\n",
      "1814 -0.0007107853889465332\n",
      "1815 0.00039398670196533203\n",
      "1816 -0.021824181079864502\n",
      "1817 -0.020197510719299316\n",
      "1818 -0.007012426853179932\n",
      "1819 -0.020573139190673828\n",
      "1820 -0.006371200084686279\n",
      "1821 -0.004081904888153076\n",
      "1822 -0.013417720794677734\n",
      "1823 -0.009361207485198975\n",
      "1824 -0.009613752365112305\n",
      "1825 -0.01593184471130371\n",
      "1826 -0.0046479105949401855\n",
      "1827 -0.00021827220916748047\n",
      "1828 -0.00330275297164917\n",
      "1829 0.0022554397583007812\n",
      "1830 0.0003254413604736328\n",
      "1831 -0.01613771915435791\n",
      "1832 -0.01229792833328247\n",
      "1833 -0.011719226837158203\n",
      "1834 -0.012963593006134033\n",
      "1835 -0.0024837851524353027\n",
      "1836 -0.0026210546493530273\n",
      "1837 -0.004014730453491211\n",
      "1838 -0.00699305534362793\n",
      "1839 -0.01122748851776123\n",
      "1840 -0.006769657135009766\n",
      "1841 -0.006583511829376221\n",
      "1842 0.0006918907165527344\n",
      "1843 -0.005182862281799316\n",
      "1844 -0.009319305419921875\n",
      "1845 -0.016010761260986328\n",
      "1846 -0.012721121311187744\n",
      "1847 -0.003237128257751465\n",
      "1848 -0.010966122150421143\n",
      "1849 -0.014856934547424316\n",
      "1850 -0.006052494049072266\n",
      "1851 -0.0035206079483032227\n",
      "1852 -0.011507511138916016\n",
      "1853 -0.00851905345916748\n",
      "1854 -0.0022192001342773438\n",
      "1855 -0.014876842498779297\n",
      "1856 -0.006316065788269043\n",
      "1857 -0.009551405906677246\n",
      "1858 -0.013855397701263428\n",
      "1859 -0.008432447910308838\n",
      "1860 -0.008811414241790771\n",
      "1861 -0.012572526931762695\n",
      "1862 -0.014556884765625\n",
      "1863 -0.008131742477416992\n",
      "1864 -0.0013660788536071777\n",
      "1865 0.0033643245697021484\n",
      "1866 0.004396677017211914\n",
      "1867 -0.003297746181488037\n",
      "1868 0.004575967788696289\n",
      "1869 0.0007528066635131836\n",
      "1870 -0.0017078518867492676\n",
      "1871 -0.00041103363037109375\n",
      "1872 0.003214597702026367\n",
      "1873 0.0021529197692871094\n",
      "1874 0.001706242561340332\n",
      "1875 0.003918766975402832\n",
      "1876 -0.0016279816627502441\n",
      "1877 0.004202008247375488\n",
      "1878 0.003404855728149414\n",
      "1879 0.0030246973037719727\n",
      "1880 0.003839850425720215\n",
      "1881 -0.005754232406616211\n",
      "1882 -0.011609196662902832\n",
      "1883 -0.00815194845199585\n",
      "1884 -0.0050179362297058105\n",
      "1885 -0.002399444580078125\n",
      "1886 0.0038313865661621094\n",
      "1887 0.0026917457580566406\n",
      "1888 0.00364840030670166\n",
      "1889 0.0030927658081054688\n",
      "1890 0.00028252601623535156\n",
      "1891 -0.01896679401397705\n",
      "1892 -0.0014323592185974121\n",
      "1893 -0.0034525394439697266\n",
      "1894 -0.0027759671211242676\n",
      "1895 -0.0005921125411987305\n",
      "1896 -0.007570087909698486\n",
      "1897 -0.010774850845336914\n",
      "1898 0.003178238868713379\n",
      "1899 0.0022797584533691406\n",
      "1900 0.0023080110549926758\n",
      "1901 -6.580352783203125e-05\n",
      "1902 0.00033652782440185547\n",
      "1903 -0.00627511739730835\n",
      "1904 -0.0026580095291137695\n",
      "1905 -1.6689300537109375e-05\n",
      "1906 -0.004096269607543945\n",
      "1907 -0.0073621273040771484\n",
      "1908 -0.0025551915168762207\n",
      "1909 -0.0017229914665222168\n",
      "1910 0.0008071660995483398\n",
      "1911 -0.002513289451599121\n",
      "1912 -0.004583179950714111\n",
      "1913 -0.005544781684875488\n",
      "1914 -0.004326939582824707\n",
      "1915 -0.001051783561706543\n",
      "1916 0.0022039413452148438\n",
      "1917 -0.0034311413764953613\n",
      "1918 -0.003033459186553955\n",
      "1919 -0.0010011792182922363\n",
      "1920 -0.0009132623672485352\n",
      "1921 -0.006925106048583984\n",
      "1922 -0.005586028099060059\n",
      "1923 -0.001476883888244629\n",
      "1924 -0.0023807287216186523\n",
      "1925 -0.006265223026275635\n",
      "1926 -0.0030849575996398926\n",
      "1927 -0.010246872901916504\n",
      "1928 -0.002453029155731201\n",
      "1929 -0.007483124732971191\n",
      "1930 -0.009998559951782227\n",
      "1931 -0.010516464710235596\n",
      "1932 0.0019501447677612305\n",
      "1933 -0.007271409034729004\n",
      "1934 -0.0036211609840393066\n",
      "1935 -0.0004063248634338379\n",
      "1936 0.0004502534866333008\n",
      "1937 -0.007013499736785889\n",
      "1938 -0.0015565156936645508\n",
      "1939 0.014908432960510254\n",
      "1940 0.006780266761779785\n",
      "1941 -0.001049041748046875\n",
      "1942 -0.001331329345703125\n",
      "1943 -0.003843843936920166\n",
      "1944 -0.005350053310394287\n",
      "1945 -0.0027933120727539062\n",
      "1946 -0.0020577311515808105\n",
      "1947 0.004871487617492676\n",
      "1948 0.006269931793212891\n",
      "1949 0.02371978759765625\n",
      "1950 -0.007217049598693848\n",
      "1951 0.01364600658416748\n",
      "1952 0.0032471418380737305\n",
      "1953 -0.005134105682373047\n",
      "1954 -0.0011091828346252441\n",
      "1955 -0.003834366798400879\n",
      "1956 -0.2874124050140381\n",
      "1957 -0.2680546045303345\n",
      "1958 -0.01684325933456421\n",
      "1959 -0.01671987771987915\n",
      "1960 -0.009633302688598633\n",
      "1961 -0.007429897785186768\n",
      "1962 -0.02002924680709839\n",
      "1963 -0.004282891750335693\n",
      "1964 -0.004399776458740234\n",
      "1965 -0.003343820571899414\n",
      "1966 -0.001682281494140625\n",
      "1967 0.005518913269042969\n",
      "1968 0.009560585021972656\n",
      "1969 0.019063115119934082\n",
      "1970 0.0072432756423950195\n",
      "1971 -0.013103127479553223\n",
      "1972 -0.017466247081756592\n",
      "1973 0.003873586654663086\n",
      "1974 -0.008713960647583008\n",
      "1975 -0.008674800395965576\n",
      "1976 -0.004238545894622803\n",
      "1977 -0.003620147705078125\n",
      "1978 -0.005943596363067627\n",
      "1979 -0.0036169886589050293\n",
      "1980 -0.001459658145904541\n",
      "1981 -0.012761235237121582\n",
      "1982 -0.01918971538543701\n",
      "1983 -0.007075130939483643\n",
      "1984 -0.007994294166564941\n",
      "1985 -0.004671156406402588\n",
      "1986 -0.00950855016708374\n",
      "1987 -0.00916147232055664\n",
      "1988 0.0003941059112548828\n",
      "1989 -0.00041353702545166016\n",
      "1990 -0.003014087677001953\n",
      "1991 -0.0040648579597473145\n",
      "1992 -0.016645431518554688\n",
      "1993 -0.025107622146606445\n",
      "1994 -0.0047607421875\n",
      "1995 -0.018314242362976074\n",
      "1996 -0.023935914039611816\n",
      "1997 0.11174464225769043\n",
      "1998 0.08748281002044678\n",
      "1999 -0.01592022180557251\n"
     ]
    }
   ],
   "source": []
  },
  {
   "cell_type": "code",
   "execution_count": 358,
   "metadata": {},
   "outputs": [
    {
     "name": "stdout",
     "output_type": "stream",
     "text": [
      "yo\n",
      "yo\n",
      "yo\n",
      "yo\n",
      "yo\n",
      "yo\n",
      "yo\n",
      "yo\n"
     ]
    }
   ],
   "source": [
    "#emb_diff = {z: get_improvement(z, 'emb') for z in range(z_start, z_end)}\n",
    "#img_diff = {z: get_improvement(z, 'img') for z in range(z_start, z_end)}\n",
    "\n",
    "emb_cpc = {z: get_improvement(z, 'emb', 'cpc64') for z in range(z_start, z_end)}\n",
    "img_cpc = {z: get_improvement(z, 'img', 'cpc64') for z in range(z_start, z_end)}"
   ]
  },
  {
   "cell_type": "code",
   "execution_count": null,
   "metadata": {},
   "outputs": [],
   "source": []
  },
  {
   "cell_type": "code",
   "execution_count": 227,
   "metadata": {},
   "outputs": [
    {
     "data": {
      "text/plain": [
       "0.3654867448705308"
      ]
     },
     "execution_count": 227,
     "metadata": {},
     "output_type": "execute_result"
    }
   ],
   "source": [
    "np.array(y_emb_cpc).mean()"
   ]
  },
  {
   "cell_type": "code",
   "execution_count": 228,
   "metadata": {},
   "outputs": [],
   "source": [
    "for k, v in emb_diff.items():\n",
    "    if v < 0:\n",
    "        print (k, v)"
   ]
  },
  {
   "cell_type": "code",
   "execution_count": 238,
   "metadata": {},
   "outputs": [
    {
     "data": {
      "image/png": "[encoded data removed]",
      "text/plain": [
       "<Figure size 432x288 with 1 Axes>"
      ]
     },
     "metadata": {
      "needs_background": "light"
     },
     "output_type": "display_data"
    }
   ],
   "source": [
    "lists = sorted(it for it in emb_diff.items() if it[-1] != 0) # sorted by key, return a list of tuples\n",
    "x_diff_x0, y_diff_x0 = zip(*lists)\n",
    "\n",
    "lists = sorted(it for it in img_diff.items() if it[-1] != 0) # sorted by key, return a list of tuples\n",
    "\n",
    "x_diff_x1, y_diff_x1 = zip(*lists)\n",
    "\n",
    "y_baseline = [0.0 for _ in x_diff_x0]\n",
    "\n",
    "plt.scatter(x_diff_x0, y_diff_x0, color='red', label='emb')\n",
    "plt.scatter(x_diff_x1, y_diff_x1, color='blue', label='img')\n",
    "\n",
    "plt.plot(x_diff_x0, y_baseline, color='black', label='Baseline', linestyle='dashed')\n",
    "\n",
    "#plt.yscale('symlog', basey=10, basex=10, linthreshy=0.2)\n",
    "#plt.gca().yaxis.set_major_formatter(FormatStrFormatter('%0.3f')) #Here!\n",
    "plt.ylim(ymax=0.8, ymin=-0.1)\n",
    "\n",
    "plt.legend()\n",
    "plt.show()"
   ]
  },
  {
   "cell_type": "code",
   "execution_count": 359,
   "metadata": {},
   "outputs": [
    {
     "data": {
      "image/png": "[encoded data removed]",
      "text/plain": [
       "<Figure size 432x288 with 1 Axes>"
      ]
     },
     "metadata": {
      "needs_background": "light"
     },
     "output_type": "display_data"
    }
   ],
   "source": [
    "lists = sorted(it for it in emb_cpc.items() if it[-1] != 0) # sorted by key, return a list of tuples\n",
    "x_diff_x0, y_diff_x0 = zip(*lists)\n",
    "\n",
    "lists = sorted(it for it in img_cpc.items() if it[-1] != 0) # sorted by key, return a list of tuples\n",
    "\n",
    "x_diff_x1, y_diff_x1 = zip(*lists)\n",
    "\n",
    "y_baseline = [0.0 for _ in x_diff_x0]\n",
    "\n",
    "plt.scatter(x_diff_x0, y_diff_x0, color='red', label='emb')\n",
    "plt.scatter(x_diff_x1, y_diff_x1, color='blue', label='img')\n",
    "\n",
    "plt.plot(x_diff_x0, y_baseline, color='black', label='Baseline', linestyle='dashed')\n",
    "\n",
    "#plt.yscale('symlog', basey=10, basex=10, linthreshy=0.2)\n",
    "#plt.gca().yaxis.set_major_formatter(FormatStrFormatter('%0.3f')) #Here!\n",
    "plt.ylim(ymax=0.8, ymin=-0.1)\n",
    "\n",
    "plt.legend()\n",
    "plt.show()"
   ]
  },
  {
   "cell_type": "code",
   "execution_count": null,
   "metadata": {},
   "outputs": [],
   "source": []
  },
  {
   "cell_type": "code",
   "execution_count": 40,
   "metadata": {},
   "outputs": [
    {
     "name": "stdout",
     "output_type": "stream",
     "text": [
      "1310 -0.014723360538482666\n",
      "1319 -0.010295689105987549\n",
      "1320 -0.006379902362823486\n",
      "1327 -0.024768054485321045\n",
      "1328 -0.05214351415634155\n",
      "1329 -0.026741862297058105\n",
      "1330 -0.01818406581878662\n",
      "1334 -0.010693609714508057\n",
      "1339 -0.002771914005279541\n"
     ]
    }
   ],
   "source": [
    "for i in range(1300, 1350):\n",
    "    #print (i)\n",
    "    if i in emb_diff and emb_diff[i] < 0:\n",
    "        print (i, emb_diff[i])"
   ]
  },
  {
   "cell_type": "code",
   "execution_count": 173,
   "metadata": {},
   "outputs": [
    {
     "name": "stderr",
     "output_type": "stream",
     "text": [
      "/usr/people/popovych/env/corgie_merge/lib/python3.7/site-packages/ipykernel_launcher.py:12: MatplotlibDeprecationWarning: SymmetricalLogScale got an unexpected keyword argument 'basex'. In the future this will raise TypeError\n",
      "  if sys.path[0] == '':\n",
      "/usr/people/popovych/env/corgie_merge/lib/python3.7/site-packages/ipykernel_launcher.py:13: MatplotlibDeprecationWarning: SymmetricalLogScale got an unexpected keyword argument 'basex'. In the future this will raise TypeError\n",
      "  del sys.path[0]\n"
     ]
    },
    {
     "data": {
      "image/png": "[encoded data removed]",
      "text/plain": [
       "<Figure size 432x288 with 4 Axes>"
      ]
     },
     "metadata": {
      "needs_background": "light"
     },
     "output_type": "display_data"
    }
   ],
   "source": [
    "import matplotlib.pyplot as plt\n",
    "from matplotlib import ticker\n",
    "\n",
    "formatter = ticker.ScalarFormatter(useMathText=True)\n",
    "formatter.set_scientific(False) \n",
    "\n",
    "fig, axs = plt.subplots(2, 2)\n",
    "\n",
    "\n",
    "\n",
    "axs[0, 1].set_yscale('log', basey=1.1)\n",
    "axs[1, 0].set_yscale('symlog', basex=1.001, basey=1.001, linthreshy=0.001)\n",
    "axs[1, 1].set_yscale('symlog', basey=10, basex=10, linthreshy=0.01)\n",
    "\n",
    "axs[0, 0].plot(np.linspace(-0.05, 0.8, 100), color='red', label='Normalized')\n",
    "axs[0, 1].plot(np.linspace(-0.05, 0.8, 100), color='red', label='Normalized')\n",
    "axs[1, 0].plot(np.linspace(-0.05, 0.8, 100), color='red', label='Normalized')\n",
    "axs[1, 1].plot(np.linspace(-0.05, 0.8, 100), color='red', label='Normalized')\n",
    "\n",
    "plt.show()"
   ]
  },
  {
   "cell_type": "code",
   "execution_count": 360,
   "metadata": {},
   "outputs": [
    {
     "data": {
      "image/png": "[encoded data removed]",
      "text/plain": [
       "<Figure size 432x288 with 1 Axes>"
      ]
     },
     "metadata": {
      "needs_background": "light"
     },
     "output_type": "display_data"
    }
   ],
   "source": [
    "import random\n",
    "import numpy\n",
    "from matplotlib import pyplot\n",
    "\n",
    "\n",
    "bins = numpy.linspace(-0.05, 0.5, 20)\n",
    "#bins = 30\n",
    "pyplot.hist(y_diff_x0, bins=bins, alpha=0.7, label='EMB')\n",
    "pyplot.hist(y_diff_x1, bins=bins, alpha=0.7, label='IMG')\n",
    "#pyplot.hist(y_emb, bins, alpha=0.7, label='Embedding')\n",
    "pyplot.legend(loc='upper right')\n",
    "pyplot.show()"
   ]
  },
  {
   "cell_type": "markdown",
   "metadata": {},
   "source": [
    "# import random\n",
    "import numpy\n",
    "from matplotlib import pyplot\n",
    "\n",
    "\n",
    "bins = numpy.linspace(-0.05, 0.5, 40)\n",
    "#bins = 30\n",
    "pyplot.hist(y_emb, bins=bins, alpha=0.5, label='MSE')\n",
    "pyplot.hist(y_emb_cpc, bins=bins, alpha=0.5, label='CPC')\n",
    "#pyplot.hist(y_norm_cpc, bins=bins, alpha=0.7, label='NORM CPC')\n",
    "#pyplot.hist(y_emb, bins, alpha=0.7, label='Embedding')\n",
    "pyplot.legend(loc='upper right')\n",
    "pyplot.show()"
   ]
  },
  {
   "cell_type": "code",
   "execution_count": 31,
   "metadata": {},
   "outputs": [
    {
     "data": {
      "text/plain": [
       "0.06880007225502904"
      ]
     },
     "execution_count": 31,
     "metadata": {},
     "output_type": "execute_result"
    }
   ],
   "source": [
    "np.array(y_emb).mean()"
   ]
  },
  {
   "cell_type": "code",
   "execution_count": 34,
   "metadata": {},
   "outputs": [
    {
     "data": {
      "text/plain": [
       "0.03214883804321289"
      ]
     },
     "execution_count": 34,
     "metadata": {},
     "output_type": "execute_result"
    }
   ],
   "source": [
    "np.percentile(np.array(y_emb), 50)"
   ]
  },
  {
   "cell_type": "code",
   "execution_count": 29,
   "metadata": {},
   "outputs": [
    {
     "data": {
      "text/plain": [
       "VolumeCutout(301)"
      ]
     },
     "execution_count": 29,
     "metadata": {},
     "output_type": "execute_result"
    }
   ],
   "source": [
    "sum([y > 0.05 for y in y_emb])"
   ]
  },
  {
   "cell_type": "code",
   "execution_count": null,
   "metadata": {},
   "outputs": [],
   "source": [
    "lists = sorted(it for it in emb_cpc_x0.items() if it[-1] != 0) # sorted by key, return a list of tuples\n",
    "x_cpc_x0, y_cpc_x0 = zip(*lists)\n",
    "\n",
    "lists = sorted(it for it in emb_cpc_x1.items() if it[-1] != 0) # sorted by key, return a list of tuples\n",
    "\n",
    "x_cpc_x1, y_cpc_x1 = zip(*lists)\n",
    "\n",
    "y_baseline = [0.0 for _ in x_cpc_x0]\n",
    "\n",
    "plt.scatter(x_cpc_x0, y_cpc_x0, color='red', label='x0')\n",
    "plt.scatter(x_cpc_x1, y_cpc_x1, color='blue', label='x1')\n",
    "plt.plot(x_cpc_x0, y_baseline, color='black', label='Baseline', linestyle='dashed')\n",
    "\n",
    "#plt.yscale('symlog', basey=10, basex=10, linthreshy=0.2)\n",
    "#plt.gca().yaxis.set_major_formatter(FormatStrFormatter('%0.3f')) #Here!\n",
    "#plt.ylim(ymax=1, ymin=-0.1)\n",
    "\n",
    "plt.legend()\n",
    "plt.show()"
   ]
  },
  {
   "cell_type": "code",
   "execution_count": 365,
   "metadata": {},
   "outputs": [
    {
     "data": {
      "text/plain": [
       "<matplotlib.axes._subplots.AxesSubplot at 0x7f7c1cc35b50>"
      ]
     },
     "execution_count": 365,
     "metadata": {},
     "output_type": "execute_result"
    },
    {
     "data": {
      "image/png": "[encoded data removed]",
      "text/plain": [
       "<Figure size 432x288 with 1 Axes>"
      ]
     },
     "metadata": {
      "needs_background": "light"
     },
     "output_type": "display_data"
    }
   ],
   "source": [
    "import seaborn as sns\n",
    "df = sns.load_dataset('iris')\n",
    "\n",
    "sns.boxplot( x=df[\"species\"], y=df[\"sepal_length\"] )"
   ]
  },
  {
   "cell_type": "code",
   "execution_count": 370,
   "metadata": {},
   "outputs": [
    {
     "data": {
      "image/png": "[encoded data removed]",
      "text/plain": [
       "<Figure size 432x288 with 1 Axes>"
      ]
     },
     "metadata": {},
     "output_type": "display_data"
    }
   ],
   "source": [
    "# libraries & dataset\n",
    "import seaborn as sns\n",
    "import matplotlib.pyplot as plt\n",
    "sns.set(style=\"darkgrid\")\n",
    "df = sns.load_dataset('iris')\n",
    "\n",
    "# Usual boxplot\n",
    "ax = sns.boxplot(x='species', y='sepal_length', data=df)\n",
    " \n",
    "# Add jitter with the swarmplot function\n",
    "ax = sns.swarmplot(x='species', y='sepal_length', data=df, color=\"grey\")\n",
    "plt.show()"
   ]
  },
  {
   "cell_type": "code",
   "execution_count": 368,
   "metadata": {},
   "outputs": [
    {
     "data": {
      "text/plain": [
       "0      5.1\n",
       "1      4.9\n",
       "2      4.7\n",
       "3      4.6\n",
       "4      5.0\n",
       "      ... \n",
       "145    6.7\n",
       "146    6.3\n",
       "147    6.5\n",
       "148    6.2\n",
       "149    5.9\n",
       "Name: sepal_length, Length: 150, dtype: float64"
      ]
     },
     "execution_count": 368,
     "metadata": {},
     "output_type": "execute_result"
    }
   ],
   "source": [
    "df[\"sepal_length\"]"
   ]
  },
  {
   "cell_type": "code",
   "execution_count": 369,
   "metadata": {},
   "outputs": [
    {
     "data": {
      "text/plain": [
       "0         setosa\n",
       "1         setosa\n",
       "2         setosa\n",
       "3         setosa\n",
       "4         setosa\n",
       "         ...    \n",
       "145    virginica\n",
       "146    virginica\n",
       "147    virginica\n",
       "148    virginica\n",
       "149    virginica\n",
       "Name: species, Length: 150, dtype: object"
      ]
     },
     "execution_count": 369,
     "metadata": {},
     "output_type": "execute_result"
    }
   ],
   "source": [
    "df[\"species\"] "
   ]
  },
  {
   "cell_type": "code",
   "execution_count": 391,
   "metadata": {},
   "outputs": [
    {
     "data": {
      "text/plain": [
       "pandas.core.frame.DataFrame"
      ]
     },
     "execution_count": 391,
     "metadata": {},
     "output_type": "execute_result"
    }
   ],
   "source": [
    "type(df)"
   ]
  },
  {
   "cell_type": "code",
   "execution_count": 392,
   "metadata": {},
   "outputs": [],
   "source": [
    "import pandas"
   ]
  },
  {
   "cell_type": "code",
   "execution_count": 426,
   "metadata": {},
   "outputs": [],
   "source": []
  },
  {
   "cell_type": "code",
   "execution_count": 464,
   "metadata": {},
   "outputs": [],
   "source": []
  },
  {
   "cell_type": "code",
   "execution_count": 465,
   "metadata": {},
   "outputs": [
    {
     "data": {
      "text/plain": [
       "0.6137425899505615"
      ]
     },
     "execution_count": 465,
     "metadata": {},
     "output_type": "execute_result"
    }
   ],
   "source": [
    "df['CPC Similarity'].min()"
   ]
  },
  {
   "cell_type": "code",
   "execution_count": 471,
   "metadata": {},
   "outputs": [
    {
     "data": {
      "image/png": "[encoded data removed]",
      "text/plain": [
       "<Figure size 648x432 with 1 Axes>"
      ]
     },
     "metadata": {},
     "output_type": "display_data"
    }
   ],
   "source": []
  },
  {
   "cell_type": "code",
   "execution_count": null,
   "metadata": {},
   "outputs": [],
   "source": []
  }
 ],
 "metadata": {
  "kernelspec": {
   "display_name": "corige_merge",
   "language": "python",
   "name": "corgie_merge"
  },
  "language_info": {
   "codemirror_mode": {
    "name": "ipython",
    "version": 3
   },
   "file_extension": ".py",
   "mimetype": "text/x-python",
   "name": "python",
   "nbconvert_exporter": "python",
   "pygments_lexer": "ipython3",
   "version": "3.7.10"
  }
 },
 "nbformat": 4,
 "nbformat_minor": 4
}
