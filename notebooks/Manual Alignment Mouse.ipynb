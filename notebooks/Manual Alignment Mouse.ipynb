{
 "cells": [
  {
   "cell_type": "code",
   "execution_count": 1,
   "metadata": {},
   "outputs": [],
   "source": [
    "%matplotlib inline\n",
    "%load_ext autoreload\n",
    "%autoreload 2\n",
    "\n",
    "from visualize import PyramidVisualizer, get_dataset, simple_visualizer\n",
    "from metroem.aligner import Aligner"
   ]
  },
  {
   "cell_type": "code",
   "execution_count": 35,
   "metadata": {},
   "outputs": [
    {
     "name": "stdout",
     "output_type": "stream",
     "text": [
      "/usr/people/popovych/.modelhouse/tmp_files/tmp0xbwy941/model/model_spec.json\n",
      "block_6convs_fms8to32_skip25.json\n",
      "categorical/categorical_compch15_gridfalse_maxvalue7_outch2_stepnull_trainsttrue.json\n",
      "block_6convs_fms8to32_skip25.json\n",
      "categorical/categorical_compch15_gridfalse_maxvalue7_outch2_stepnull_trainsttrue.json\n",
      "identity.json\n",
      "embedder_m0_3x3_fms3x.json\n",
      "block_5convs_7x7_fms1to3_skip14.json\n",
      "block_3convs_3x3_fms3to32to3.json\n",
      "average_pool.json\n",
      "embedder_fms4to3.json\n",
      "block_3convs_3x3_fms4to32to3.json\n",
      "average_pool.json\n",
      "block_3convs_3x3_fms3to32to3.json\n",
      "identity.json\n",
      "identity.json\n",
      "identity.json\n",
      "upsample_residuals.json\n",
      "identity.json\n"
     ]
    },
    {
     "name": "stderr",
     "output_type": "stream",
     "text": [
      "/usr/people/popovych/env/corgie_merge/lib/python3.7/site-packages/artificery/parsers/categorical_regression/parse.py:38: UserWarning: torch.range is deprecated in favor of torch.arange and will be removed in 0.5. Note that arange generates values in [start; end), not [start; end].\n",
      "  requires_grad=False) - self.component_channels//2\n"
     ]
    }
   ],
   "source": [
    "import modelhouse\n",
    "import json\n",
    "\n",
    "model_path = \"matrix://corgie-models/FAFB_align_m5\"\n",
    "       \n",
    "aligner = modelhouse.load_model(\n",
    "    path=model_path,\n",
    "    params=json.dumps({\n",
    "      \"checkpoint_name\": \"test_no_batchnorm\",\n",
    "      \"finetune\": True,\n",
    "      \"finetune_iter\": 200,\n",
    "      \"finetune_lr\": 0.3,\n",
    "      \"finetune_sm\": 300,\n",
    "      \"sm_defect_coarsening\": [[1, 0.0], [20, 0.3], [40, 0.6]],\n",
    "      \"crop\": 32\n",
    "    })\n",
    ")"
   ]
  },
  {
   "cell_type": "code",
   "execution_count": 26,
   "metadata": {},
   "outputs": [],
   "source": [
    "import cloudvolume as cv\n",
    "import torch\n",
    "\n",
    "raw_img_path = 'matrix://seamless-paper/prod_x3/normed/img/img_norm'\n",
    "\n",
    "\n",
    "#z = 226\n",
    "z = 226\n",
    "#x_start = 140000\n",
    "#y_start = 60000\n",
    "\n",
    "x_start = 130000\n",
    "y_start = 50000\n",
    "img_mip = 5\n",
    "\n",
    "x_size = 1024 * 2**img_mip\n",
    "y_size = x_size\n",
    "pad = 64 * 2**3\n",
    "\n",
    "img_cv = cv.CloudVolume(raw_img_path, mip=img_mip, parallel=True, progress=False)\n",
    "img1_np = img_cv[(x_start-pad)//2**img_mip:(x_start+x_size+pad)//2**img_mip, (y_start-pad)//2**img_mip:(y_start+y_size+pad)//2**img_mip, z:z+1].squeeze()\n",
    "img2_np = img_cv[(x_start-pad)//2**img_mip:(x_start+x_size+pad)//2**img_mip, (y_start-pad)//2**img_mip:(y_start+y_size+pad)//2**img_mip, z+1:z+2].squeeze()\n",
    "\n",
    "img1_t = torch.tensor(img2_np, device='cuda').unsqueeze(0).unsqueeze(0)\n",
    "img2_t = torch.tensor(img1_np, device='cuda').unsqueeze(0).unsqueeze(0)\n",
    "\n",
    "src_tgt_t = torch.cat([img1_t, img2_t], 1)\n",
    "#pred_res = aligner(src_img=img1_t, tgt_img=img2_t)"
   ]
  },
  {
   "cell_type": "code",
   "execution_count": null,
   "metadata": {},
   "outputs": [],
   "source": [
    "'''MIP5 with net\n",
    "\n",
    "\n",
    "0.5840146541595459secs for net\n",
    "2.9854114 2.8923268 0.09308447\n",
    "New best: 92, No impr: 0, Iter: 199\n",
    "2.2851658 2.0513072 0.23385859\n",
    "12.488795042037964\n",
    "'''\n",
    "\n",
    "'''MIP5 without net\n",
    "\n",
    "\n",
    "0.6791865825653076secs for net\n",
    "3.17221 3.17221 0.0\n",
    "New best: 117, No impr: 0, Iter: 199\n",
    "2.2737517 2.0241246 0.24962708\n",
    "12.609593868255615\n",
    "'''"
   ]
  },
  {
   "cell_type": "code",
   "execution_count": 36,
   "metadata": {},
   "outputs": [
    {
     "name": "stdout",
     "output_type": "stream",
     "text": [
      "0.6760382652282715secs for net\n",
      "3.17221 3.17221 0.0\n",
      "New best: 102, No impr: 0, Iter: 199\n",
      "2.423286 2.2200677 0.20321824\n",
      "12.755868434906006\n",
      "==========\n"
     ]
    },
    {
     "data": {
      "text/plain": [
       "tensor(7.4958, device='cuda:0', grad_fn=<MaxBackward1>)"
      ]
     },
     "execution_count": 36,
     "metadata": {},
     "output_type": "execute_result"
    }
   ],
   "source": [
    "img1_t = torch.tensor(img2_np, device='cuda').unsqueeze(0).unsqueeze(0)\n",
    "img2_t = torch.tensor(img1_np, device='cuda').unsqueeze(0).unsqueeze(0)\n",
    "\n",
    "src_tgt_t = torch.cat([img1_t, img2_t], 1)\n",
    "pred_res = aligner(src_img=img1_t, tgt_img=img2_t)\n",
    "pred_res[:, :, 20:-20, 20:-20].abs().max()"
   ]
  },
  {
   "cell_type": "code",
   "execution_count": 37,
   "metadata": {},
   "outputs": [
    {
     "data": {
      "application/vnd.jupyter.widget-view+json": {
       "model_id": "903a2b7890124cd395838d06a1cc2640",
       "version_major": 2,
       "version_minor": 0
      },
      "text/plain": [
       "interactive(children=(ToggleButtons(description='Image:', options=(0, 1, 2, 3), value=0), IntText(value=1, des…"
      ]
     },
     "metadata": {},
     "output_type": "display_data"
    }
   ],
   "source": [
    "simple_visualizer().visualize([pred_res, pred_res.from_pixels()(img1_t), img1_t, img2_t])"
   ]
  },
  {
   "cell_type": "code",
   "execution_count": 6,
   "metadata": {},
   "outputs": [],
   "source": [
    "import random\n",
    "import torch\n",
    "import numpy as np\n",
    "\n",
    "import cloudvolume as cv\n",
    "import torch\n",
    "\n",
    "from visualize import PyramidVisualizer, get_dataset, simple_visualizer\n",
    "from metroem.aligner import Aligner\n",
    "\n",
    "#raw_img_path = 'gs://corgie_package/paper/basil_data_x0/aligned_x0/img/img_full_x0_rend'\n",
    "raw_img_path = 'https://s3-hpcrc.rc.princeton.edu/fafbv15-em/v1'\n",
    "raw_img_path = 'matrix://seamless-paper/prod_x3/normed/img/img_norm'\n",
    "\n",
    "\n",
    "img_mip = 3\n",
    "\n",
    "z = 500\n",
    "x_start = 115000\n",
    "y_start = 50000\n",
    "\n",
    "x_size = 1024 * 2**img_mip\n",
    "y_size = x_size\n",
    "pad = 64 * 2**3\n",
    "#\n",
    "#img_cv = cv.CloudVolume(raw_img_path, mip=img_mip, parallel=True, progress=False)\n",
    "#masked_img_cv = cv.CloudVolume(masked_img_path, mip=masked_img_mip, parallel=True, progress=False)\n",
    "#field_cv = cv.CloudVolume(field_path, mip=field_mip, parallel=True, progress=False)\n",
    "img_cv = cv.CloudVolume(raw_img_path, mip=img_mip, parallel=True, progress=False)\n",
    "img1_np = img_cv[(x_start-pad)//2**img_mip:(x_start+x_size+pad)//2**img_mip, (y_start-pad)//2**img_mip:(y_start+y_size+pad)//2**img_mip, z:z+1].squeeze()\n",
    "img2_np = img_cv[(x_start-pad)//2**img_mip:(x_start+x_size+pad)//2**img_mip, (y_start-pad)//2**img_mip:(y_start+y_size+pad)//2**img_mip, z+1:z+2].squeeze()"
   ]
  },
  {
   "cell_type": "code",
   "execution_count": 13,
   "metadata": {},
   "outputs": [
    {
     "data": {
      "text/plain": [
       "'X: 14311-15463  Y: 6186-7338'"
      ]
     },
     "execution_count": 13,
     "metadata": {},
     "output_type": "execute_result"
    }
   ],
   "source": [
    "f\"X: {(x_start-pad)//2**img_mip}-{(x_start+x_size+pad)//2**img_mip}\" + f\"  Y: {(y_start-pad)//2**img_mip}-{(y_start+y_size+pad)//2**img_mip}\""
   ]
  },
  {
   "cell_type": "code",
   "execution_count": 14,
   "metadata": {},
   "outputs": [],
   "source": []
  },
  {
   "cell_type": "code",
   "execution_count": 15,
   "metadata": {},
   "outputs": [],
   "source": [
    "img1_t = torch.tensor(img2_np, device='cuda').unsqueeze(0).unsqueeze(0)\n",
    "img2_t = torch.tensor(img1_np, device='cuda').unsqueeze(0).unsqueeze(0)\n",
    "\n",
    "src_tgt_t = torch.cat([img1_t, img2_t], 1)\n",
    "pred_res = aligner(src_img=img1_t, tgt_img=img2_t)"
   ]
  },
  {
   "cell_type": "code",
   "execution_count": 16,
   "metadata": {},
   "outputs": [
    {
     "data": {
      "text/plain": [
       "tensor(0.1529, device='cuda:0')"
      ]
     },
     "execution_count": 16,
     "metadata": {},
     "output_type": "execute_result"
    }
   ],
   "source": [
    "img1_t.mean()"
   ]
  },
  {
   "cell_type": "code",
   "execution_count": 17,
   "metadata": {},
   "outputs": [
    {
     "data": {
      "text/plain": [
       "tensor(6.0104, device='cuda:0')"
      ]
     },
     "execution_count": 17,
     "metadata": {},
     "output_type": "execute_result"
    }
   ],
   "source": [
    "pred_res.max()"
   ]
  },
  {
   "cell_type": "code",
   "execution_count": 18,
   "metadata": {},
   "outputs": [
    {
     "data": {
      "application/vnd.jupyter.widget-view+json": {
       "model_id": "379603e80feb49659bcf1d4b35bd95e6",
       "version_major": 2,
       "version_minor": 0
      },
      "text/plain": [
       "interactive(children=(ToggleButtons(description='Image:', options=(0, 1, 2, 3), value=0), IntText(value=1, des…"
      ]
     },
     "metadata": {},
     "output_type": "display_data"
    }
   ],
   "source": [
    "simple_visualizer().visualize([pred_res, pred_res.from_pixels()(img1_t), img1_t, img2_t])"
   ]
  },
  {
   "cell_type": "code",
   "execution_count": 19,
   "metadata": {},
   "outputs": [
    {
     "data": {
      "application/vnd.jupyter.widget-view+json": {
       "model_id": "a84bc692f83f41aba7415669532a26f2",
       "version_major": 2,
       "version_minor": 0
      },
      "text/plain": [
       "interactive(children=(ToggleButtons(description='Image:', options=(0, 1, 2, 3), value=0), IntText(value=1, des…"
      ]
     },
     "metadata": {},
     "output_type": "display_data"
    }
   ],
   "source": [
    "\n",
    "simple_visualizer().visualize([pred_res, pred_res.from_pixels()(img1_t), img1_t, img2_t])"
   ]
  },
  {
   "cell_type": "code",
   "execution_count": 20,
   "metadata": {},
   "outputs": [
    {
     "ename": "NameError",
     "evalue": "name 'ndimage' is not defined",
     "output_type": "error",
     "traceback": [
      "\u001b[0;31m---------------------------------------------------------------------------\u001b[0m",
      "\u001b[0;31mNameError\u001b[0m                                 Traceback (most recent call last)",
      "\u001b[0;32m<ipython-input-20-dcd06dad36bc>\u001b[0m in \u001b[0;36m<module>\u001b[0;34m\u001b[0m\n\u001b[1;32m      3\u001b[0m \u001b[0mmask\u001b[0m \u001b[0;34m=\u001b[0m \u001b[0;34m(\u001b[0m\u001b[0mimg1_np\u001b[0m \u001b[0;34m!=\u001b[0m \u001b[0;36m0\u001b[0m\u001b[0;34m)\u001b[0m\u001b[0;34m.\u001b[0m\u001b[0mastype\u001b[0m\u001b[0;34m(\u001b[0m\u001b[0mnp\u001b[0m\u001b[0;34m.\u001b[0m\u001b[0mfloat32\u001b[0m\u001b[0;34m)\u001b[0m\u001b[0;34m\u001b[0m\u001b[0;34m\u001b[0m\u001b[0m\n\u001b[1;32m      4\u001b[0m \u001b[0mclosed\u001b[0m \u001b[0;34m=\u001b[0m \u001b[0mmetroem\u001b[0m\u001b[0;34m.\u001b[0m\u001b[0mmasks\u001b[0m\u001b[0;34m.\u001b[0m\u001b[0mclosing\u001b[0m\u001b[0;34m(\u001b[0m\u001b[0mmask\u001b[0m\u001b[0;34m,\u001b[0m \u001b[0mn\u001b[0m\u001b[0;34m=\u001b[0m\u001b[0;36m40\u001b[0m\u001b[0;34m)\u001b[0m\u001b[0;34m.\u001b[0m\u001b[0mastype\u001b[0m\u001b[0;34m(\u001b[0m\u001b[0mnp\u001b[0m\u001b[0;34m.\u001b[0m\u001b[0mfloat32\u001b[0m\u001b[0;34m)\u001b[0m\u001b[0;34m\u001b[0m\u001b[0;34m\u001b[0m\u001b[0m\n\u001b[0;32m----> 5\u001b[0;31m \u001b[0mclosed_2\u001b[0m \u001b[0;34m=\u001b[0m \u001b[0mndimage\u001b[0m\u001b[0;34m.\u001b[0m\u001b[0mbinary_closing\u001b[0m\u001b[0;34m(\u001b[0m\u001b[0mmask\u001b[0m\u001b[0;34m,\u001b[0m \u001b[0miterations\u001b[0m\u001b[0;34m=\u001b[0m\u001b[0;36m40\u001b[0m\u001b[0;34m)\u001b[0m\u001b[0;34m.\u001b[0m\u001b[0mastype\u001b[0m\u001b[0;34m(\u001b[0m\u001b[0mnp\u001b[0m\u001b[0;34m.\u001b[0m\u001b[0mint\u001b[0m\u001b[0;34m)\u001b[0m\u001b[0;34m\u001b[0m\u001b[0;34m\u001b[0m\u001b[0m\n\u001b[0m\u001b[1;32m      6\u001b[0m \u001b[0msimple_visualizer\u001b[0m\u001b[0;34m(\u001b[0m\u001b[0;34m)\u001b[0m\u001b[0;34m.\u001b[0m\u001b[0mvisualize\u001b[0m\u001b[0;34m(\u001b[0m\u001b[0;34m[\u001b[0m\u001b[0mget_np\u001b[0m\u001b[0;34m(\u001b[0m\u001b[0msrc_defects\u001b[0m\u001b[0;34m)\u001b[0m\u001b[0;34m.\u001b[0m\u001b[0mastype\u001b[0m\u001b[0;34m(\u001b[0m\u001b[0mnp\u001b[0m\u001b[0;34m.\u001b[0m\u001b[0mfloat32\u001b[0m\u001b[0;34m)\u001b[0m\u001b[0;34m,\u001b[0m \u001b[0mget_np\u001b[0m\u001b[0;34m(\u001b[0m\u001b[0msrc_zeros\u001b[0m\u001b[0;34m)\u001b[0m\u001b[0;34m.\u001b[0m\u001b[0mastype\u001b[0m\u001b[0;34m(\u001b[0m\u001b[0mnp\u001b[0m\u001b[0;34m.\u001b[0m\u001b[0mfloat32\u001b[0m\u001b[0;34m)\u001b[0m\u001b[0;34m,\u001b[0m \u001b[0;34m(\u001b[0m\u001b[0mmask\u001b[0m \u001b[0;34m==\u001b[0m \u001b[0;36m0\u001b[0m\u001b[0;34m)\u001b[0m \u001b[0;34m*\u001b[0m \u001b[0mclosed\u001b[0m\u001b[0;34m,\u001b[0m \u001b[0mclosed\u001b[0m\u001b[0;34m,\u001b[0m \u001b[0mclosed_2\u001b[0m\u001b[0;34m,\u001b[0m \u001b[0mimg1_np\u001b[0m\u001b[0;34m,\u001b[0m \u001b[0mmask\u001b[0m\u001b[0;34m,\u001b[0m \u001b[0mclosed\u001b[0m\u001b[0;34m]\u001b[0m\u001b[0;34m)\u001b[0m\u001b[0;34m\u001b[0m\u001b[0;34m\u001b[0m\u001b[0m\n",
      "\u001b[0;31mNameError\u001b[0m: name 'ndimage' is not defined"
     ]
    }
   ],
   "source": [
    "import metroem\n",
    "from metroem.helpers import get_np\n",
    "mask = (img1_np != 0).astype(np.float32)\n",
    "closed = metroem.masks.closing(mask, n=40).astype(np.float32)\n",
    "closed_2 = ndimage.binary_closing(mask, iterations=40).astype(np.int)\n",
    "simple_visualizer().visualize([get_np(src_defects).astype(np.float32), get_np(src_zeros).astype(np.float32), (mask == 0) * closed, closed, closed_2, img1_np, mask, closed])"
   ]
  },
  {
   "cell_type": "code",
   "execution_count": null,
   "metadata": {},
   "outputs": [],
   "source": [
    "ndimage.binary_closing(a).astype(np.int)"
   ]
  },
  {
   "cell_type": "code",
   "execution_count": 19,
   "metadata": {},
   "outputs": [
    {
     "name": "stderr",
     "output_type": "stream",
     "text": [
      "/usr/people/popovych/env/corgie_merge/lib/python3.7/site-packages/ipykernel_launcher.py:1: DeprecationWarning: `np.int` is a deprecated alias for the builtin `int`. To silence this warning, use `int` by itself. Doing this will not modify any behavior and is safe. When replacing `np.int`, you may wish to use e.g. `np.int64` or `np.int32` to specify the precision. If you wish to review your current use, check the release note link for additional information.\n",
      "Deprecated in NumPy 1.20; for more details and guidance: https://numpy.org/devdocs/release/1.20.0-notes.html#deprecations\n",
      "  \"\"\"Entry point for launching an IPython kernel.\n"
     ]
    }
   ],
   "source": [
    "a = np.zeros((5,5), dtype=np.int)"
   ]
  },
  {
   "cell_type": "code",
   "execution_count": 20,
   "metadata": {},
   "outputs": [],
   "source": [
    "a[1:-1, 1:-1] = 1; a[2,2] = 0"
   ]
  },
  {
   "cell_type": "code",
   "execution_count": 21,
   "metadata": {},
   "outputs": [
    {
     "data": {
      "text/plain": [
       "array([[0, 0, 0, 0, 0],\n",
       "       [0, 1, 1, 1, 0],\n",
       "       [0, 1, 0, 1, 0],\n",
       "       [0, 1, 1, 1, 0],\n",
       "       [0, 0, 0, 0, 0]])"
      ]
     },
     "execution_count": 21,
     "metadata": {},
     "output_type": "execute_result"
    }
   ],
   "source": [
    "a"
   ]
  },
  {
   "cell_type": "code",
   "execution_count": 22,
   "metadata": {},
   "outputs": [
    {
     "data": {
      "application/vnd.jupyter.widget-view+json": {
       "model_id": "c049ab09b4e2494c89379301a38e64c9",
       "version_major": 2,
       "version_minor": 0
      },
      "text/plain": [
       "interactive(children=(ToggleButtons(description='Image:', options=(0,), value=0), IntText(value=1, description…"
      ]
     },
     "metadata": {},
     "output_type": "display_data"
    }
   ],
   "source": [
    "simple_visualizer().visualize([a])"
   ]
  },
  {
   "cell_type": "code",
   "execution_count": 23,
   "metadata": {},
   "outputs": [
    {
     "ename": "NameError",
     "evalue": "name 'ndimage' is not defined",
     "output_type": "error",
     "traceback": [
      "\u001b[0;31m---------------------------------------------------------------------------\u001b[0m",
      "\u001b[0;31mNameError\u001b[0m                                 Traceback (most recent call last)",
      "\u001b[0;32m<ipython-input-23-7b4b16b14ce1>\u001b[0m in \u001b[0;36m<module>\u001b[0;34m\u001b[0m\n\u001b[0;32m----> 1\u001b[0;31m \u001b[0mndimage\u001b[0m\u001b[0;34m.\u001b[0m\u001b[0mbinary_closing\u001b[0m\u001b[0;34m(\u001b[0m\u001b[0ma\u001b[0m\u001b[0;34m)\u001b[0m\u001b[0;34m.\u001b[0m\u001b[0mastype\u001b[0m\u001b[0;34m(\u001b[0m\u001b[0mnp\u001b[0m\u001b[0;34m.\u001b[0m\u001b[0mint\u001b[0m\u001b[0;34m)\u001b[0m\u001b[0;34m\u001b[0m\u001b[0;34m\u001b[0m\u001b[0m\n\u001b[0m",
      "\u001b[0;31mNameError\u001b[0m: name 'ndimage' is not defined"
     ]
    }
   ],
   "source": []
  },
  {
   "cell_type": "code",
   "execution_count": 24,
   "metadata": {},
   "outputs": [],
   "source": [
    "from scipy import ndimage"
   ]
  },
  {
   "cell_type": "code",
   "execution_count": 26,
   "metadata": {},
   "outputs": [
    {
     "name": "stderr",
     "output_type": "stream",
     "text": [
      "/usr/people/popovych/env/corgie_merge/lib/python3.7/site-packages/ipykernel_launcher.py:1: DeprecationWarning: `np.int` is a deprecated alias for the builtin `int`. To silence this warning, use `int` by itself. Doing this will not modify any behavior and is safe. When replacing `np.int`, you may wish to use e.g. `np.int64` or `np.int32` to specify the precision. If you wish to review your current use, check the release note link for additional information.\n",
      "Deprecated in NumPy 1.20; for more details and guidance: https://numpy.org/devdocs/release/1.20.0-notes.html#deprecations\n",
      "  \"\"\"Entry point for launching an IPython kernel.\n"
     ]
    }
   ],
   "source": [
    "once = ndimage.binary_closing(a).astype(np.int)"
   ]
  },
  {
   "cell_type": "code",
   "execution_count": 27,
   "metadata": {},
   "outputs": [
    {
     "data": {
      "application/vnd.jupyter.widget-view+json": {
       "model_id": "b3d43858ff1c4084bd91bbb5e2f017e7",
       "version_major": 2,
       "version_minor": 0
      },
      "text/plain": [
       "interactive(children=(ToggleButtons(description='Image:', options=(0,), value=0), IntText(value=1, description…"
      ]
     },
     "metadata": {},
     "output_type": "display_data"
    }
   ],
   "source": [
    "simple_visualizer().visualize([once])"
   ]
  },
  {
   "cell_type": "code",
   "execution_count": null,
   "metadata": {},
   "outputs": [],
   "source": []
  }
 ],
 "metadata": {
  "kernelspec": {
   "display_name": "corige_merge",
   "language": "python",
   "name": "corgie_merge"
  },
  "language_info": {
   "codemirror_mode": {
    "name": "ipython",
    "version": 3
   },
   "file_extension": ".py",
   "mimetype": "text/x-python",
   "name": "python",
   "nbconvert_exporter": "python",
   "pygments_lexer": "ipython3",
   "version": "3.7.10"
  }
 },
 "nbformat": 4,
 "nbformat_minor": 4
}
