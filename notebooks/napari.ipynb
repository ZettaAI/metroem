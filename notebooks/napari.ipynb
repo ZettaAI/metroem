{
 "cells": [
  {
   "cell_type": "code",
   "execution_count": 3,
   "metadata": {
    "collapsed": true,
    "jupyter": {
     "outputs_hidden": true
    }
   },
   "outputs": [
    {
     "name": "stdout",
     "output_type": "stream",
     "text": [
      "Defaulting to user installation because normal site-packages is not writeable\n",
      "Requirement already satisfied: napari[all] in /usr/people/popovych/.local/lib/python3.7/site-packages (0.4.10)\n",
      "Requirement already satisfied: pint>=0.17 in /usr/people/popovych/.local/lib/python3.7/site-packages (from napari[all]) (0.17)\n",
      "Requirement already satisfied: toolz>=0.10.0 in /usr/people/popovych/.local/lib/python3.7/site-packages (from napari[all]) (0.11.1)\n",
      "Requirement already satisfied: numpydoc>=0.9.2 in /usr/people/popovych/.local/lib/python3.7/site-packages (from napari[all]) (1.1.0)\n",
      "Requirement already satisfied: PyYAML>=5.1 in /usr/people/popovych/.local/lib/python3.7/site-packages (from napari[all]) (5.4.1)\n",
      "Requirement already satisfied: dask[array]!=2.28.0,>=2.1.0 in /usr/people/popovych/.local/lib/python3.7/site-packages (from napari[all]) (2021.6.2)\n",
      "Requirement already satisfied: tifffile>=2020.2.16 in /usr/people/popovych/.local/lib/python3.7/site-packages (from napari[all]) (2020.6.3)\n",
      "Requirement already satisfied: appdirs>=1.4.4 in /usr/people/popovych/.local/lib/python3.7/site-packages (from napari[all]) (1.4.4)\n",
      "Requirement already satisfied: Pillow!=7.1.0,!=7.1.1 in /usr/people/popovych/.local/lib/python3.7/site-packages (from napari[all]) (7.0.0)\n",
      "Requirement already satisfied: jsonschema>=3.2.0 in /usr/people/popovych/.local/lib/python3.7/site-packages (from napari[all]) (3.2.0)\n",
      "Requirement already satisfied: cachey>=0.2.1 in /usr/people/popovych/.local/lib/python3.7/site-packages (from napari[all]) (0.2.1)\n",
      "Requirement already satisfied: napari-plugin-engine>=0.1.9 in /usr/people/popovych/.local/lib/python3.7/site-packages (from napari[all]) (0.1.9)\n",
      "Requirement already satisfied: numpy>=1.16.5 in /usr/people/popovych/.local/lib/python3.7/site-packages (from napari[all]) (1.18.5)\n",
      "Requirement already satisfied: imageio>=2.5.0 in /usr/people/popovych/.local/lib/python3.7/site-packages (from napari[all]) (2.8.0)\n",
      "Requirement already satisfied: magicgui>=0.2.6 in /usr/people/popovych/.local/lib/python3.7/site-packages (from napari[all]) (0.2.9)\n",
      "Requirement already satisfied: typing-extensions in /usr/people/popovych/.local/lib/python3.7/site-packages (from napari[all]) (3.7.4.3)\n",
      "Requirement already satisfied: tqdm>=4.56.0 in /usr/people/popovych/.local/lib/python3.7/site-packages (from napari[all]) (4.61.1)\n",
      "Requirement already satisfied: scipy>=1.2.0 in /usr/people/popovych/.local/lib/python3.7/site-packages (from napari[all]) (1.7.0)\n",
      "Requirement already satisfied: vispy>=0.6.4 in /usr/people/popovych/.local/lib/python3.7/site-packages (from napari[all]) (0.6.6)\n",
      "Requirement already satisfied: pydantic>=1.8.1 in /usr/people/popovych/.local/lib/python3.7/site-packages (from napari[all]) (1.8.2)\n",
      "Requirement already satisfied: importlib-metadata>=1.5.0 in /usr/people/popovych/.local/lib/python3.7/site-packages (from napari[all]) (1.5.0)\n",
      "Requirement already satisfied: psutil>=5.0 in /usr/people/popovych/.local/lib/python3.7/site-packages (from napari[all]) (5.4.3)\n",
      "Requirement already satisfied: PyOpenGL>=3.1.0 in /usr/people/popovych/.local/lib/python3.7/site-packages (from napari[all]) (3.1.5)\n",
      "Requirement already satisfied: napari-svg>=0.1.4 in /usr/people/popovych/.local/lib/python3.7/site-packages (from napari[all]) (0.1.5)\n",
      "Requirement already satisfied: wrapt>=1.11.1 in /usr/people/popovych/.local/lib/python3.7/site-packages (from napari[all]) (1.12.1)\n",
      "Requirement already satisfied: qtpy>=1.7.0 in /usr/people/popovych/.local/lib/python3.7/site-packages (from napari[all]) (1.9.0)\n",
      "Requirement already satisfied: napari-console>=0.0.3 in /usr/people/popovych/.local/lib/python3.7/site-packages (from napari[all]) (0.0.3)\n",
      "Requirement already satisfied: PyQt5!=5.15.0,>=5.12.3 in /usr/people/popovych/.local/lib/python3.7/site-packages (from napari[all]) (5.15.4)\n",
      "Requirement already satisfied: scikit-image[data] in /usr/people/popovych/.local/lib/python3.7/site-packages (from napari[all]) (0.17.2)\n",
      "Requirement already satisfied: heapdict in /usr/people/popovych/.local/lib/python3.7/site-packages (from cachey>=0.2.1->napari[all]) (1.0.1)\n",
      "Requirement already satisfied: cloudpickle>=1.1.1 in /usr/people/popovych/.local/lib/python3.7/site-packages (from dask[array]!=2.28.0,>=2.1.0->napari[all]) (1.6.0)\n",
      "Requirement already satisfied: fsspec>=0.6.0 in /usr/people/popovych/.local/lib/python3.7/site-packages (from dask[array]!=2.28.0,>=2.1.0->napari[all]) (2021.6.0)\n",
      "Requirement already satisfied: partd>=0.3.10 in /usr/people/popovych/.local/lib/python3.7/site-packages (from dask[array]!=2.28.0,>=2.1.0->napari[all]) (1.2.0)\n",
      "Requirement already satisfied: zipp>=0.5 in /usr/people/popovych/.local/lib/python3.7/site-packages (from importlib-metadata>=1.5.0->napari[all]) (3.1.0)\n",
      "Requirement already satisfied: attrs>=17.4.0 in /usr/people/popovych/.local/lib/python3.7/site-packages (from jsonschema>=3.2.0->napari[all]) (19.3.0)\n",
      "Requirement already satisfied: pyrsistent>=0.14.0 in /usr/people/popovych/.local/lib/python3.7/site-packages (from jsonschema>=3.2.0->napari[all]) (0.16.0)\n",
      "Requirement already satisfied: setuptools in /usr/people/popovych/.local/lib/python3.7/site-packages (from jsonschema>=3.2.0->napari[all]) (57.0.0)\n",
      "Requirement already satisfied: six>=1.11.0 in /usr/people/popovych/.local/lib/python3.7/site-packages (from jsonschema>=3.2.0->napari[all]) (1.14.0)\n",
      "Requirement already satisfied: docstring-parser in /usr/people/popovych/.local/lib/python3.7/site-packages (from magicgui>=0.2.6->napari[all]) (0.8.1)\n",
      "Requirement already satisfied: ipykernel>=5.2.0 in /usr/people/popovych/.local/lib/python3.7/site-packages (from napari-console>=0.0.3->napari[all]) (5.3.0)\n",
      "Requirement already satisfied: IPython>=7.7.0 in /usr/people/popovych/.local/lib/python3.7/site-packages (from napari-console>=0.0.3->napari[all]) (7.16.1)\n",
      "Requirement already satisfied: qtconsole!=4.7.6,>=4.5.1 in /usr/people/popovych/.local/lib/python3.7/site-packages (from napari-console>=0.0.3->napari[all]) (5.1.0)\n",
      "Requirement already satisfied: tornado>=4.2 in /usr/people/popovych/.local/lib/python3.7/site-packages (from ipykernel>=5.2.0->napari-console>=0.0.3->napari[all]) (6.1)\n",
      "Requirement already satisfied: traitlets>=4.1.0 in /usr/people/popovych/.local/lib/python3.7/site-packages (from ipykernel>=5.2.0->napari-console>=0.0.3->napari[all]) (4.3.3)\n",
      "Requirement already satisfied: jupyter-client in /usr/people/popovych/.local/lib/python3.7/site-packages (from ipykernel>=5.2.0->napari-console>=0.0.3->napari[all]) (6.1.5)\n",
      "Requirement already satisfied: prompt-toolkit!=3.0.0,!=3.0.1,<3.1.0,>=2.0.0 in /usr/people/popovych/.local/lib/python3.7/site-packages (from IPython>=7.7.0->napari-console>=0.0.3->napari[all]) (3.0.5)\n",
      "Requirement already satisfied: pygments in /usr/people/popovych/.local/lib/python3.7/site-packages (from IPython>=7.7.0->napari-console>=0.0.3->napari[all]) (2.6.1)\n",
      "Requirement already satisfied: backcall in /usr/people/popovych/.local/lib/python3.7/site-packages (from IPython>=7.7.0->napari-console>=0.0.3->napari[all]) (0.2.0)\n",
      "Requirement already satisfied: pickleshare in /usr/people/popovych/.local/lib/python3.7/site-packages (from IPython>=7.7.0->napari-console>=0.0.3->napari[all]) (0.7.5)\n",
      "Requirement already satisfied: decorator in /usr/people/popovych/.local/lib/python3.7/site-packages (from IPython>=7.7.0->napari-console>=0.0.3->napari[all]) (4.4.2)\n",
      "Requirement already satisfied: jedi>=0.10 in /usr/people/popovych/.local/lib/python3.7/site-packages (from IPython>=7.7.0->napari-console>=0.0.3->napari[all]) (0.17.1)\n",
      "Requirement already satisfied: pexpect in /usr/people/popovych/.local/lib/python3.7/site-packages (from IPython>=7.7.0->napari-console>=0.0.3->napari[all]) (4.8.0)\n",
      "Requirement already satisfied: parso<0.8.0,>=0.7.0 in /usr/people/popovych/.local/lib/python3.7/site-packages (from jedi>=0.10->IPython>=7.7.0->napari-console>=0.0.3->napari[all]) (0.7.0)\n",
      "Requirement already satisfied: sphinx>=1.6.5 in /usr/people/popovych/.local/lib/python3.7/site-packages (from numpydoc>=0.9.2->napari[all]) (3.0.3)\n",
      "Requirement already satisfied: Jinja2>=2.3 in /usr/people/popovych/.local/lib/python3.7/site-packages (from numpydoc>=0.9.2->napari[all]) (2.11.2)\n",
      "Requirement already satisfied: MarkupSafe>=0.23 in /usr/people/popovych/.local/lib/python3.7/site-packages (from Jinja2>=2.3->numpydoc>=0.9.2->napari[all]) (1.1.1)\n",
      "Requirement already satisfied: locket in /usr/people/popovych/.local/lib/python3.7/site-packages (from partd>=0.3.10->dask[array]!=2.28.0,>=2.1.0->napari[all]) (0.2.1)\n",
      "Requirement already satisfied: packaging in /usr/people/popovych/.local/lib/python3.7/site-packages (from pint>=0.17->napari[all]) (20.3)\n",
      "Requirement already satisfied: wcwidth in /usr/people/popovych/.local/lib/python3.7/site-packages (from prompt-toolkit!=3.0.0,!=3.0.1,<3.1.0,>=2.0.0->IPython>=7.7.0->napari-console>=0.0.3->napari[all]) (0.2.4)\n",
      "Requirement already satisfied: PyQt5-sip<13,>=12.8 in /usr/people/popovych/.local/lib/python3.7/site-packages (from PyQt5!=5.15.0,>=5.12.3->napari[all]) (12.9.0)\n",
      "Requirement already satisfied: PyQt5-Qt5>=5.15 in /usr/people/popovych/.local/lib/python3.7/site-packages (from PyQt5!=5.15.0,>=5.12.3->napari[all]) (5.15.2)\n",
      "Requirement already satisfied: ipython-genutils in /usr/people/popovych/.local/lib/python3.7/site-packages (from qtconsole!=4.7.6,>=4.5.1->napari-console>=0.0.3->napari[all]) (0.2.0)\n",
      "Requirement already satisfied: jupyter-core in /usr/people/popovych/.local/lib/python3.7/site-packages (from qtconsole!=4.7.6,>=4.5.1->napari-console>=0.0.3->napari[all]) (4.6.3)\n",
      "Requirement already satisfied: pyzmq>=17.1 in /usr/people/popovych/.local/lib/python3.7/site-packages (from qtconsole!=4.7.6,>=4.5.1->napari-console>=0.0.3->napari[all]) (19.0.1)\n",
      "Requirement already satisfied: python-dateutil>=2.1 in /usr/people/popovych/.local/lib/python3.7/site-packages (from jupyter-client->ipykernel>=5.2.0->napari-console>=0.0.3->napari[all]) (2.8.0)\n",
      "Requirement already satisfied: sphinxcontrib-jsmath in /usr/people/popovych/.local/lib/python3.7/site-packages (from sphinx>=1.6.5->numpydoc>=0.9.2->napari[all]) (1.0.1)\n",
      "Requirement already satisfied: sphinxcontrib-htmlhelp in /usr/people/popovych/.local/lib/python3.7/site-packages (from sphinx>=1.6.5->numpydoc>=0.9.2->napari[all]) (1.0.3)\n",
      "Requirement already satisfied: requests>=2.5.0 in /usr/people/popovych/.local/lib/python3.7/site-packages (from sphinx>=1.6.5->numpydoc>=0.9.2->napari[all]) (2.23.0)\n",
      "Requirement already satisfied: sphinxcontrib-devhelp in /usr/people/popovych/.local/lib/python3.7/site-packages (from sphinx>=1.6.5->numpydoc>=0.9.2->napari[all]) (1.0.2)\n",
      "Requirement already satisfied: docutils>=0.12 in /usr/people/popovych/.local/lib/python3.7/site-packages (from sphinx>=1.6.5->numpydoc>=0.9.2->napari[all]) (0.15.2)\n",
      "Requirement already satisfied: snowballstemmer>=1.1 in /usr/people/popovych/.local/lib/python3.7/site-packages (from sphinx>=1.6.5->numpydoc>=0.9.2->napari[all]) (2.0.0)\n",
      "Requirement already satisfied: imagesize in /usr/people/popovych/.local/lib/python3.7/site-packages (from sphinx>=1.6.5->numpydoc>=0.9.2->napari[all]) (1.2.0)\n",
      "Requirement already satisfied: sphinxcontrib-serializinghtml in /usr/people/popovych/.local/lib/python3.7/site-packages (from sphinx>=1.6.5->numpydoc>=0.9.2->napari[all]) (1.1.4)\n",
      "Requirement already satisfied: sphinxcontrib-applehelp in /usr/people/popovych/.local/lib/python3.7/site-packages (from sphinx>=1.6.5->numpydoc>=0.9.2->napari[all]) (1.0.2)\n",
      "Requirement already satisfied: sphinxcontrib-qthelp in /usr/people/popovych/.local/lib/python3.7/site-packages (from sphinx>=1.6.5->numpydoc>=0.9.2->napari[all]) (1.0.3)\n",
      "Requirement already satisfied: alabaster<0.8,>=0.7 in /usr/people/popovych/.local/lib/python3.7/site-packages (from sphinx>=1.6.5->numpydoc>=0.9.2->napari[all]) (0.7.12)\n",
      "Requirement already satisfied: babel>=1.3 in /usr/people/popovych/.local/lib/python3.7/site-packages (from sphinx>=1.6.5->numpydoc>=0.9.2->napari[all]) (2.8.0)\n",
      "Requirement already satisfied: pytz>=2015.7 in /usr/people/popovych/.local/lib/python3.7/site-packages (from babel>=1.3->sphinx>=1.6.5->numpydoc>=0.9.2->napari[all]) (2019.3)\n",
      "Requirement already satisfied: idna<3,>=2.5 in /usr/people/popovych/.local/lib/python3.7/site-packages (from requests>=2.5.0->sphinx>=1.6.5->numpydoc>=0.9.2->napari[all]) (2.8)\n",
      "Requirement already satisfied: chardet<4,>=3.0.2 in /usr/people/popovych/.local/lib/python3.7/site-packages (from requests>=2.5.0->sphinx>=1.6.5->numpydoc>=0.9.2->napari[all]) (3.0.4)\n",
      "Requirement already satisfied: certifi>=2017.4.17 in /usr/people/popovych/.local/lib/python3.7/site-packages (from requests>=2.5.0->sphinx>=1.6.5->numpydoc>=0.9.2->napari[all]) (2019.11.28)\n",
      "Requirement already satisfied: urllib3!=1.25.0,!=1.25.1,<1.26,>=1.21.1 in /usr/people/popovych/.local/lib/python3.7/site-packages (from requests>=2.5.0->sphinx>=1.6.5->numpydoc>=0.9.2->napari[all]) (1.25.11)\n",
      "Requirement already satisfied: freetype-py in /usr/people/popovych/.local/lib/python3.7/site-packages (from vispy>=0.6.4->napari[all]) (2.2.0)\n",
      "Requirement already satisfied: pyparsing>=2.0.2 in /usr/people/popovych/.local/lib/python3.7/site-packages (from packaging->pint>=0.17->napari[all]) (2.4.6)\n",
      "Requirement already satisfied: ptyprocess>=0.5 in /usr/people/popovych/.local/lib/python3.7/site-packages (from pexpect->IPython>=7.7.0->napari-console>=0.0.3->napari[all]) (0.6.0)\n",
      "\u001b[33mWARNING: scikit-image 0.17.2 does not provide the extra 'data'\u001b[0m\n",
      "Requirement already satisfied: matplotlib!=3.0.0,>=2.0.0 in /usr/people/popovych/.local/lib/python3.7/site-packages (from scikit-image[data]->napari[all]) (2.2.3)\n",
      "Requirement already satisfied: networkx>=2.0 in /usr/people/popovych/.local/lib/python3.7/site-packages (from scikit-image[data]->napari[all]) (2.4)\n",
      "Requirement already satisfied: PyWavelets>=1.1.1 in /usr/people/popovych/.local/lib/python3.7/site-packages (from scikit-image[data]->napari[all]) (1.1.1)\n",
      "Requirement already satisfied: kiwisolver>=1.0.1 in /usr/people/popovych/.local/lib/python3.7/site-packages (from matplotlib!=3.0.0,>=2.0.0->scikit-image[data]->napari[all]) (1.1.0)\n",
      "Requirement already satisfied: cycler>=0.10 in /usr/people/popovych/.local/lib/python3.7/site-packages (from matplotlib!=3.0.0,>=2.0.0->scikit-image[data]->napari[all]) (0.10.0)\n"
     ]
    }
   ],
   "source": [
    "!pip install --no-use-pep517 \"napari[all]\"\n",
    "!sudo apt-get install --reinstall libxcb-xinerama0\n",
    "!python3 -m pip install pyvirtualdisplay\n",
    "!sudo apt-get install xvfb\n",
    "!sudo apt-get install python3-pyqt5"
   ]
  },
  {
   "cell_type": "code",
   "execution_count": 4,
   "metadata": {},
   "outputs": [],
   "source": [
    "import random\n",
    "import torch\n",
    "import numpy as np\n",
    "\n",
    "import cloudvolume as cv\n",
    "import torch\n",
    "\n",
    "from visualize import PyramidVisualizer, get_dataset, simple_visualizer\n",
    "from metroem.aligner import Aligner\n",
    "\n",
    "#raw_img_path = 'gs://corgie_package/paper/basil_data_x0/aligned_x0/img/img_full_x0_rend'\n",
    "raw_img_path = 'https://s3-hpcrc.rc.princeton.edu/fafbv15-em/v1'\n",
    "raw_img_path = 'gs://tmacrina-corgie-test/fafbv15/precoarse_v15-1/sample/onepass_test/img/img_v2'\n",
    "\n",
    "#raw_img_path = 'gs://tmacrina-corgie-test/fafbv15/precoarse_v15-1/sample/img/img_normalized'\n",
    "#masked_img_path = 'gs://corgie_package/paper/basil_data_x0/img/img_normed_with_cracks'\n",
    "#field_path = 'gs://corgie_package/paper/basil_data_x0/aligned_x0/field/field_full_x0'\n",
    "#masked_img_mip = 4\n",
    "img_mip = 4\n",
    "#field_mip = 4\n",
    "z = 165\n",
    "x_start = 140000\n",
    "y_start = 50000\n",
    "x_size = 1024 * 2**img_mip\n",
    "y_size = x_size\n",
    "pad = 64 * 2**3\n",
    "#\n",
    "#img_cv = cv.CloudVolume(raw_img_path, mip=img_mip, parallel=True, progress=False)\n",
    "#masked_img_cv = cv.CloudVolume(masked_img_path, mip=masked_img_mip, parallel=True, progress=False)\n",
    "#field_cv = cv.CloudVolume(field_path, mip=field_mip, parallel=True, progress=False)\n",
    "img_cv = cv.CloudVolume(raw_img_path, mip=img_mip, parallel=True, progress=False)\n",
    "img1_np = img_cv[(x_start-pad)//2**img_mip:(x_start+x_size+pad)//2**img_mip, (y_start-pad)//2**img_mip:(y_start+y_size+pad)//2**img_mip, z:z+1].squeeze()\n",
    "img2_np = img_cv[(x_start-pad)//2**img_mip:(x_start+x_size+pad)//2**img_mip, (y_start-pad)//2**img_mip:(y_start+y_size+pad)//2**img_mip, z+1:z+2].squeeze()"
   ]
  },
  {
   "cell_type": "code",
   "execution_count": 5,
   "metadata": {},
   "outputs": [],
   "source": [
    "%gui qt5\n",
    "import napari"
   ]
  },
  {
   "cell_type": "code",
   "execution_count": null,
   "metadata": {},
   "outputs": [],
   "source": [
    "viewer = napari.view_image(img1_np)"
   ]
  },
  {
   "cell_type": "code",
   "execution_count": 1,
   "metadata": {},
   "outputs": [],
   "source": [
    "%gui qt5\n",
    "from PyQt5 import QtWidgets"
   ]
  },
  {
   "cell_type": "code",
   "execution_count": 1,
   "metadata": {},
   "outputs": [
    {
     "ename": "NameError",
     "evalue": "name 'QtWidgets' is not defined",
     "output_type": "error",
     "traceback": [
      "\u001b[0;31m----------------------------------------------------------------------\u001b[0m",
      "\u001b[0;31mNameError\u001b[0m                            Traceback (most recent call last)",
      "\u001b[0;32m<ipython-input-1-941619e02315>\u001b[0m in \u001b[0;36m<module>\u001b[0;34m\u001b[0m\n\u001b[0;32m----> 1\u001b[0;31m \u001b[0mw\u001b[0m\u001b[0;34m=\u001b[0m\u001b[0mQtWidgets\u001b[0m\u001b[0;34m.\u001b[0m\u001b[0mQLabel\u001b[0m\u001b[0;34m(\u001b[0m\u001b[0;34m\"Hello world!\"\u001b[0m\u001b[0;34m)\u001b[0m\u001b[0;34m\u001b[0m\u001b[0;34m\u001b[0m\u001b[0m\n\u001b[0m\u001b[1;32m      2\u001b[0m \u001b[0;31m#w.show()\u001b[0m\u001b[0;34m\u001b[0m\u001b[0;34m\u001b[0m\u001b[0;34m\u001b[0m\u001b[0m\n",
      "\u001b[0;31mNameError\u001b[0m: name 'QtWidgets' is not defined"
     ]
    }
   ],
   "source": [
    "w=QtWidgets.QLabel(\"Hello world!\")\n",
    "#w.show()"
   ]
  },
  {
   "cell_type": "code",
   "execution_count": 1,
   "metadata": {},
   "outputs": [],
   "source": [
    "import PyQt5"
   ]
  },
  {
   "cell_type": "code",
   "execution_count": 2,
   "metadata": {},
   "outputs": [
    {
     "data": {
      "text/plain": [
       "'/usr/people/popovych/env/corgie_merge/lib/python3.7/site-packages/PyQt5/__init__.py'"
      ]
     },
     "execution_count": 2,
     "metadata": {},
     "output_type": "execute_result"
    }
   ],
   "source": [
    "PyQt5.__file__"
   ]
  },
  {
   "cell_type": "code",
   "execution_count": 1,
   "metadata": {},
   "outputs": [],
   "source": [
    "%gui qt5"
   ]
  },
  {
   "cell_type": "code",
   "execution_count": null,
   "metadata": {},
   "outputs": [],
   "source": []
  }
 ],
 "metadata": {
  "kernelspec": {
   "display_name": "corige_merge",
   "language": "python",
   "name": "corgie_merge"
  },
  "language_info": {
   "codemirror_mode": {
    "name": "ipython",
    "version": 3
   },
   "file_extension": ".py",
   "mimetype": "text/x-python",
   "name": "python",
   "nbconvert_exporter": "python",
   "pygments_lexer": "ipython3",
   "version": "3.7.10"
  }
 },
 "nbformat": 4,
 "nbformat_minor": 4
}
