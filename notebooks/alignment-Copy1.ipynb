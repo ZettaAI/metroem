{
 "cells": [
  {
   "cell_type": "code",
   "execution_count": 1,
   "metadata": {},
   "outputs": [],
   "source": [
    "%matplotlib inline\n",
    "%load_ext autoreload\n",
    "%autoreload 2\n",
    "import os\n",
    "from visualize import PyramidVisualizer, get_dataset, display_image, simple_visualizer\n",
    "from metroem.aligner import Aligner\n",
    "from corgie import residuals"
   ]
  },
  {
   "cell_type": "code",
   "execution_count": 2,
   "metadata": {},
   "outputs": [],
   "source": [
    "#os.environ[\"CUDA_VISIBLE_DEVICES\"]=\"0\"\n",
    "#os.environ[\"CUDA_DEVICE_ORDER\"]=\"PCI_BUS_ID\" \n",
    "#import torch; assert(torch.cuda.is_available())"
   ]
  },
  {
   "cell_type": "code",
   "execution_count": 4,
   "metadata": {
    "scrolled": true
   },
   "outputs": [],
   "source": [
    "data_dir = \"/usr/people/popovych/datasets/fly_m4_paper_big2\"\n",
    "dataset_mip = 4\n",
    "stage = 0\n",
    "checkpoint_name = 'test_no_batchnorm'\n",
    "#checkpoint_name = 'emb_nobs_x1'\n",
    "#checkpoint_name = 'emb_x0'\n",
    "#checkpoint_name = 'emb_x2_07_32'\n",
    "crop_mode = 'middle'\n",
    "checkpoint_folder = \""
   ]
  },
  {
   "cell_type": "code",
   "execution_count": 4,
   "metadata": {
    "scrolled": true
   },
   "outputs": [],
   "source": [
    "gs://tmacrina-corgie-test/models/fly_m4_210722_plain100_metric257/2_mip4in_mip4module"
   ]
  },
  {
   "cell_type": "code",
   "execution_count": 7,
   "metadata": {
    "scrolled": true
   },
   "outputs": [
    {
     "name": "stdout",
     "output_type": "stream",
     "text": [
      "/usr/people/popovych/models/tommy_new/model/model_spec.json\n",
      "block_6convs_fms8to32_skip25.json\n",
      "categorical/categorical_compch15_gridfalse_maxvalue7_outch2_stepnull_trainsttrue.json\n",
      "block_6convs_fms8to32_skip25.json\n",
      "categorical/categorical_compch15_gridfalse_maxvalue7_outch2_stepnull_trainsttrue.json\n",
      "identity.json\n",
      "embedder_m0_3x3_fms3x.json\n",
      "block_5convs_7x7_fms1to3_skip14.json\n",
      "block_3convs_3x3_fms3to32to3.json\n",
      "average_pool.json\n",
      "embedder_fms4to3.json\n",
      "block_3convs_3x3_fms4to32to3.json\n",
      "average_pool.json\n",
      "block_3convs_3x3_fms3to32to3.json\n",
      "identity.json\n",
      "identity.json\n",
      "identity.json\n",
      "upsample_residuals.json\n",
      "identity.json\n",
      "Adding 'x138000_y53000_z152' dataset.\n",
      "Adding 'x135000_y50000_z152' dataset.\n",
      "Loading file '/usr/people/popovych/datasets/fly_m4_paper_big2/x138000_y53000_z152_MIP4.h5...'\n",
      "Loading file '/usr/people/popovych/datasets/fly_m4_paper_big2/x135000_y50000_z152_MIP4.h5...'\n"
     ]
    },
    {
     "name": "stderr",
     "output_type": "stream",
     "text": [
      "/usr/people/popovych/env/corgie_merge/lib/python3.7/site-packages/artificery/parsers/categorical_regression/parse.py:38: UserWarning: torch.range is deprecated in favor of torch.arange and will be removed in 0.5. Note that arange generates values in [start; end), not [start; end].\n",
      "  requires_grad=False) - self.component_channels//2\n"
     ]
    }
   ],
   "source": [
    "data_dir = \"/usr/people/popovych/datasets/fly_m4_paper_big2\"\n",
    "dataset_mip = 4\n",
    "stage = 0\n",
    "checkpoint_name = 'test_no_batchnorm'\n",
    "#checkpoint_name = 'emb_nobs_x1'\n",
    "#checkpoint_name = 'emb_x0'\n",
    "#checkpoint_name = 'emb_x2_07_32'\n",
    "crop_mode = 'middle'\n",
    "checkpoint_folder = \"/usr/people/popovych/models/tommy_new/model\"\n",
    "#checkpoint_folder = \"/usr/people/popovych/models/fly_emb_x0/0_mip4in_mip5module/model\"\n",
    "\n",
    "pyramid = Aligner(checkpoint_folder,\n",
    "                    checkpoint_name=checkpoint_name,\n",
    "                    train=False,\n",
    "                    finetune_lr=3e-1,\n",
    "                    finetune_sm=30e0,\n",
    "                    finetune_iter=400,\n",
    "                    finetune=False).cuda()\n",
    "\n",
    "dataset = get_dataset(\n",
    "    data_dir=data_dir, \n",
    "    dataset_mip=dataset_mip, \n",
    "    stage=stage, \n",
    "    checkpoint_name=checkpoint_name, \n",
    "    crop_mode=crop_mode,\n",
    "    cropped_size=1024\n",
    "\n",
    ")\n",
    "\n",
    "viz = PyramidVisualizer(\n",
    "    pyramid=pyramid, \n",
    "    dataset_mip=dataset_mip, \n",
    "    dataset=dataset\n",
    ")"
   ]
  },
  {
   "cell_type": "code",
   "execution_count": 8,
   "metadata": {},
   "outputs": [
    {
     "data": {
      "application/vnd.jupyter.widget-view+json": {
       "model_id": "8131d30ece944cb9a4e9cc7e199a451b",
       "version_major": 2,
       "version_minor": 0
      },
      "text/plain": [
       "interactive(children=(Checkbox(value=False, description='Take from validation set'), Checkbox(value=True, desc…"
      ]
     },
     "metadata": {},
     "output_type": "display_data"
    }
   ],
   "source": [
    "viz.visualize(section_count=1, default_slice=10, default_x=0, default_y=0)"
   ]
  },
  {
   "cell_type": "code",
   "execution_count": 5,
   "metadata": {},
   "outputs": [],
   "source": [
    "\n",
    "from torch.autograd import Variable\n",
    "import torch\n",
    "\n",
    "def jacob(fields):\n",
    "    def dx(f):\n",
    "        p = Variable(torch.zeros((f.size(0),1,f.size(1),2), device='cuda'))\n",
    "        return torch.cat((p, f[:,2:,:,:] - f[:,:-2,:,:], p), 1)\n",
    "    def dy(f):\n",
    "        p = Variable(torch.zeros((f.size(0),f.size(1),1,2), device='cuda'))\n",
    "        return torch.cat((p, f[:,:,2:,:] - f[:,:,:-2,:], p), 2)\n",
    "    fields = sum(map(lambda f: [dx(f), dy(f)], fields), [])\n",
    "    field = torch.sum(torch.cat(fields, -1) ** 2, -1)\n",
    "    return field\n",
    "\n",
    "\n",
    "def lap(fields, device='cuda'):\n",
    "    def dx(f):\n",
    "        p = Variable(torch.zeros((f.size(0),1,f.size(1),2), device=device))\n",
    "        return torch.cat((p, f[:,1:-1,:,:] - f[:,:-2,:,:], p), 1)\n",
    "    def dy(f):\n",
    "        p = Variable(torch.zeros((f.size(0),f.size(1),1,2), device=device))\n",
    "        return torch.cat((p, f[:,:,1:-1,:] - f[:,:,:-2,:], p), 2)\n",
    "    def dxf(f):\n",
    "        p = Variable(torch.zeros((f.size(0),1,f.size(1),2), device=device))\n",
    "        return torch.cat((p, f[:,1:-1,:,:] - f[:,2:,:,:], p), 1)\n",
    "    def dyf(f):\n",
    "        p = Variable(torch.zeros((f.size(0),f.size(1),1,2), device=device))\n",
    "        return torch.cat((p, f[:,:,1:-1,:] - f[:,:,2:,:], p), 2)\n",
    "    fields = map(lambda f: [dx(f), dy(f), dxf(f), dyf(f)], fields)\n",
    "    fields = map(lambda fl: (sum(fl) / 4.0) ** 2, fields)\n",
    "    field = sum(map(lambda f: torch.sum(f, -1), fields))\n",
    "    return field\n",
    "\n",
    "def jacob(fields):\n",
    "    def dx(f):\n",
    "        p = Variable(torch.zeros((f.size(0),1,f.size(1),2), device='cuda'))\n",
    "        return torch.cat((p, f[:,2:,:,:] - f[:,:-2,:,:], p), 1)\n",
    "    def dy(f):\n",
    "        p = Variable(torch.zeros((f.size(0),f.size(1),1,2), device='cuda'))\n",
    "        return torch.cat((p, f[:,:,2:,:] - f[:,:,:-2,:], p), 2)\n",
    "    fields = sum(map(lambda f: [dx(f), dy(f)], fields), [])\n",
    "    field = torch.sum(torch.cat(fields, -1) ** 2, -1)\n",
    "    return field\n",
    "\n",
    "\n",
    "\n",
    "def cjacob(fields):\n",
    "    def center(f):\n",
    "        fmean_x, fmean_y = torch.mean(f[:,:,:,0]).item(), torch.mean(f[:,:,:,1]).item()\n",
    "        fmean = torch.cat((fmean_x * torch.ones((1,f.size(1), f.size(2),1), device='cuda'), fmean_y * torch.ones((1,f.size(1), f.size(2),1), device='cuda')), 3)\n",
    "        fmean = Variable(fmean).cuda()\n",
    "        return f - fmean\n",
    "\n",
    "    def dx(f):\n",
    "        p = Variable(torch.zeros((f.size(0),1,f.size(1),2), device='cuda'))\n",
    "        d = torch.cat((p, f[:,2:,:,:] - f[:,:-2,:,:], p), 1)\n",
    "        return center(d)\n",
    "    def dy(f):\n",
    "        p = Variable(torch.zeros((f.size(0),f.size(1),1,2), device='cuda'))\n",
    "        d = torch.cat((p, f[:,:,2:,:] - f[:,:,:-2,:], p), 2)\n",
    "        return center(d)\n",
    "\n",
    "    fields = sum(map(lambda f: [dx(f), dy(f)], fields), [])\n",
    "    field = torch.sum(torch.cat(fields, -1) ** 2, -1)\n",
    "    return field"
   ]
  },
  {
   "cell_type": "code",
   "execution_count": 8,
   "metadata": {},
   "outputs": [
    {
     "ename": "NameError",
     "evalue": "name 'res' is not defined",
     "output_type": "error",
     "traceback": [
      "\u001b[0;31m---------------------------------------------------------------------------\u001b[0m",
      "\u001b[0;31mNameError\u001b[0m                                 Traceback (most recent call last)",
      "\u001b[0;32m<ipython-input-8-74b3d3620fb7>\u001b[0m in \u001b[0;36m<module>\u001b[0;34m\u001b[0m\n\u001b[0;32m----> 1\u001b[0;31m \u001b[0mres\u001b[0m\u001b[0;34m.\u001b[0m\u001b[0mmax\u001b[0m\u001b[0;34m(\u001b[0m\u001b[0;34m)\u001b[0m\u001b[0;34m\u001b[0m\u001b[0;34m\u001b[0m\u001b[0m\n\u001b[0m",
      "\u001b[0;31mNameError\u001b[0m: name 'res' is not defined"
     ]
    }
   ],
   "source": [
    "res.max()"
   ]
  },
  {
   "cell_type": "code",
   "execution_count": 3,
   "metadata": {},
   "outputs": [
    {
     "ename": "NameError",
     "evalue": "name 'viz' is not defined",
     "output_type": "error",
     "traceback": [
      "\u001b[0;31m---------------------------------------------------------------------------\u001b[0m",
      "\u001b[0;31mNameError\u001b[0m                                 Traceback (most recent call last)",
      "\u001b[0;32m<ipython-input-3-cc3d4e5960c0>\u001b[0m in \u001b[0;36m<module>\u001b[0;34m\u001b[0m\n\u001b[1;32m      1\u001b[0m \u001b[0;32mimport\u001b[0m \u001b[0mmetroem\u001b[0m\u001b[0;34m\u001b[0m\u001b[0;34m\u001b[0m\u001b[0m\n\u001b[0;32m----> 2\u001b[0;31m \u001b[0mres\u001b[0m \u001b[0;34m=\u001b[0m \u001b[0mviz\u001b[0m\u001b[0;34m.\u001b[0m\u001b[0mrun_sample\u001b[0m\u001b[0;34m[\u001b[0m\u001b[0;34m'pred_res'\u001b[0m\u001b[0;34m]\u001b[0m\u001b[0;34m\u001b[0m\u001b[0;34m\u001b[0m\u001b[0m\n\u001b[0m\u001b[1;32m      3\u001b[0m \u001b[0mmask\u001b[0m \u001b[0;34m=\u001b[0m \u001b[0;34m(\u001b[0m\u001b[0mviz\u001b[0m\u001b[0;34m.\u001b[0m\u001b[0mrun_sample\u001b[0m\u001b[0;34m[\u001b[0m\u001b[0;34m'tgt'\u001b[0m\u001b[0;34m]\u001b[0m \u001b[0;34m!=\u001b[0m \u001b[0;36m0\u001b[0m\u001b[0;34m)\u001b[0m \u001b[0;34m*\u001b[0m \u001b[0;34m(\u001b[0m\u001b[0mviz\u001b[0m\u001b[0;34m.\u001b[0m\u001b[0mrun_sample\u001b[0m\u001b[0;34m[\u001b[0m\u001b[0;34m'pred_tgt'\u001b[0m\u001b[0;34m]\u001b[0m \u001b[0;34m!=\u001b[0m \u001b[0;36m0\u001b[0m\u001b[0;34m)\u001b[0m\u001b[0;34m\u001b[0m\u001b[0;34m\u001b[0m\u001b[0m\n\u001b[1;32m      4\u001b[0m \u001b[0mmetroem\u001b[0m\u001b[0;34m.\u001b[0m\u001b[0mloss\u001b[0m\u001b[0;34m.\u001b[0m\u001b[0mrigidity\u001b[0m\u001b[0;34m(\u001b[0m\u001b[0mres\u001b[0m\u001b[0;34m)\u001b[0m\u001b[0;34m[\u001b[0m\u001b[0mmask\u001b[0m\u001b[0;34m.\u001b[0m\u001b[0msqueeze\u001b[0m\u001b[0;34m(\u001b[0m\u001b[0;34m)\u001b[0m\u001b[0;34m]\u001b[0m\u001b[0;34m.\u001b[0m\u001b[0mmean\u001b[0m\u001b[0;34m(\u001b[0m\u001b[0;34m)\u001b[0m\u001b[0;34m\u001b[0m\u001b[0;34m\u001b[0m\u001b[0m\n",
      "\u001b[0;31mNameError\u001b[0m: name 'viz' is not defined"
     ]
    }
   ],
   "source": [
    "import metroem\n",
    "res = viz.run_sample['pred_res']\n",
    "mask = (viz.run_sample['tgt'] != 0) * (viz.run_sample['pred_tgt'] != 0)\n",
    "metroem.loss.rigidity(res)[mask.squeeze()].mean()"
   ]
  },
  {
   "cell_type": "code",
   "execution_count": 79,
   "metadata": {},
   "outputs": [
    {
     "data": {
      "text/plain": [
       "tensor(0.0077, device='cuda:0')"
      ]
     },
     "execution_count": 79,
     "metadata": {},
     "output_type": "execute_result"
    }
   ],
   "source": [
    "jacob([res.permute(0, 2, 3, 1)]).squeeze()[mask.squeeze()].mean()"
   ]
  },
  {
   "cell_type": "code",
   "execution_count": 75,
   "metadata": {},
   "outputs": [
    {
     "data": {
      "text/plain": [
       "tensor(0.0073, device='cuda:0')"
      ]
     },
     "execution_count": 75,
     "metadata": {},
     "output_type": "execute_result"
    }
   ],
   "source": [
    "jacob([res.permute(0, 2, 3, 1)]).squeeze()[mask.squeeze()].mean()"
   ]
  },
  {
   "cell_type": "code",
   "execution_count": 23,
   "metadata": {},
   "outputs": [
    {
     "ename": "AttributeError",
     "evalue": "module 'metroem.loss' has no attribute 'lap'",
     "output_type": "error",
     "traceback": [
      "\u001b[0;31m---------------------------------------------------------------------------\u001b[0m",
      "\u001b[0;31mAttributeError\u001b[0m                            Traceback (most recent call last)",
      "\u001b[0;32m<ipython-input-23-807db367a804>\u001b[0m in \u001b[0;36m<module>\u001b[0;34m\u001b[0m\n\u001b[0;32m----> 1\u001b[0;31m \u001b[0mmetroem\u001b[0m\u001b[0;34m.\u001b[0m\u001b[0mloss\u001b[0m\u001b[0;34m.\u001b[0m\u001b[0mlap\u001b[0m\u001b[0;34m(\u001b[0m\u001b[0mviz\u001b[0m\u001b[0;34m.\u001b[0m\u001b[0mrun_sample\u001b[0m\u001b[0;34m[\u001b[0m\u001b[0;34m'pred_res'\u001b[0m\u001b[0;34m]\u001b[0m\u001b[0;34m)\u001b[0m\u001b[0;34m.\u001b[0m\u001b[0mmean\u001b[0m\u001b[0;34m(\u001b[0m\u001b[0;34m)\u001b[0m\u001b[0;34m\u001b[0m\u001b[0;34m\u001b[0m\u001b[0m\n\u001b[0m",
      "\u001b[0;31mAttributeError\u001b[0m: module 'metroem.loss' has no attribute 'lap'"
     ]
    }
   ],
   "source": [
    "\n",
    "metroem.loss.lap(viz.run_sample['pred_res']).mean()"
   ]
  },
  {
   "cell_type": "code",
   "execution_count": 15,
   "metadata": {},
   "outputs": [
    {
     "ename": "AttributeError",
     "evalue": "'PyramidVisualizer' object has no attribute 'vect_dic'",
     "output_type": "error",
     "traceback": [
      "\u001b[0;31m---------------------------------------------------------------------------\u001b[0m",
      "\u001b[0;31mAttributeError\u001b[0m                            Traceback (most recent call last)",
      "\u001b[0;32m<ipython-input-15-c0428b33fdcc>\u001b[0m in \u001b[0;36m<module>\u001b[0;34m\u001b[0m\n\u001b[0;32m----> 1\u001b[0;31m \u001b[0mres\u001b[0m \u001b[0;34m=\u001b[0m \u001b[0mviz\u001b[0m\u001b[0;34m.\u001b[0m\u001b[0mvect_dic\u001b[0m\u001b[0;34m[\u001b[0m\u001b[0;34m'Predicted Residual'\u001b[0m\u001b[0;34m]\u001b[0m\u001b[0;34m\u001b[0m\u001b[0;34m\u001b[0m\u001b[0m\n\u001b[0m",
      "\u001b[0;31mAttributeError\u001b[0m: 'PyramidVisualizer' object has no attribute 'vect_dic'"
     ]
    }
   ],
   "source": [
    "res = viz.vect_dic['Predicted Residual']"
   ]
  },
  {
   "cell_type": "code",
   "execution_count": 10,
   "metadata": {},
   "outputs": [
    {
     "data": {
      "application/vnd.jupyter.widget-view+json": {
       "model_id": "701d2be5f86d4b6da736258ef92034c8",
       "version_major": 2,
       "version_minor": 0
      },
      "text/plain": [
       "interactive(children=(ToggleButtons(description='Image:', options=(0, 1, 2, 3, 4, 5), value=0), IntText(value=…"
      ]
     },
     "metadata": {},
     "output_type": "display_data"
    }
   ],
   "source": [
    "i = 1\n",
    "tgt_embs = pyramid.get_embeddings(dataset[i]['tgt'], level=0)\n",
    "src_embs = pyramid.get_embeddings(dataset[i]['src'], level=0)\n",
    "\n",
    "v = 0.6\n",
    "vmin, vmax = -v, v\n",
    "lx = 350\n",
    "ly = 2\n",
    "hx = 900\n",
    "hy = 550\n",
    "imgs = [dataset[i]['tgt'], dataset[i]['src'], residuals.shift_by_int(tgt_embs[1], 0, 0),\n",
    "        residuals.shift_by_int(src_embs[1], 0, 0),\n",
    "        residuals.shift_by_int(src_embs[1], 0, 1),\n",
    "        residuals.shift_by_int(src_embs[1], 1, 0)\n",
    "       ]\n",
    "imgs = [img[lx:hx, ly:hy] for img in imgs]\n",
    "simple_visualizer().visualize(imgs)"
   ]
  },
  {
   "cell_type": "code",
   "execution_count": null,
   "metadata": {},
   "outputs": [],
   "source": [
    "i = 17\n",
    "tgt_embs = pyramid.get_embeddings(dataset[i]['tgt'], level=0)\n",
    "src_embs = pyramid.get_embeddings(dataset[i]['src'], level=0)\n",
    "lx = 400\n",
    "ly = 200\n",
    "hx = 700\n",
    "hy = 500\n",
    "imgs = [dataset[i]['tgt'], dataset[i]['src'], residuals.shift_by_int(tgt_embs[1], 0, 0), residuals.shift_by_int(src_embs[1], 0, 0)]\n",
    "imgs = [img[lx:hx, ly:hy] for img in imgs]\n",
    "simple_visualizer().visualize(imgs)"
   ]
  },
  {
   "cell_type": "code",
   "execution_count": 14,
   "metadata": {},
   "outputs": [
    {
     "data": {
      "application/vnd.jupyter.widget-view+json": {
       "model_id": "84cdb0cbaeb64079906ddacae51e59ef",
       "version_major": 2,
       "version_minor": 0
      },
      "text/plain": [
       "interactive(children=(ToggleButtons(description='Image:', options=(0, 1, 2, 3), value=0), IntText(value=1, des…"
      ]
     },
     "metadata": {},
     "output_type": "display_data"
    }
   ],
   "source": [
    "# good image\n",
    "i = 16\n",
    "tgt_embs = pyramid.get_embeddings(dataset[i]['tgt'], level=0)\n",
    "src_embs = pyramid.get_embeddings(dataset[i]['src'], level=0)\n",
    "\n",
    "v = 0.6\n",
    "vmin, vmax = -v, v\n",
    "lx = 350\n",
    "ly = 200\n",
    "\n",
    "hx = 900\n",
    "hy = 750\n",
    "imgs = [dataset[i]['tgt'], dataset[i]['src'], residuals.shift_by_int(tgt_embs[1], 0, 0), residuals.shift_by_int(src_embs[1], 0, 0)]\n",
    "imgs = [img[lx:hx, ly:hy] for img in imgs]\n",
    "simple_visualizer().visualize(imgs)"
   ]
  },
  {
   "cell_type": "code",
   "execution_count": 35,
   "metadata": {},
   "outputs": [
    {
     "name": "stdout",
     "output_type": "stream",
     "text": [
      "tensor(-0.0250, device='cuda:0') tensor(0.0357, device='cuda:0')\n"
     ]
    },
    {
     "ename": "NameError",
     "evalue": "name 'emb_old' is not defined",
     "output_type": "error",
     "traceback": [
      "\u001b[0;31m---------------------------------------------------------------------------\u001b[0m",
      "\u001b[0;31mNameError\u001b[0m                                 Traceback (most recent call last)",
      "\u001b[0;32m<ipython-input-35-b1c44134319e>\u001b[0m in \u001b[0;36m<module>\u001b[0;34m\u001b[0m\n\u001b[1;32m      4\u001b[0m \u001b[0mv\u001b[0m \u001b[0;34m=\u001b[0m \u001b[0;36m0.6\u001b[0m\u001b[0;34m\u001b[0m\u001b[0;34m\u001b[0m\u001b[0m\n\u001b[1;32m      5\u001b[0m \u001b[0mvmin\u001b[0m\u001b[0;34m,\u001b[0m \u001b[0mvmax\u001b[0m \u001b[0;34m=\u001b[0m \u001b[0;34m-\u001b[0m\u001b[0mv\u001b[0m\u001b[0;34m,\u001b[0m \u001b[0mv\u001b[0m\u001b[0;34m\u001b[0m\u001b[0;34m\u001b[0m\u001b[0m\n\u001b[0;32m----> 6\u001b[0;31m \u001b[0mimgs\u001b[0m \u001b[0;34m=\u001b[0m \u001b[0;34m[\u001b[0m\u001b[0mdataset\u001b[0m\u001b[0;34m[\u001b[0m\u001b[0mi\u001b[0m\u001b[0;34m]\u001b[0m\u001b[0;34m[\u001b[0m\u001b[0;34m'tgt'\u001b[0m\u001b[0;34m]\u001b[0m\u001b[0;34m,\u001b[0m \u001b[0membs\u001b[0m\u001b[0;34m[\u001b[0m\u001b[0;36m0\u001b[0m\u001b[0;34m]\u001b[0m\u001b[0;34m,\u001b[0m \u001b[0memb_old\u001b[0m\u001b[0;34m]\u001b[0m\u001b[0;34m\u001b[0m\u001b[0;34m\u001b[0m\u001b[0m\n\u001b[0m\u001b[1;32m      7\u001b[0m \u001b[0msimple_visualizer\u001b[0m\u001b[0;34m(\u001b[0m\u001b[0;34m)\u001b[0m\u001b[0;34m.\u001b[0m\u001b[0mvisualize\u001b[0m\u001b[0;34m(\u001b[0m\u001b[0mimgs\u001b[0m\u001b[0;34m)\u001b[0m\u001b[0;34m\u001b[0m\u001b[0;34m\u001b[0m\u001b[0m\n",
      "\u001b[0;31mNameError\u001b[0m: name 'emb_old' is not defined"
     ]
    }
   ],
   "source": [
    "i = 1\n",
    "embs = pyramid.get_embeddings(dataset[i]['tgt'], level=0)\n",
    "print(embs[0].min(), embs[0].max())\n",
    "v = 0.6\n",
    "vmin, vmax = -v, v\n",
    "imgs = [dataset[i]['tgt'], embs[0], emb_old]\n",
    "simple_visualizer().visualize(imgs)"
   ]
  },
  {
   "cell_type": "code",
   "execution_count": null,
   "metadata": {},
   "outputs": [],
   "source": [
    "emb_old = embs[0]"
   ]
  },
  {
   "cell_type": "code",
   "execution_count": null,
   "metadata": {},
   "outputs": [],
   "source": []
  }
 ],
 "metadata": {
  "kernelspec": {
   "display_name": "corige_merge",
   "language": "python",
   "name": "corgie_merge"
  },
  "language_info": {
   "codemirror_mode": {
    "name": "ipython",
    "version": 3
   },
   "file_extension": ".py",
   "mimetype": "text/x-python",
   "name": "python",
   "nbconvert_exporter": "python",
   "pygments_lexer": "ipython3",
   "version": "3.7.10"
  }
 },
 "nbformat": 4,
 "nbformat_minor": 4
}
