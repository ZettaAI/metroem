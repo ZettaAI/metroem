{
 "cells": [
  {
   "cell_type": "code",
   "execution_count": 1,
   "metadata": {},
   "outputs": [],
   "source": [
    "%matplotlib inline\n",
    "import os\n",
    "from visualize import DatasetVisualizer, get_dataset, display_image, simple_visualizer\n",
    "from metroem.aligner import Aligner"
   ]
  },
  {
   "cell_type": "code",
   "execution_count": 2,
   "metadata": {
    "scrolled": true
   },
   "outputs": [
    {
     "name": "stdout",
     "output_type": "stream",
     "text": [
      "Adding 'x100352_y53120_z4958' dataset.\n",
      "Loading file '/home/tmacrina/seunglab/fafbv15_alignment/data/metroem_test/m6/x100352_y53120_z4958_MIP6.h5...'\n",
      "Loading file '/home/tmacrina/seunglab/fafbv15_alignment/data/metroem_test/m6/field_0_x100352_y53120_z4958_MIP6_test.h5...'\n"
     ]
    }
   ],
   "source": [
    "data_dir = \"~/seunglab/fafbv15_alignment/data/metroem_test/m6\"\n",
    "dataset_mip = 6\n",
    "stage = 1\n",
    "checkpoint_name = 'test'\n",
    "crop_mode = None\n",
    "device = 'cpu'\n",
    "\n",
    "dataset = get_dataset(data_dir=data_dir, \n",
    "                    dataset_mip=dataset_mip, \n",
    "                    stage=stage, \n",
    "                    checkpoint_name=checkpoint_name, \n",
    "                    crop_mode=crop_mode,\n",
    "                    device=device)\n",
    "viz = DatasetVisualizer(dataset_mip=dataset_mip, \n",
    "                        dataset=dataset)"
   ]
  },
  {
   "cell_type": "code",
   "execution_count": 3,
   "metadata": {},
   "outputs": [
    {
     "data": {
      "application/vnd.jupyter.widget-view+json": {
       "model_id": "bd123fd1c1954e389d5c9bbd35fc4e0b",
       "version_major": 2,
       "version_minor": 0
      },
      "text/plain": [
       "interactive(children=(IntText(value=1, description='Section Count:'), IntText(value=0, description='Sample ID:…"
      ]
     },
     "metadata": {},
     "output_type": "display_data"
    }
   ],
   "source": [
    "viz.visualize(section_count=1, default_slice=0, default_x=0, default_y=0)"
   ]
  }
 ],
 "metadata": {
  "kernelspec": {
   "display_name": "Python 3",
   "language": "python",
   "name": "python3"
  },
  "language_info": {
   "codemirror_mode": {
    "name": "ipython",
    "version": 3
   },
   "file_extension": ".py",
   "mimetype": "text/x-python",
   "name": "python",
   "nbconvert_exporter": "python",
   "pygments_lexer": "ipython3",
   "version": "3.7.10"
  }
 },
 "nbformat": 4,
 "nbformat_minor": 4
}
