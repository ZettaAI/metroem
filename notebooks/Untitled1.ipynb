{
 "cells": [
  {
   "cell_type": "code",
   "execution_count": 15,
   "id": "05e443b4-db93-46cf-b339-5b33678b7dc4",
   "metadata": {},
   "outputs": [
    {
     "name": "stdout",
     "output_type": "stream",
     "text": [
      "The autoreload extension is already loaded. To reload it, use:\n",
      "  %reload_ext autoreload\n"
     ]
    }
   ],
   "source": [
    "%matplotlib inline\n",
    "%load_ext autoreload\n",
    "%autoreload 2\n",
    "\n",
    "from visualize import PyramidVisualizer, get_dataset, simple_visualizer\n",
    "from metroem.aligner import Aligner\n",
    "from collections import defaultdict\n",
    "import random\n",
    "import cloudvolume as cv\n",
    "import numpy as np"
   ]
  },
  {
   "cell_type": "code",
   "execution_count": 5,
   "id": "2b6d3074-c35f-4925-b0fd-79f1f38e732d",
   "metadata": {},
   "outputs": [],
   "source": [
    "cv_path = 'gs://h01-release/data/20210601/c3'"
   ]
  },
  {
   "cell_type": "code",
   "execution_count": 6,
   "id": "ed2a7c8b-a045-4644-a3c7-01250feae67e",
   "metadata": {},
   "outputs": [],
   "source": [
    "def get_srctgt(cv_path, x_start, y_start, z, img_mip, x_size=1024, y_size=1024):\n",
    "    img_cv = cv.CloudVolume(cv_path, mip=img_mip, parallel=True, progress=False, bounded=False, fill_missing=True)\n",
    "    \n",
    "    x_size *= 2**img_mip\n",
    "    y_size *= 2**img_mip\n",
    "\n",
    "    img1_np = img_cv[(x_start)//2**img_mip:(x_start+x_size)//2**img_mip, (y_start)//2**img_mip:(y_start+y_size)//2**img_mip, z:z+1].squeeze()\n",
    "    img2_np = img_cv[(x_start)//2**img_mip:(x_start+x_size)//2**img_mip, (y_start)//2**img_mip:(y_start+y_size)//2**img_mip, z+1:z+2].squeeze()\n",
    "\n",
    "    img1_t = torch.tensor(img2_np, device='cuda').unsqueeze(0).unsqueeze(0)\n",
    "    img2_t = torch.tensor(img1_np, device='cuda').unsqueeze(0).unsqueeze(0)\n",
    "    \n",
    "    img1_t = torch.tensor(img2_np, device='cuda').unsqueeze(0).unsqueeze(0)\n",
    "    img2_t = torch.tensor(img1_np, device='cuda').unsqueeze(0).unsqueeze(0)\n",
    "\n",
    "    #src_tgt_t = torch.cat([img1_t, img2_t], 1)\n",
    "    return img1_t, img2_t"
   ]
  },
  {
   "cell_type": "code",
   "execution_count": 10,
   "id": "51a9fea7-e11b-4424-a5b4-e2cceab83153",
   "metadata": {},
   "outputs": [],
   "source": [
    "img_cv = cv.CloudVolume(cv_path, mip=0, parallel=True, progress=False, bounded=False, fill_missing=True)"
   ]
  },
  {
   "cell_type": "code",
   "execution_count": 22,
   "id": "78e2c178-c48b-4348-bd28-17ed7894a0e6",
   "metadata": {},
   "outputs": [
    {
     "data": {
      "text/plain": [
       "{'@type': 'neuroglancer_multiscale_volume',\n",
       " 'data_type': 'uint64',\n",
       " 'num_channels': 1,\n",
       " 'scales': [{'chunk_sizes': [[128, 128, 32]],\n",
       "   'compressed_segmentation_block_size': [16, 16, 4],\n",
       "   'encoding': 'compressed_segmentation',\n",
       "   'key': '8.0x8.0x33.0',\n",
       "   'resolution': [8, 8, 33],\n",
       "   'sharding': {'@type': 'neuroglancer_uint64_sharded_v1',\n",
       "    'data_encoding': 'gzip',\n",
       "    'hash': 'identity',\n",
       "    'minishard_bits': 6,\n",
       "    'minishard_index_encoding': 'gzip',\n",
       "    'preshift_bits': 9,\n",
       "    'shard_bits': 17},\n",
       "   'size': [515892, 356400, 5293]},\n",
       "  {'chunk_sizes': [[128, 128, 64]],\n",
       "   'compressed_segmentation_block_size': [8, 8, 4],\n",
       "   'encoding': 'compressed_segmentation',\n",
       "   'key': '16.0x16.0x33.0',\n",
       "   'resolution': [16, 16, 33],\n",
       "   'sharding': {'@type': 'neuroglancer_uint64_sharded_v1',\n",
       "    'data_encoding': 'gzip',\n",
       "    'hash': 'identity',\n",
       "    'minishard_bits': 6,\n",
       "    'minishard_index_encoding': 'gzip',\n",
       "    'preshift_bits': 9,\n",
       "    'shard_bits': 14},\n",
       "   'size': [257946, 178200, 5293]},\n",
       "  {'chunk_sizes': [[64, 64, 64]],\n",
       "   'compressed_segmentation_block_size': [8, 8, 8],\n",
       "   'encoding': 'compressed_segmentation',\n",
       "   'key': '32.0x32.0x33.0',\n",
       "   'resolution': [32, 32, 33],\n",
       "   'sharding': {'@type': 'neuroglancer_uint64_sharded_v1',\n",
       "    'data_encoding': 'gzip',\n",
       "    'hash': 'identity',\n",
       "    'minishard_bits': 6,\n",
       "    'minishard_index_encoding': 'gzip',\n",
       "    'preshift_bits': 9,\n",
       "    'shard_bits': 14},\n",
       "   'size': [128973, 89100, 5293]},\n",
       "  {'chunk_sizes': [[64, 64, 64]],\n",
       "   'compressed_segmentation_block_size': [8, 8, 8],\n",
       "   'encoding': 'compressed_segmentation',\n",
       "   'key': '64.0x64.0x66.0',\n",
       "   'resolution': [64, 64, 66],\n",
       "   'sharding': {'@type': 'neuroglancer_uint64_sharded_v1',\n",
       "    'data_encoding': 'gzip',\n",
       "    'hash': 'identity',\n",
       "    'minishard_bits': 6,\n",
       "    'minishard_index_encoding': 'gzip',\n",
       "    'preshift_bits': 9,\n",
       "    'shard_bits': 11},\n",
       "   'size': [64487, 44550, 2647]},\n",
       "  {'chunk_sizes': [[64, 64, 64]],\n",
       "   'compressed_segmentation_block_size': [8, 8, 8],\n",
       "   'encoding': 'compressed_segmentation',\n",
       "   'key': '128.0x128.0x132.0',\n",
       "   'resolution': [128, 128, 132],\n",
       "   'sharding': {'@type': 'neuroglancer_uint64_sharded_v1',\n",
       "    'data_encoding': 'gzip',\n",
       "    'hash': 'identity',\n",
       "    'minishard_bits': 6,\n",
       "    'minishard_index_encoding': 'gzip',\n",
       "    'preshift_bits': 9,\n",
       "    'shard_bits': 8},\n",
       "   'size': [32244, 22275, 1324]},\n",
       "  {'chunk_sizes': [[64, 64, 64]],\n",
       "   'compressed_segmentation_block_size': [8, 8, 8],\n",
       "   'encoding': 'compressed_segmentation',\n",
       "   'key': '256.0x256.0x264.0',\n",
       "   'resolution': [256, 256, 264],\n",
       "   'sharding': {'@type': 'neuroglancer_uint64_sharded_v1',\n",
       "    'data_encoding': 'gzip',\n",
       "    'hash': 'identity',\n",
       "    'minishard_bits': 6,\n",
       "    'minishard_index_encoding': 'gzip',\n",
       "    'preshift_bits': 9,\n",
       "    'shard_bits': 5},\n",
       "   'size': [16122, 11138, 662]},\n",
       "  {'chunk_sizes': [[64, 64, 64]],\n",
       "   'compressed_segmentation_block_size': [8, 8, 8],\n",
       "   'encoding': 'compressed_segmentation',\n",
       "   'key': '512.0x512.0x528.0',\n",
       "   'resolution': [512, 512, 528],\n",
       "   'sharding': {'@type': 'neuroglancer_uint64_sharded_v1',\n",
       "    'data_encoding': 'gzip',\n",
       "    'hash': 'identity',\n",
       "    'minishard_bits': 6,\n",
       "    'minishard_index_encoding': 'gzip',\n",
       "    'preshift_bits': 9,\n",
       "    'shard_bits': 2},\n",
       "   'size': [8061, 5569, 331]},\n",
       "  {'chunk_sizes': [[64, 64, 64]],\n",
       "   'compressed_segmentation_block_size': [8, 8, 8],\n",
       "   'encoding': 'compressed_segmentation',\n",
       "   'key': '1024.0x1024.0x1056.0',\n",
       "   'resolution': [1024, 1024, 1056],\n",
       "   'sharding': {'@type': 'neuroglancer_uint64_sharded_v1',\n",
       "    'data_encoding': 'gzip',\n",
       "    'hash': 'identity',\n",
       "    'minishard_bits': 5,\n",
       "    'minishard_index_encoding': 'gzip',\n",
       "    'preshift_bits': 9,\n",
       "    'shard_bits': 0},\n",
       "   'size': [4031, 2785, 166]},\n",
       "  {'chunk_sizes': [[64, 64, 64]],\n",
       "   'compressed_segmentation_block_size': [8, 8, 8],\n",
       "   'encoding': 'compressed_segmentation',\n",
       "   'key': '2048.0x2048.0x2112.0',\n",
       "   'resolution': [2048, 2048, 2112],\n",
       "   'sharding': {'@type': 'neuroglancer_uint64_sharded_v1',\n",
       "    'data_encoding': 'gzip',\n",
       "    'hash': 'identity',\n",
       "    'minishard_bits': 2,\n",
       "    'minishard_index_encoding': 'gzip',\n",
       "    'preshift_bits': 9,\n",
       "    'shard_bits': 0},\n",
       "   'size': [2016, 1393, 83]},\n",
       "  {'chunk_sizes': [[64, 64, 64]],\n",
       "   'compressed_segmentation_block_size': [8, 8, 8],\n",
       "   'encoding': 'compressed_segmentation',\n",
       "   'key': '4096.0x4096.0x4224.0',\n",
       "   'resolution': [4096, 4096, 4224],\n",
       "   'sharding': {'@type': 'neuroglancer_uint64_sharded_v1',\n",
       "    'data_encoding': 'gzip',\n",
       "    'hash': 'identity',\n",
       "    'minishard_bits': 0,\n",
       "    'minishard_index_encoding': 'gzip',\n",
       "    'preshift_bits': 8,\n",
       "    'shard_bits': 0},\n",
       "   'size': [1008, 697, 42]},\n",
       "  {'chunk_sizes': [[64, 64, 64]],\n",
       "   'compressed_segmentation_block_size': [8, 8, 8],\n",
       "   'encoding': 'compressed_segmentation',\n",
       "   'key': '8192.0x8192.0x8448.0',\n",
       "   'resolution': [8192, 8192, 8448],\n",
       "   'sharding': {'@type': 'neuroglancer_uint64_sharded_v1',\n",
       "    'data_encoding': 'gzip',\n",
       "    'hash': 'identity',\n",
       "    'minishard_bits': 0,\n",
       "    'minishard_index_encoding': 'gzip',\n",
       "    'preshift_bits': 6,\n",
       "    'shard_bits': 0},\n",
       "   'size': [504, 349, 21]},\n",
       "  {'chunk_sizes': [[64, 64, 64]],\n",
       "   'compressed_segmentation_block_size': [8, 8, 8],\n",
       "   'encoding': 'compressed_segmentation',\n",
       "   'key': '16384.0x16384.0x16896.0',\n",
       "   'resolution': [16384, 16384, 16896],\n",
       "   'sharding': {'@type': 'neuroglancer_uint64_sharded_v1',\n",
       "    'data_encoding': 'gzip',\n",
       "    'hash': 'identity',\n",
       "    'minishard_bits': 0,\n",
       "    'minishard_index_encoding': 'gzip',\n",
       "    'preshift_bits': 4,\n",
       "    'shard_bits': 0},\n",
       "   'size': [252, 175, 11]}],\n",
       " 'type': 'segmentation',\n",
       " 'mesh': 'mesh',\n",
       " 'skeletons': 'skeletons',\n",
       " 'segment_properties': 'segment_properties'}"
      ]
     },
     "execution_count": 22,
     "metadata": {},
     "output_type": "execute_result"
    }
   ],
   "source": [
    "img_cv.info"
   ]
  },
  {
   "cell_type": "code",
   "execution_count": 17,
   "id": "20d15298-0ca6-4c80-aab6-a3d2e9847901",
   "metadata": {},
   "outputs": [],
   "source": [
    "img = np.array(img_cv[223045:223045+100, 130013:130013+100, 1777].squeeze())"
   ]
  },
  {
   "cell_type": "code",
   "execution_count": 18,
   "id": "789c9821-570a-467f-bd55-56fbf7ab7a42",
   "metadata": {},
   "outputs": [
    {
     "data": {
      "text/plain": [
       "4668"
      ]
     },
     "execution_count": 18,
     "metadata": {},
     "output_type": "execute_result"
    }
   ],
   "source": [
    "(img != 0).sum()"
   ]
  },
  {
   "cell_type": "code",
   "execution_count": 19,
   "id": "b7465a78-5814-4d30-a630-d236767eed60",
   "metadata": {},
   "outputs": [
    {
     "data": {
      "text/plain": [
       "5332"
      ]
     },
     "execution_count": 19,
     "metadata": {},
     "output_type": "execute_result"
    }
   ],
   "source": [
    "(img == 0).sum()"
   ]
  },
  {
   "cell_type": "code",
   "execution_count": 20,
   "id": "e73ba709-25f5-4a9d-acdb-15c50706bed2",
   "metadata": {},
   "outputs": [
    {
     "data": {
      "application/vnd.jupyter.widget-view+json": {
       "model_id": "d4a7adeea8ad40b49727bafa29ef375f",
       "version_major": 2,
       "version_minor": 0
      },
      "text/plain": [
       "interactive(children=(ToggleButtons(description='Image:', options=(0,), value=0), IntText(value=1, description…"
      ]
     },
     "metadata": {},
     "output_type": "display_data"
    }
   ],
   "source": [
    "simple_visualizer().visualize([img])"
   ]
  },
  {
   "cell_type": "code",
   "execution_count": null,
   "id": "928567e4-5489-4ad8-86ca-370b7990d9e2",
   "metadata": {},
   "outputs": [],
   "source": []
  }
 ],
 "metadata": {
  "kernelspec": {
   "display_name": "corgie_env_x33",
   "language": "python",
   "name": "corgie_env_x33"
  },
  "language_info": {
   "codemirror_mode": {
    "name": "ipython",
    "version": 3
   },
   "file_extension": ".py",
   "mimetype": "text/x-python",
   "name": "python",
   "nbconvert_exporter": "python",
   "pygments_lexer": "ipython3",
   "version": "3.8.12"
  }
 },
 "nbformat": 4,
 "nbformat_minor": 5
}
